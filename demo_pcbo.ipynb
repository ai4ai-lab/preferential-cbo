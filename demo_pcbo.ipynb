{
 "cells": [
  {
   "cell_type": "markdown",
   "id": "dc6409b5",
   "metadata": {},
   "source": [
    "# PCBO: Preferential Causal Bayesian Optimisation\n"
   ]
  },
  {
   "cell_type": "code",
   "execution_count": 1,
   "id": "a950291d",
   "metadata": {},
   "outputs": [
    {
     "name": "stdout",
     "output_type": "stream",
     "text": [
      "Using device: cpu\n"
     ]
    }
   ],
   "source": [
    "import torch\n",
    "import numpy as np\n",
    "import matplotlib.pyplot as plt\n",
    "from tqdm import tqdm\n",
    "\n",
    "# Custom modules\n",
    "from flows import RealNVP, create_base_distribution\n",
    "from prefflow import PrefFlow\n",
    "from pcbo_dataset import PCBO_SyntheticDataset\n",
    "from parent_posterior import ParentPosterior\n",
    "from acquisition import pig_pairwise, eeig_pairwise\n",
    "from dag_visual import plot_dag\n",
    "\n",
    "# Set random seeds\n",
    "torch.manual_seed(42)\n",
    "np.random.seed(42)\n",
    "\n",
    "# Device and precision\n",
    "device = torch.device(\"cuda\" if torch.cuda.is_available() else \"cpu\")\n",
    "PRECISION_DOUBLE = True\n",
    "print(f\"Using device: {device}\")"
   ]
  },
  {
   "cell_type": "markdown",
   "id": "8ee7d6ee",
   "metadata": {},
   "source": [
    "## Problem Setup"
   ]
  },
  {
   "cell_type": "code",
   "execution_count": 2,
   "id": "b3c7696e",
   "metadata": {},
   "outputs": [
    {
     "name": "stdout",
     "output_type": "stream",
     "text": [
      "True causal graph:\n",
      "tensor([[0., 0., 1.],\n",
      "        [0., 0., 1.],\n",
      "        [0., 0., 0.]])\n",
      "Node names: ['X1', 'X2', 'Y']\n"
     ]
    }
   ],
   "source": [
    "\"\"\"\n",
    "Toy Problem: X1 -> Y <- X2\n",
    "- We can intervene on X1, X2, or Y\n",
    "- True utility: minimize |Y| with small intervention cost\n",
    "- Learn both the causal graph and utility function from preferences\n",
    "\"\"\"\n",
    "\n",
    "# Problem parameters\n",
    "n_nodes = 3  # X1, X2, Y\n",
    "d_utility = 2  # Dimensionality for utility function input (e.g. intervention outcome features)\n",
    "n_initial_prefs = 20  # Initial preference data\n",
    "n_iterations = 50  # PCBO iterations\n",
    "k = 2  # k-wise preferences (pairwise for now)\n",
    "flow_layers = 5  # Number of flow layers in the PrefFlow\n",
    "\n",
    "# Create synthetic dataset\n",
    "dataset = PCBO_SyntheticDataset(\n",
    "    n_nodes=n_nodes,\n",
    "    n_queries=n_initial_prefs,\n",
    "    k=k,\n",
    "    noise_std=0.1,\n",
    "    domain=(-2, 2),\n",
    "    seed=42\n",
    ")\n",
    "\n",
    "true_adj, node_names = dataset.get_causal_graph()\n",
    "print(f\"True causal graph:\\n{true_adj}\")\n",
    "print(f\"Node names: {node_names}\")"
   ]
  },
  {
   "cell_type": "markdown",
   "id": "c3b0a6f1",
   "metadata": {},
   "source": [
    "## Helper Classes and Functions"
   ]
  },
  {
   "cell_type": "code",
   "execution_count": 3,
   "id": "36531271",
   "metadata": {},
   "outputs": [],
   "source": [
    "class PreferenceDataset:\n",
    "    \"\"\"Efficient storage for preference comparisons\"\"\"\n",
    "    def __init__(self, device):\n",
    "        self.device = device\n",
    "        self.feature_pairs = []  # List of (feat_winner, feat_loser) tuples\n",
    "        self.labels = []  # List of labels (always 1.0 for winner first)\n",
    "        self._X_cache = None\n",
    "        self._Y_cache = None\n",
    "        self._cache_valid = False\n",
    "        \n",
    "    def add_preference(self, outcome_winner, outcome_loser):\n",
    "        \"\"\"Add a new preference comparison\"\"\"\n",
    "        feat_winner = intervention_to_utility_features(outcome_winner)\n",
    "        feat_loser = intervention_to_utility_features(outcome_loser)\n",
    "        self.feature_pairs.append((feat_winner, feat_loser))\n",
    "        self.labels.append(1.0)\n",
    "        self._cache_valid = False\n",
    "        \n",
    "    def add_from_query(self, query_data):\n",
    "        \"\"\"Add preferences from a query with k options\"\"\"\n",
    "        outcomes = query_data['outcomes']\n",
    "        winner_idx = query_data['winner_idx']\n",
    "        \n",
    "        # Compare winner against all losers\n",
    "        for i in range(len(outcomes)):\n",
    "            if i != winner_idx:\n",
    "                self.add_preference(outcomes[winner_idx], outcomes[i])\n",
    "        \n",
    "    def get_batch(self, last_n=None):\n",
    "        \"\"\"Get preference data in PrefFlow format\"\"\"\n",
    "        if len(self.feature_pairs) == 0:\n",
    "            return None, None\n",
    "            \n",
    "        pairs = self.feature_pairs[-last_n:] if last_n else self.feature_pairs\n",
    "        labels = self.labels[-last_n:] if last_n else self.labels\n",
    "        \n",
    "        n_comparisons = len(pairs)\n",
    "        feat_dim = pairs[0][0].shape[0]\n",
    "        X = torch.zeros(2, feat_dim, n_comparisons).to(self.device)\n",
    "        \n",
    "        for i, (feat1, feat2) in enumerate(pairs):\n",
    "            X[0, :, i] = feat1.to(self.device)\n",
    "            X[1, :, i] = feat2.to(self.device)\n",
    "        \n",
    "        Y = torch.tensor(labels, dtype=torch.float32).to(self.device)\n",
    "        \n",
    "        return X, Y\n",
    "    \n",
    "    def __len__(self):\n",
    "        return len(self.feature_pairs)\n",
    "\n",
    "def intervention_to_utility_features(intervention_outcome):\n",
    "    \"\"\"\n",
    "    Map intervention outcomes to features for utility function\n",
    "    Normalized to prevent numerical issues\n",
    "    \"\"\"\n",
    "    if not isinstance(intervention_outcome, torch.Tensor):\n",
    "        intervention_outcome = torch.tensor(intervention_outcome, dtype=torch.float32)\n",
    "    \n",
    "    # Normalise Y value to [-1, 1] range\n",
    "    y_value = intervention_outcome[2] if intervention_outcome.dim() > 0 else intervention_outcome\n",
    "    y_normalized = torch.tanh(y_value / 2.0)  # Assuming Y is roughly in [-2, 2]\n",
    "\n",
    "    # Fixed intervention cost (also normalised)\n",
    "    intervention_cost = 0.1\n",
    "    \n",
    "    features = torch.tensor([\n",
    "        y_normalized.item() if isinstance(y_normalized, torch.Tensor) else y_normalized,\n",
    "        intervention_cost\n",
    "    ], dtype=torch.float32)\n",
    "    \n",
    "    return features"
   ]
  },
  {
   "cell_type": "markdown",
   "id": "43bdcaf8",
   "metadata": {},
   "source": [
    "## PCBO Main Class"
   ]
  },
  {
   "cell_type": "code",
   "execution_count": 4,
   "id": "88735033",
   "metadata": {},
   "outputs": [],
   "source": [
    "class PCBO:\n",
    "    def __init__(self, dataset, device, n_iterations=50):\n",
    "        self.dataset = dataset\n",
    "        self.device = device\n",
    "        self.n_iterations = n_iterations\n",
    "        \n",
    "        # Initialise components\n",
    "        self.pref_flow = self._create_flow()\n",
    "        self.parent_posterior = ParentPosterior(\n",
    "            d=2,  # Number of candidate parents (X1, X2)\n",
    "            a0=1.0, b0=1.0,  # Weak IG prior\n",
    "            tau2=1.0,  # Ridge scale\n",
    "            prior_sparsity=0.5,  # Uninformative on edges\n",
    "            device=device, dtype=torch.float64\n",
    "        )\n",
    "        \n",
    "        # Get true adjacency matrix\n",
    "        self.true_adj, self.node_names = dataset.get_causal_graph()\n",
    "        \n",
    "        # Efficient preference storage\n",
    "        self.pref_dataset = PreferenceDataset(device)\n",
    "        \n",
    "        # Storage for tracking progress\n",
    "        self.iteration_history = []\n",
    "        self.graph_distances = []\n",
    "        self.utility_errors = []\n",
    "        self.edge_prob_errors = []\n",
    "        self.selected_interventions = []\n",
    "        self.causal_buffer = []  # Buffer for causal updates\n",
    "        \n",
    "        # Stability tracking\n",
    "        self.flow_stable = True\n",
    "        self.instability_count = 0\n",
    "        self.reinitialization_count = 0\n",
    "        \n",
    "    def _create_flow(self):\n",
    "        \"\"\"Create a fresh PrefFlow model\"\"\"\n",
    "        base_dist = create_base_distribution(d_utility, self.device, PRECISION_DOUBLE)\n",
    "        nf_model = RealNVP(flow_layers, d_utility, base_dist, self.device, PRECISION_DOUBLE)\n",
    "        \n",
    "        s_init = 1.0\n",
    "        pref_flow = PrefFlow(nf_model, s_init, d_utility, ranking=False, \n",
    "                            device=self.device, precision_double=PRECISION_DOUBLE)\n",
    "        return pref_flow\n",
    "        \n",
    "    def train_utility_on_preferences(self, n_epochs=50, lr=1e-4, batch_size=None):\n",
    "        \"\"\"\n",
    "        Update PrefFlow based on preference data with improved stability\n",
    "        \"\"\"\n",
    "        # Use all available data if batch_size not specified\n",
    "        if batch_size is None:\n",
    "            batch_size = min(40, len(self.pref_dataset))\n",
    "        \n",
    "        # Get data from preference dataset\n",
    "        X, Y = self.pref_dataset.get_batch(last_n=batch_size)\n",
    "        \n",
    "        if X is None or Y is None:\n",
    "            print(\"    No preference data available\")\n",
    "            return []\n",
    "        \n",
    "        optimizer = torch.optim.Adam(self.pref_flow.parameters(), lr=lr)\n",
    "        losses = []\n",
    "        \n",
    "        for epoch in range(n_epochs):\n",
    "            optimizer.zero_grad()\n",
    "            \n",
    "            try:\n",
    "                # Compute loss\n",
    "                log_posterior = self.pref_flow.logposterior((X, Y))\n",
    "                \n",
    "                # Check for NaN\n",
    "                if torch.isnan(log_posterior) or torch.isinf(log_posterior):\n",
    "                    self.flow_stable = False\n",
    "                    self.instability_count += 1\n",
    "                    \n",
    "                    if self.instability_count > 5:\n",
    "                        print(f\"    Flow unstable, reinitializing...\")\n",
    "                        self._reinitialize_flow()\n",
    "                        return self.train_utility_on_preferences(n_epochs//2, lr*0.5, batch_size)\n",
    "                    continue\n",
    "                \n",
    "                loss = -log_posterior\n",
    "                \n",
    "                # Only backprop if loss is valid and reasonable\n",
    "                if not torch.isnan(loss) and not torch.isinf(loss) and abs(loss.item()) < 1e6:\n",
    "                    loss.backward()\n",
    "                    \n",
    "                    # Gradient clipping for stability\n",
    "                    torch.nn.utils.clip_grad_norm_(self.pref_flow.parameters(), max_norm=1.0)\n",
    "                    \n",
    "                    optimizer.step()\n",
    "                    losses.append(loss.item())\n",
    "                    \n",
    "                    # Reset instability count on successful training\n",
    "                    self.flow_stable = True\n",
    "                    self.instability_count = 0\n",
    "                    \n",
    "                    if epoch % 20 == 0:\n",
    "                        print(f\"    Epoch {epoch}, Loss: {loss.item():.4f}\")\n",
    "                        \n",
    "            except Exception as e:\n",
    "                print(f\"    Error during training: {e}\")\n",
    "                self.instability_count += 1\n",
    "                if self.instability_count > 5:\n",
    "                    self._reinitialize_flow()\n",
    "                    return losses\n",
    "                    \n",
    "        return losses\n",
    "    \n",
    "    def _reinitialize_flow(self):\n",
    "        \"\"\"Reinitialise the flow if it becomes unstable\"\"\"\n",
    "        print(\"    Creating new flow due to instability...\")\n",
    "        self.pref_flow = self._create_flow()\n",
    "        self.flow_stable = True\n",
    "        self.reinitialization_count += 1\n",
    "    \n",
    "    def select_next_intervention(self, current_iteration=0, n_candidates=30):\n",
    "        \"\"\"\n",
    "        Select next intervention using PCBO acquisition functions\n",
    "        \"\"\"\n",
    "        # Generate candidate interventions\n",
    "        candidate_interventions = []\n",
    "        candidate_features = []\n",
    "        \n",
    "        # Ensure coverage of all nodes\n",
    "        for node_idx in range(self.dataset.n_nodes):\n",
    "            n_per_node = n_candidates // self.dataset.n_nodes\n",
    "            for _ in range(n_per_node):\n",
    "                value = np.random.uniform(-2, 2)\n",
    "                intervention = (node_idx, value)\n",
    "                candidate_interventions.append(intervention)\n",
    "                \n",
    "                # Execute intervention to get outcome\n",
    "                outcome = self.dataset._compute_intervention_outcome(node_idx, value)\n",
    "                # Convert to utility features\n",
    "                features = intervention_to_utility_features(outcome)\n",
    "                candidate_features.append(features)\n",
    "\n",
    "        # Targeted exploration for early iterations\n",
    "        if current_iteration < 10:\n",
    "            target_node = current_iteration % 2  # Alternate between X1 and X2\n",
    "            for _ in range(5):  # Add a few extra candidates for target_node\n",
    "                value = np.random.uniform(-2, 2)\n",
    "                intervention = (target_node, value)\n",
    "                candidate_interventions.append(intervention)\n",
    "                outcome = self.dataset._compute_intervention_outcome(target_node, value)\n",
    "                features = intervention_to_utility_features(outcome)\n",
    "                candidate_features.append(features)\n",
    "        \n",
    "        # If flow is unstable, use random selection\n",
    "        if not self.flow_stable:\n",
    "            print(\"    Flow unstable, using random selection\")\n",
    "            return candidate_interventions[np.random.randint(len(candidate_interventions))]\n",
    "        \n",
    "        # Stack features\n",
    "        candidate_features = torch.stack(candidate_features).to(self.device)\n",
    "        \n",
    "        # Select anchor intervention\n",
    "        if len(self.selected_interventions) > 0:\n",
    "            # Use a recent successful intervention as anchor\n",
    "            anchor_idx = min(5, len(self.selected_interventions))\n",
    "            anchor_intervention = self.selected_interventions[-anchor_idx]\n",
    "            anchor_node, anchor_value = anchor_intervention\n",
    "            \n",
    "            # Get anchor features\n",
    "            anchor_outcome = self.dataset._compute_intervention_outcome(anchor_node, anchor_value)\n",
    "            anchor_features = intervention_to_utility_features(anchor_outcome)\n",
    "        else:\n",
    "            # First iteration: use first candidate as anchor\n",
    "            anchor_idx = 0\n",
    "            anchor_intervention = candidate_interventions[anchor_idx]\n",
    "            anchor_features = candidate_features[anchor_idx]\n",
    "        \n",
    "        anchor_features = anchor_features.unsqueeze(0).to(self.device)\n",
    "        \n",
    "        try:\n",
    "            with torch.no_grad():\n",
    "                # 1. Preference Information Gain (for utility learning)\n",
    "                pig_scores = pig_pairwise(\n",
    "                    self.pref_flow, \n",
    "                    anchor_features, \n",
    "                    candidate_features, \n",
    "                    self.pref_flow.s.item()\n",
    "                )\n",
    "                \n",
    "                # 2. Edge Entropy Information Gain (for causal discovery)\n",
    "                eeig_scores = eeig_pairwise(\n",
    "                    self.pref_flow, \n",
    "                    self.parent_posterior, \n",
    "                    anchor_features, \n",
    "                    candidate_features, \n",
    "                    self.pref_flow.s.item()\n",
    "                )\n",
    "            \n",
    "            # Compute adaptive weight between objectives\n",
    "            alpha = self._compute_acquisition_weight(current_iteration)\n",
    "            \n",
    "            # Combine acquisition functions\n",
    "            combined_scores = alpha * pig_scores + (1 - alpha) * eeig_scores\n",
    "            \n",
    "            # Add exploration bonus\n",
    "            exploration_bonus = self._compute_exploration_bonus(candidate_interventions)\n",
    "            combined_scores += 0.1 * exploration_bonus\n",
    "            \n",
    "            # Add small random noise for tie-breaking\n",
    "            combined_scores += 0.01 * np.random.randn(len(combined_scores))\n",
    "            \n",
    "            # Select best intervention\n",
    "            best_idx = np.argmax(combined_scores)\n",
    "            selected_intervention = candidate_interventions[best_idx]\n",
    "            \n",
    "            # Store info for analysis\n",
    "            self.last_acquisition_info = {\n",
    "                'pig_scores': pig_scores,\n",
    "                'eeig_scores': eeig_scores,\n",
    "                'combined_scores': combined_scores,\n",
    "                'alpha': alpha,\n",
    "                'selected': selected_intervention\n",
    "            }\n",
    "            \n",
    "            print(f\"    Selected: Node {selected_intervention[0]}, Value {selected_intervention[1]:.3f}\")\n",
    "            print(f\"    Scores - PIG: {pig_scores[best_idx]:.3f}, EEIG: {eeig_scores[best_idx]:.3f}\")\n",
    "            print(f\"    Alpha (utility weight): {alpha:.3f}\")\n",
    "            \n",
    "        except Exception as e:\n",
    "            print(f\"    Acquisition failed ({e}), using random selection\")\n",
    "            selected_intervention = candidate_interventions[np.random.randint(len(candidate_interventions))]\n",
    "            \n",
    "        return selected_intervention\n",
    "\n",
    "    def _compute_acquisition_weight(self, iteration):\n",
    "        \"\"\"\n",
    "        Compute adaptive weight for PIG (utility learning)\n",
    "        Early: Low alpha (focus on causal discovery via EEIG)\n",
    "        Late: High alpha (focus on utility learning via PIG)\n",
    "        \"\"\"\n",
    "        progress = iteration / self.n_iterations\n",
    "        \n",
    "        # Cosine annealing from 0.2 to 0.8\n",
    "        min_alpha = 0.2\n",
    "        max_alpha = 0.8\n",
    "        alpha = min_alpha + (max_alpha - min_alpha) * 0.5 * (1 + np.cos(np.pi * (1 - progress)))\n",
    "\n",
    "        if hasattr(self, '_force_utility_focus') and self._force_utility_focus:\n",
    "            return 0.9  # Heavy focus on utility\n",
    "\n",
    "        return alpha\n",
    "\n",
    "    def _compute_exploration_bonus(self, candidate_interventions):\n",
    "        \"\"\"\n",
    "        Compute exploration bonus for each candidate based on novelty\n",
    "        \"\"\"\n",
    "        if len(self.selected_interventions) == 0:\n",
    "            return np.zeros(len(candidate_interventions))\n",
    "            \n",
    "        bonuses = []\n",
    "        \n",
    "        for node_idx, value in candidate_interventions:\n",
    "            # Count previous interventions on this node\n",
    "            node_count = sum(1 for n, v in self.selected_interventions if n == node_idx)\n",
    "            node_novelty = 1.0 / (1.0 + node_count)\n",
    "            \n",
    "            # Check value novelty\n",
    "            same_node_values = [v for n, v in self.selected_interventions if n == node_idx]\n",
    "            if same_node_values:\n",
    "                min_distance = min(abs(value - v) for v in same_node_values)\n",
    "                value_novelty = np.tanh(min_distance)\n",
    "            else:\n",
    "                value_novelty = 1.0\n",
    "            \n",
    "            # Combined novelty score\n",
    "            bonus = 0.5 * node_novelty + 0.5 * value_novelty\n",
    "            bonuses.append(bonus)\n",
    "        \n",
    "        return np.array(bonuses)\n",
    "    \n",
    "    def evaluate_current_performance(self):\n",
    "        \"\"\"Evaluate current graph reconstruction and utility learning\"\"\"\n",
    "        # Get edge posteriors\n",
    "        edge_probs = self.parent_posterior.edge_posterior()\n",
    "        \n",
    "        # True edges (X1->Y and X2->Y both exist)\n",
    "        true_edges = torch.tensor([1.0, 1.0])\n",
    "        \n",
    "        # Edge probability error (smooth metric)\n",
    "        edge_prob_error = torch.mean(torch.abs(edge_probs - true_edges)).item()\n",
    "        \n",
    "        # SHD for discrete graph comparison\n",
    "        most_prob_parents, prob = self.parent_posterior.most_probable_set()\n",
    "        learned_adj = torch.zeros_like(self.true_adj)\n",
    "        for i, is_parent in enumerate(most_prob_parents):\n",
    "            if is_parent:\n",
    "                learned_adj[i, 2] = 1\n",
    "        shd = torch.sum(torch.abs(learned_adj - self.true_adj)).item()\n",
    "        \n",
    "        # Utility learning: preference accuracy\n",
    "        util_error = self._evaluate_utility_accuracy()\n",
    "        \n",
    "        return shd, util_error, edge_prob_error\n",
    "    \n",
    "    def _evaluate_utility_accuracy(self, n_test=10):\n",
    "        \"\"\"Test preference prediction accuracy\"\"\"\n",
    "        if not self.flow_stable or len(self.pref_dataset) < 10:\n",
    "            return 1.0\n",
    "        \n",
    "        correct = 0\n",
    "        total = 0\n",
    "        \n",
    "        with torch.no_grad():\n",
    "            for _ in range(n_test):\n",
    "                # Generate two random interventions\n",
    "                interventions = []\n",
    "                outcomes = []\n",
    "                features = []\n",
    "                \n",
    "                for _ in range(2):\n",
    "                    node = np.random.randint(0, self.dataset.n_nodes)\n",
    "                    value = np.random.uniform(-2, 2)\n",
    "                    outcome = self.dataset._compute_intervention_outcome(node, value)\n",
    "                    \n",
    "                    interventions.append((node, value))\n",
    "                    outcomes.append(outcome)\n",
    "                    features.append(intervention_to_utility_features(outcome))\n",
    "                \n",
    "                # True preference\n",
    "                true_utils = [self.dataset._true_utility(out, inter[0]) \n",
    "                             for out, inter in zip(outcomes, interventions)]\n",
    "                true_pref = true_utils[0] > true_utils[1]\n",
    "                \n",
    "                # Learned preference\n",
    "                try:\n",
    "                    feat_tensor = torch.stack(features).to(self.device)\n",
    "                    log_utils, _ = self.pref_flow.f(feat_tensor)\n",
    "                    \n",
    "                    if not torch.any(torch.isnan(log_utils)):\n",
    "                        learned_pref = log_utils[0] > log_utils[1]\n",
    "                        if true_pref == learned_pref:\n",
    "                            correct += 1\n",
    "                        total += 1\n",
    "                except:\n",
    "                    pass\n",
    "        \n",
    "        return 1.0 - (correct / total if total > 0 else 0)\n",
    "    \n",
    "    def update_causal_posterior_from_outcome(self, node_idx, outcome):\n",
    "        \"\"\"Add a single data point from executed intervention for future posterior update\"\"\"\n",
    "        x_values = outcome[:2].unsqueeze(0)\n",
    "        y_value = outcome[2]\n",
    "        self.causal_buffer.append((x_values, y_value))\n",
    "    \n",
    "    def run_iteration(self, all_queries, current_iteration):\n",
    "        \"\"\"\n",
    "        Run one PCBO iteration:\n",
    "        - Trains preference flow if enough preferences\n",
    "        - Updates causal posterior (periodically)\n",
    "        - Selects next intervention\n",
    "        - Executes only the chosen intervention\n",
    "        - Creates a preference query using a random opponent\n",
    "        - Adds the executed data point to causal buffer\n",
    "        - Updates causal posterior in batch\n",
    "        \"\"\"\n",
    "        # Step 1: Update utility function from preferences\n",
    "        print(\"  Updating utility function...\")\n",
    "        if len(self.pref_dataset) >= 10:\n",
    "            self.train_utility_on_preferences()\n",
    "\n",
    "        # Step 2: Periodic causal update (from buffer)\n",
    "        print(\"  Updating causal posterior...\")\n",
    "        if len(self.causal_buffer) >= 5:\n",
    "            for x, y in self.causal_buffer:\n",
    "                self.parent_posterior.add_datapoint(x, y)\n",
    "            self.parent_posterior.update_posterior()\n",
    "            self.causal_buffer = []\n",
    "\n",
    "        # Step 3: Select next intervention\n",
    "        print(\"  Selecting next intervention...\")\n",
    "        intervention = self.select_next_intervention(current_iteration)\n",
    "        self.selected_interventions.append(intervention)\n",
    "\n",
    "        # Step 4: Execute intervention (observed!)\n",
    "        node_idx, value = intervention\n",
    "        outcome = self.dataset._compute_intervention_outcome(node_idx, value)\n",
    "\n",
    "        # Step 5: Simulate a random opponent intervention\n",
    "        alt_node = np.random.randint(0, self.dataset.n_nodes)\n",
    "        alt_value = np.random.uniform(-2, 2)\n",
    "        alt_outcome = self.dataset._compute_intervention_outcome(alt_node, alt_value)\n",
    "\n",
    "        # Step 6: Simulate noisy preference (no leakage)\n",
    "        utility_main = self.dataset._true_utility(outcome, node_idx)\n",
    "        utility_alt = self.dataset._true_utility(alt_outcome, alt_node)\n",
    "        winner_idx = 0 if utility_main > utility_alt else 1\n",
    "\n",
    "        new_query = {\n",
    "            'interventions': [(node_idx, value), (alt_node, alt_value)],\n",
    "            'outcomes': torch.stack([outcome, alt_outcome]),\n",
    "            'winner_idx': winner_idx,\n",
    "            'utilities': torch.tensor([utility_main, utility_alt])\n",
    "        }\n",
    "\n",
    "        # Step 7: Add to preference dataset (for PrefFlow)\n",
    "        self.pref_dataset.add_from_query(new_query)\n",
    "\n",
    "        # Step 8: Add to causal buffer via helper method\n",
    "        self.update_causal_posterior_from_outcome(node_idx, outcome)\n",
    "\n",
    "        # Step 9: Evaluate causal performance\n",
    "        _, _, edge_prob_error = self.evaluate_current_performance()\n",
    "        if edge_prob_error < 0.1 and current_iteration > 20:\n",
    "            print(f\"  Causal structure converged! Focusing on utility learning.\")\n",
    "            self._force_utility_focus = True\n",
    "\n",
    "        return new_query"
   ]
  },
  {
   "cell_type": "markdown",
   "id": "7946d681",
   "metadata": {},
   "source": [
    "## Run PCBO"
   ]
  },
  {
   "cell_type": "code",
   "execution_count": 5,
   "id": "b4b14748",
   "metadata": {},
   "outputs": [
    {
     "name": "stdout",
     "output_type": "stream",
     "text": [
      "Starting PCBO iterations...\n"
     ]
    },
    {
     "name": "stderr",
     "output_type": "stream",
     "text": [
      "  0%|          | 0/50 [00:00<?, ?it/s]"
     ]
    },
    {
     "name": "stdout",
     "output_type": "stream",
     "text": [
      "\n",
      "Iteration 1/50\n",
      "  Updating utility function...\n",
      "    Epoch 0, Loss: 50.6627\n",
      "    Epoch 20, Loss: 49.7860\n",
      "    Epoch 40, Loss: 48.9162\n"
     ]
    },
    {
     "name": "stderr",
     "output_type": "stream",
     "text": [
      "  2%|▏         | 1/50 [00:01<00:57,  1.18s/it]"
     ]
    },
    {
     "name": "stdout",
     "output_type": "stream",
     "text": [
      "  Updating causal posterior...\n",
      "  Selecting next intervention...\n",
      "    Selected: Node 1, Value 1.330\n",
      "    Scores - PIG: 0.693, EEIG: 0.000\n",
      "    Alpha (utility weight): 0.200\n",
      "\n",
      "Iteration 2/50\n",
      "  Updating utility function...\n",
      "    Epoch 0, Loss: 50.9461\n",
      "    Epoch 20, Loss: 50.0411\n"
     ]
    },
    {
     "name": "stderr",
     "output_type": "stream",
     "text": [
      "  4%|▍         | 2/50 [00:01<00:31,  1.54it/s]"
     ]
    },
    {
     "name": "stdout",
     "output_type": "stream",
     "text": [
      "    Epoch 40, Loss: 49.1459\n",
      "  Updating causal posterior...\n",
      "  Selecting next intervention...\n",
      "    Selected: Node 2, Value -1.450\n",
      "    Scores - PIG: 0.693, EEIG: 0.003\n",
      "    Alpha (utility weight): 0.201\n",
      "\n",
      "Iteration 3/50\n",
      "  Updating utility function...\n",
      "    Epoch 0, Loss: 50.8868\n",
      "    Epoch 20, Loss: 49.9510\n"
     ]
    },
    {
     "name": "stderr",
     "output_type": "stream",
     "text": [
      "  6%|▌         | 3/50 [00:01<00:22,  2.07it/s]"
     ]
    },
    {
     "name": "stdout",
     "output_type": "stream",
     "text": [
      "    Epoch 40, Loss: 49.0246\n",
      "  Updating causal posterior...\n",
      "  Selecting next intervention...\n",
      "    Selected: Node 0, Value -0.917\n",
      "    Scores - PIG: 0.692, EEIG: 0.001\n",
      "    Alpha (utility weight): 0.202\n",
      "\n",
      "Iteration 4/50\n",
      "  Updating utility function...\n",
      "    Epoch 0, Loss: 50.7958\n",
      "    Epoch 20, Loss: 49.8240\n"
     ]
    },
    {
     "name": "stderr",
     "output_type": "stream",
     "text": [
      "  8%|▊         | 4/50 [00:02<00:18,  2.47it/s]"
     ]
    },
    {
     "name": "stdout",
     "output_type": "stream",
     "text": [
      "    Epoch 40, Loss: 48.8492\n",
      "  Updating causal posterior...\n",
      "  Selecting next intervention...\n",
      "    Selected: Node 2, Value 1.880\n",
      "    Scores - PIG: 0.685, EEIG: 0.003\n",
      "    Alpha (utility weight): 0.205\n",
      "\n",
      "Iteration 5/50\n",
      "  Updating utility function...\n",
      "    Epoch 0, Loss: 50.3804\n"
     ]
    },
    {
     "name": "stderr",
     "output_type": "stream",
     "text": [
      " 10%|█         | 5/50 [00:02<00:16,  2.72it/s]"
     ]
    },
    {
     "name": "stdout",
     "output_type": "stream",
     "text": [
      "    Epoch 20, Loss: 49.3403\n",
      "    Epoch 40, Loss: 48.3127\n",
      "  Updating causal posterior...\n",
      "  Selecting next intervention...\n",
      "    Selected: Node 0, Value 1.473\n",
      "    Scores - PIG: 0.691, EEIG: 0.000\n",
      "    Alpha (utility weight): 0.209\n",
      "\n",
      "Iteration 6/50\n",
      "  Updating utility function...\n",
      "    Epoch 0, Loss: 49.9311\n",
      "    Epoch 20, Loss: 48.8338\n"
     ]
    },
    {
     "name": "stderr",
     "output_type": "stream",
     "text": [
      " 12%|█▏        | 6/50 [00:02<00:15,  2.82it/s]"
     ]
    },
    {
     "name": "stdout",
     "output_type": "stream",
     "text": [
      "    Epoch 40, Loss: 47.7541\n",
      "  Updating causal posterior...\n",
      "  Selecting next intervention...\n",
      "    Selected: Node 1, Value -1.908\n",
      "    Scores - PIG: 0.693, EEIG: 0.016\n",
      "    Alpha (utility weight): 0.215\n",
      "\n",
      "Iteration 7/50\n",
      "  Updating utility function...\n",
      "    Epoch 0, Loss: 49.1661\n"
     ]
    },
    {
     "name": "stderr",
     "output_type": "stream",
     "text": [
      " 14%|█▍        | 7/50 [00:02<00:14,  2.97it/s]"
     ]
    },
    {
     "name": "stdout",
     "output_type": "stream",
     "text": [
      "    Epoch 20, Loss: 48.0388\n",
      "    Epoch 40, Loss: 46.9222\n",
      "  Updating causal posterior...\n",
      "  Selecting next intervention...\n",
      "    Selected: Node 1, Value -0.390\n",
      "    Scores - PIG: 0.684, EEIG: 0.015\n",
      "    Alpha (utility weight): 0.221\n",
      "\n",
      "Iteration 8/50\n",
      "  Updating utility function...\n",
      "    Epoch 0, Loss: 48.3093\n",
      "    Epoch 20, Loss: 47.1303\n",
      "    Epoch 40, Loss: 45.9675\n"
     ]
    },
    {
     "name": "stderr",
     "output_type": "stream",
     "text": [
      " 16%|█▌        | 8/50 [00:03<00:13,  3.10it/s]"
     ]
    },
    {
     "name": "stdout",
     "output_type": "stream",
     "text": [
      "  Updating causal posterior...\n",
      "  Selecting next intervention...\n",
      "    Selected: Node 2, Value 1.305\n",
      "    Scores - PIG: 0.692, EEIG: 0.015\n",
      "    Alpha (utility weight): 0.229\n",
      "\n",
      "Iteration 9/50\n",
      "  Updating utility function...\n",
      "    Epoch 0, Loss: 46.8561\n",
      "    Epoch 20, Loss: 45.6386\n"
     ]
    },
    {
     "name": "stderr",
     "output_type": "stream",
     "text": [
      " 18%|█▊        | 9/50 [00:03<00:12,  3.17it/s]"
     ]
    },
    {
     "name": "stdout",
     "output_type": "stream",
     "text": [
      "    Epoch 40, Loss: 44.4205\n",
      "  Updating causal posterior...\n",
      "  Selecting next intervention...\n",
      "    Selected: Node 0, Value -1.995\n",
      "    Scores - PIG: 0.657, EEIG: 0.015\n",
      "    Alpha (utility weight): 0.237\n",
      "\n",
      "Iteration 10/50\n",
      "  Updating utility function...\n",
      "    Epoch 0, Loss: 45.3419\n",
      "    Epoch 20, Loss: 44.0736\n",
      "    Epoch 40, Loss: 42.8045\n",
      "  Updating causal posterior...\n",
      "  Selecting next intervention...\n",
      "    Selected: Node 1, Value -1.321\n",
      "    Scores - PIG: 0.693, EEIG: 0.015\n",
      "    Alpha (utility weight): 0.247\n",
      "  SHD: 0.00, Edge prob error: 0.291\n",
      "  Utility error: 0.000\n",
      "  Edge probabilities: [0.77688577 0.64169926]\n"
     ]
    },
    {
     "name": "stderr",
     "output_type": "stream",
     "text": [
      " 20%|██        | 10/50 [00:03<00:12,  3.18it/s]"
     ]
    },
    {
     "name": "stdout",
     "output_type": "stream",
     "text": [
      "  Most probable parents: ((1, 1), 0.4952837505338715)\n",
      "\n",
      "Iteration 11/50\n",
      "  Updating utility function...\n",
      "    Epoch 0, Loss: 43.8848\n",
      "    Epoch 20, Loss: 42.5575\n"
     ]
    },
    {
     "name": "stderr",
     "output_type": "stream",
     "text": [
      " 22%|██▏       | 11/50 [00:04<00:12,  3.17it/s]"
     ]
    },
    {
     "name": "stdout",
     "output_type": "stream",
     "text": [
      "    Epoch 40, Loss: 41.2507\n",
      "  Updating causal posterior...\n",
      "  Selecting next intervention...\n",
      "    Selected: Node 2, Value 0.106\n",
      "    Scores - PIG: 0.671, EEIG: 0.021\n",
      "    Alpha (utility weight): 0.257\n",
      "\n",
      "Iteration 12/50\n",
      "  Updating utility function...\n",
      "    Epoch 0, Loss: 42.0182\n"
     ]
    },
    {
     "name": "stderr",
     "output_type": "stream",
     "text": [
      " 24%|██▍       | 12/50 [00:04<00:11,  3.19it/s]"
     ]
    },
    {
     "name": "stdout",
     "output_type": "stream",
     "text": [
      "    Epoch 20, Loss: 40.6634\n",
      "    Epoch 40, Loss: 39.3068\n",
      "  Updating causal posterior...\n",
      "  Selecting next intervention...\n",
      "    Selected: Node 0, Value 0.402\n",
      "    Scores - PIG: 0.693, EEIG: 0.022\n",
      "    Alpha (utility weight): 0.269\n",
      "\n",
      "Iteration 13/50\n",
      "  Updating utility function...\n",
      "    Epoch 0, Loss: 39.5883\n"
     ]
    },
    {
     "name": "stderr",
     "output_type": "stream",
     "text": [
      " 26%|██▌       | 13/50 [00:04<00:11,  3.23it/s]"
     ]
    },
    {
     "name": "stdout",
     "output_type": "stream",
     "text": [
      "    Epoch 20, Loss: 38.1774\n",
      "    Epoch 40, Loss: 36.7654\n",
      "  Updating causal posterior...\n",
      "  Selecting next intervention...\n",
      "    Selected: Node 0, Value -0.450\n",
      "    Scores - PIG: 0.674, EEIG: 0.019\n",
      "    Alpha (utility weight): 0.281\n",
      "\n",
      "Iteration 14/50\n",
      "  Updating utility function...\n",
      "    Epoch 0, Loss: 37.4270\n"
     ]
    },
    {
     "name": "stderr",
     "output_type": "stream",
     "text": [
      " 28%|██▊       | 14/50 [00:05<00:10,  3.28it/s]"
     ]
    },
    {
     "name": "stdout",
     "output_type": "stream",
     "text": [
      "    Epoch 20, Loss: 35.9790\n",
      "    Epoch 40, Loss: 34.5301\n",
      "  Updating causal posterior...\n",
      "  Selecting next intervention...\n",
      "    Selected: Node 1, Value 0.831\n",
      "    Scores - PIG: 0.669, EEIG: 0.019\n",
      "    Alpha (utility weight): 0.295\n",
      "\n",
      "Iteration 15/50\n",
      "  Updating utility function...\n",
      "    Epoch 0, Loss: 34.5435\n"
     ]
    },
    {
     "name": "stderr",
     "output_type": "stream",
     "text": [
      " 30%|███       | 15/50 [00:05<00:10,  3.26it/s]"
     ]
    },
    {
     "name": "stdout",
     "output_type": "stream",
     "text": [
      "    Epoch 20, Loss: 33.0449\n",
      "    Epoch 40, Loss: 31.5475\n",
      "  Updating causal posterior...\n",
      "  Selecting next intervention...\n",
      "    Selected: Node 2, Value -0.478\n",
      "    Scores - PIG: 0.665, EEIG: 0.022\n",
      "    Alpha (utility weight): 0.309\n",
      "\n",
      "Iteration 16/50\n",
      "  Updating utility function...\n",
      "    Epoch 0, Loss: 31.8275\n",
      "    Epoch 20, Loss: 30.2901\n"
     ]
    },
    {
     "name": "stderr",
     "output_type": "stream",
     "text": [
      " 32%|███▏      | 16/50 [00:05<00:10,  3.10it/s]"
     ]
    },
    {
     "name": "stdout",
     "output_type": "stream",
     "text": [
      "    Epoch 40, Loss: 28.7533\n",
      "  Updating causal posterior...\n",
      "  Selecting next intervention...\n",
      "    Selected: Node 1, Value 0.163\n",
      "    Scores - PIG: 0.693, EEIG: 0.018\n",
      "    Alpha (utility weight): 0.324\n",
      "\n",
      "Iteration 17/50\n",
      "  Updating utility function...\n",
      "    Epoch 0, Loss: 29.2366\n"
     ]
    },
    {
     "name": "stderr",
     "output_type": "stream",
     "text": [
      " 34%|███▍      | 17/50 [00:06<00:11,  2.93it/s]"
     ]
    },
    {
     "name": "stdout",
     "output_type": "stream",
     "text": [
      "    Epoch 20, Loss: 27.6426\n",
      "    Epoch 40, Loss: 26.0957\n",
      "  Updating causal posterior...\n",
      "  Selecting next intervention...\n",
      "    Selected: Node 0, Value 0.715\n",
      "    Scores - PIG: 0.692, EEIG: 0.016\n",
      "    Alpha (utility weight): 0.339\n",
      "\n",
      "Iteration 18/50\n",
      "  Updating utility function...\n",
      "    Epoch 0, Loss: 25.9634\n",
      "    Epoch 20, Loss: 24.3673\n"
     ]
    },
    {
     "name": "stderr",
     "output_type": "stream",
     "text": [
      " 36%|███▌      | 18/50 [00:06<00:10,  3.00it/s]"
     ]
    },
    {
     "name": "stdout",
     "output_type": "stream",
     "text": [
      "    Epoch 40, Loss: 22.7761\n",
      "  Updating causal posterior...\n",
      "  Selecting next intervention...\n",
      "    Selected: Node 0, Value -1.501\n",
      "    Scores - PIG: 0.688, EEIG: 0.018\n",
      "    Alpha (utility weight): 0.355\n",
      "\n",
      "Iteration 19/50\n",
      "  Updating utility function...\n",
      "    Epoch 0, Loss: 22.3201\n"
     ]
    },
    {
     "name": "stderr",
     "output_type": "stream",
     "text": [
      " 38%|███▊      | 19/50 [00:06<00:10,  3.01it/s]"
     ]
    },
    {
     "name": "stdout",
     "output_type": "stream",
     "text": [
      "    Epoch 20, Loss: 20.6905\n",
      "    Epoch 40, Loss: 19.0693\n",
      "  Updating causal posterior...\n",
      "  Selecting next intervention...\n",
      "    Selected: Node 1, Value 1.745\n",
      "    Scores - PIG: 0.692, EEIG: 0.018\n",
      "    Alpha (utility weight): 0.372\n",
      "\n",
      "Iteration 20/50\n",
      "  Updating utility function...\n",
      "    Epoch 0, Loss: 18.3805\n",
      "    Epoch 20, Loss: 16.7258\n"
     ]
    },
    {
     "name": "stderr",
     "output_type": "stream",
     "text": [
      " 40%|████      | 20/50 [00:07<00:09,  3.05it/s]"
     ]
    },
    {
     "name": "stdout",
     "output_type": "stream",
     "text": [
      "    Epoch 40, Loss: 15.0819\n",
      "  Updating causal posterior...\n",
      "  Selecting next intervention...\n",
      "    Selected: Node 0, Value 0.155\n",
      "    Scores - PIG: 0.693, EEIG: 0.017\n",
      "    Alpha (utility weight): 0.390\n",
      "  SHD: 0.00, Edge prob error: 0.117\n",
      "  Utility error: 0.000\n",
      "  Edge probabilities: [0.94819922 0.81820889]\n",
      "  Most probable parents: ((1, 1), 0.7777245300969426)\n",
      "\n",
      "Iteration 21/50\n",
      "  Updating utility function...\n",
      "    Epoch 0, Loss: 14.4203\n"
     ]
    },
    {
     "name": "stderr",
     "output_type": "stream",
     "text": [
      " 42%|████▏     | 21/50 [00:07<00:09,  3.05it/s]"
     ]
    },
    {
     "name": "stdout",
     "output_type": "stream",
     "text": [
      "    Epoch 20, Loss: 12.7407\n",
      "    Epoch 40, Loss: 11.0768\n",
      "  Updating causal posterior...\n",
      "  Selecting next intervention...\n",
      "    Selected: Node 1, Value -0.870\n",
      "    Scores - PIG: 0.689, EEIG: 0.012\n",
      "    Alpha (utility weight): 0.407\n",
      "\n",
      "Iteration 22/50\n",
      "  Updating utility function...\n",
      "    Epoch 0, Loss: 10.7554\n",
      "    Epoch 20, Loss: 9.1251\n"
     ]
    },
    {
     "name": "stderr",
     "output_type": "stream",
     "text": [
      " 44%|████▍     | 22/50 [00:07<00:09,  3.06it/s]"
     ]
    },
    {
     "name": "stdout",
     "output_type": "stream",
     "text": [
      "    Epoch 40, Loss: 7.5109\n",
      "  Updating causal posterior...\n",
      "  Selecting next intervention...\n",
      "    Selected: Node 0, Value -1.664\n",
      "    Scores - PIG: 0.692, EEIG: 0.010\n",
      "    Alpha (utility weight): 0.425\n",
      "  Causal structure converged! Focusing on utility learning.\n",
      "\n",
      "Iteration 23/50\n",
      "  Updating utility function...\n",
      "    Epoch 0, Loss: 7.8851\n",
      "    Epoch 20, Loss: 6.3483\n",
      "    Epoch 40, Loss: 4.8343\n",
      "  Updating causal posterior...\n",
      "  Selecting next intervention...\n",
      "    Selected: Node 0, Value 1.745\n",
      "    Scores - PIG: 0.690, EEIG: 0.009\n",
      "    Alpha (utility weight): 0.900\n",
      "  Causal structure converged! Focusing on utility learning.\n"
     ]
    },
    {
     "name": "stderr",
     "output_type": "stream",
     "text": [
      " 46%|████▌     | 23/50 [00:08<00:08,  3.08it/s]"
     ]
    },
    {
     "name": "stdout",
     "output_type": "stream",
     "text": [
      "\n",
      "Iteration 24/50\n",
      "  Updating utility function...\n",
      "    Epoch 0, Loss: 3.6281\n",
      "    Epoch 20, Loss: 2.1290\n"
     ]
    },
    {
     "name": "stderr",
     "output_type": "stream",
     "text": [
      " 48%|████▊     | 24/50 [00:08<00:08,  3.00it/s]"
     ]
    },
    {
     "name": "stdout",
     "output_type": "stream",
     "text": [
      "    Epoch 40, Loss: 0.6564\n",
      "  Updating causal posterior...\n",
      "  Selecting next intervention...\n",
      "    Selected: Node 0, Value -1.832\n",
      "    Scores - PIG: 0.693, EEIG: 0.012\n",
      "    Alpha (utility weight): 0.900\n",
      "  Causal structure converged! Focusing on utility learning.\n",
      "\n",
      "Iteration 25/50\n",
      "  Updating utility function...\n",
      "    Epoch 0, Loss: 1.5819\n"
     ]
    },
    {
     "name": "stderr",
     "output_type": "stream",
     "text": [
      " 50%|█████     | 25/50 [00:08<00:08,  3.04it/s]"
     ]
    },
    {
     "name": "stdout",
     "output_type": "stream",
     "text": [
      "    Epoch 20, Loss: 0.1926\n",
      "    Epoch 40, Loss: -1.1487\n",
      "  Updating causal posterior...\n",
      "  Selecting next intervention...\n",
      "    Selected: Node 1, Value -1.084\n",
      "    Scores - PIG: 0.693, EEIG: 0.013\n",
      "    Alpha (utility weight): 0.900\n",
      "  Causal structure converged! Focusing on utility learning.\n",
      "\n",
      "Iteration 26/50\n",
      "  Updating utility function...\n",
      "    Epoch 0, Loss: -2.1276\n",
      "    Epoch 20, Loss: -3.4384\n"
     ]
    },
    {
     "name": "stderr",
     "output_type": "stream",
     "text": [
      " 52%|█████▏    | 26/50 [00:09<00:07,  3.07it/s]"
     ]
    },
    {
     "name": "stdout",
     "output_type": "stream",
     "text": [
      "    Epoch 40, Loss: -4.7074\n",
      "  Updating causal posterior...\n",
      "  Selecting next intervention...\n",
      "    Selected: Node 2, Value 1.061\n",
      "    Scores - PIG: 0.690, EEIG: 0.006\n",
      "    Alpha (utility weight): 0.900\n",
      "  Causal structure converged! Focusing on utility learning.\n",
      "\n",
      "Iteration 27/50\n",
      "  Updating utility function...\n",
      "    Epoch 0, Loss: -5.9242\n"
     ]
    },
    {
     "name": "stderr",
     "output_type": "stream",
     "text": [
      " 54%|█████▍    | 27/50 [00:09<00:07,  3.10it/s]"
     ]
    },
    {
     "name": "stdout",
     "output_type": "stream",
     "text": [
      "    Epoch 20, Loss: -7.1684\n",
      "    Epoch 40, Loss: -8.3664\n",
      "  Updating causal posterior...\n",
      "  Selecting next intervention...\n",
      "    Selected: Node 2, Value -0.956\n",
      "    Scores - PIG: 0.679, EEIG: 0.008\n",
      "    Alpha (utility weight): 0.900\n",
      "  Causal structure converged! Focusing on utility learning.\n",
      "\n",
      "Iteration 28/50\n",
      "  Updating utility function...\n",
      "    Epoch 0, Loss: -8.7355\n",
      "    Epoch 20, Loss: -9.8850\n"
     ]
    },
    {
     "name": "stderr",
     "output_type": "stream",
     "text": [
      " 56%|█████▌    | 28/50 [00:09<00:07,  3.10it/s]"
     ]
    },
    {
     "name": "stdout",
     "output_type": "stream",
     "text": [
      "    Epoch 40, Loss: -10.9861\n",
      "  Updating causal posterior...\n",
      "  Selecting next intervention...\n",
      "    Selected: Node 2, Value 1.335\n",
      "    Scores - PIG: 0.691, EEIG: 0.001\n",
      "    Alpha (utility weight): 0.900\n",
      "  Causal structure converged! Focusing on utility learning.\n",
      "\n",
      "Iteration 29/50\n",
      "  Updating utility function...\n",
      "    Epoch 0, Loss: -11.1590\n",
      "    Epoch 20, Loss: -12.2126\n",
      "    Epoch 40, Loss: -13.2688\n",
      "  Updating causal posterior...\n",
      "  Selecting next intervention...\n",
      "    Selected: Node 1, Value 1.269\n",
      "    Scores - PIG: 0.693, EEIG: 0.006\n",
      "    Alpha (utility weight): 0.900\n",
      "  Causal structure converged! Focusing on utility learning.\n"
     ]
    },
    {
     "name": "stderr",
     "output_type": "stream",
     "text": [
      " 58%|█████▊    | 29/50 [00:10<00:06,  3.08it/s]"
     ]
    },
    {
     "name": "stdout",
     "output_type": "stream",
     "text": [
      "\n",
      "Iteration 30/50\n",
      "  Updating utility function...\n",
      "    Epoch 0, Loss: -13.6979\n",
      "    Epoch 20, Loss: -14.7595\n"
     ]
    },
    {
     "name": "stderr",
     "output_type": "stream",
     "text": [
      " 60%|██████    | 30/50 [00:10<00:06,  3.09it/s]"
     ]
    },
    {
     "name": "stdout",
     "output_type": "stream",
     "text": [
      "    Epoch 40, Loss: -15.8242\n",
      "  Updating causal posterior...\n",
      "  Selecting next intervention...\n",
      "    Selected: Node 2, Value 0.705\n",
      "    Scores - PIG: 0.691, EEIG: 0.006\n",
      "    Alpha (utility weight): 0.900\n",
      "  Causal structure converged! Focusing on utility learning.\n",
      "  SHD: 0.00, Edge prob error: 0.038\n",
      "  Utility error: 0.000\n",
      "  Edge probabilities: [0.99960758 0.92358571]\n",
      "  Most probable parents: ((1, 1), 0.9232516396693711)\n",
      "\n",
      "Iteration 31/50\n",
      "  Updating utility function...\n",
      "    Epoch 0, Loss: -15.0598\n",
      "    Epoch 20, Loss: -16.1583\n",
      "    Epoch 40, Loss: -17.2180\n",
      "  Updating causal posterior...\n",
      "  Selecting next intervention...\n",
      "    Selected: Node 0, Value -0.728\n",
      "    Scores - PIG: 0.666, EEIG: 0.003\n",
      "    Alpha (utility weight): 0.900\n"
     ]
    },
    {
     "name": "stderr",
     "output_type": "stream",
     "text": [
      " 62%|██████▏   | 31/50 [00:10<00:06,  3.05it/s]"
     ]
    },
    {
     "name": "stdout",
     "output_type": "stream",
     "text": [
      "  Causal structure converged! Focusing on utility learning.\n",
      "\n",
      "Iteration 32/50\n",
      "  Updating utility function...\n",
      "    Epoch 0, Loss: -18.2127\n",
      "    Epoch 20, Loss: -19.2984\n"
     ]
    },
    {
     "name": "stderr",
     "output_type": "stream",
     "text": [
      " 64%|██████▍   | 32/50 [00:11<00:05,  3.03it/s]"
     ]
    },
    {
     "name": "stdout",
     "output_type": "stream",
     "text": [
      "    Epoch 40, Loss: -20.3862\n",
      "  Updating causal posterior...\n",
      "  Selecting next intervention...\n",
      "    Selected: Node 1, Value 1.111\n",
      "    Scores - PIG: 0.685, EEIG: 0.003\n",
      "    Alpha (utility weight): 0.900\n",
      "  Causal structure converged! Focusing on utility learning.\n",
      "\n",
      "Iteration 33/50\n",
      "  Updating utility function...\n",
      "    Epoch 0, Loss: -22.7570\n",
      "    Epoch 20, Loss: -23.8964\n",
      "    Epoch 40, Loss: -24.9938\n",
      "  Updating causal posterior...\n",
      "  Selecting next intervention...\n"
     ]
    },
    {
     "name": "stderr",
     "output_type": "stream",
     "text": [
      " 66%|██████▌   | 33/50 [00:11<00:05,  2.98it/s]"
     ]
    },
    {
     "name": "stdout",
     "output_type": "stream",
     "text": [
      "    Selected: Node 0, Value 1.586\n",
      "    Scores - PIG: 0.672, EEIG: 0.001\n",
      "    Alpha (utility weight): 0.900\n",
      "  Causal structure converged! Focusing on utility learning.\n",
      "\n",
      "Iteration 34/50\n",
      "  Updating utility function...\n",
      "    Epoch 0, Loss: -26.4345\n",
      "    Epoch 20, Loss: -27.5445\n"
     ]
    },
    {
     "name": "stderr",
     "output_type": "stream",
     "text": [
      " 68%|██████▊   | 34/50 [00:11<00:05,  3.00it/s]"
     ]
    },
    {
     "name": "stdout",
     "output_type": "stream",
     "text": [
      "    Epoch 40, Loss: -28.6557\n",
      "  Updating causal posterior...\n",
      "  Selecting next intervention...\n",
      "    Selected: Node 1, Value -0.548\n",
      "    Scores - PIG: 0.685, EEIG: 0.004\n",
      "    Alpha (utility weight): 0.900\n",
      "  Causal structure converged! Focusing on utility learning.\n",
      "\n",
      "Iteration 35/50\n",
      "  Updating utility function...\n",
      "    Epoch 0, Loss: -30.0678\n"
     ]
    },
    {
     "name": "stderr",
     "output_type": "stream",
     "text": [
      " 70%|███████   | 35/50 [00:12<00:04,  3.03it/s]"
     ]
    },
    {
     "name": "stdout",
     "output_type": "stream",
     "text": [
      "    Epoch 20, Loss: -31.3682\n",
      "    Epoch 40, Loss: -32.4762\n",
      "  Updating causal posterior...\n",
      "  Selecting next intervention...\n",
      "    Selected: Node 0, Value 1.910\n",
      "    Scores - PIG: 0.693, EEIG: 0.003\n",
      "    Alpha (utility weight): 0.900\n",
      "  Causal structure converged! Focusing on utility learning.\n",
      "\n",
      "Iteration 36/50\n",
      "  Updating utility function...\n",
      "    Epoch 0, Loss: -33.5953\n",
      "    Epoch 20, Loss: -34.7376\n"
     ]
    },
    {
     "name": "stderr",
     "output_type": "stream",
     "text": [
      " 72%|███████▏  | 36/50 [00:12<00:04,  3.02it/s]"
     ]
    },
    {
     "name": "stdout",
     "output_type": "stream",
     "text": [
      "    Epoch 40, Loss: -35.8873\n",
      "  Updating causal posterior...\n",
      "  Selecting next intervention...\n",
      "    Selected: Node 2, Value -0.633\n",
      "    Scores - PIG: 0.687, EEIG: 0.005\n",
      "    Alpha (utility weight): 0.900\n",
      "  Causal structure converged! Focusing on utility learning.\n",
      "\n",
      "Iteration 37/50\n",
      "  Updating utility function...\n",
      "    Epoch 0, Loss: -35.8258\n",
      "    Epoch 20, Loss: -36.9816\n",
      "    Epoch 40, Loss: -38.1456\n",
      "  Updating causal posterior...\n",
      "  Selecting next intervention...\n",
      "    Selected: Node 2, Value -0.170\n",
      "    Scores - PIG: 0.693, EEIG: 0.004\n",
      "    Alpha (utility weight): 0.900\n",
      "  Causal structure converged! Focusing on utility learning.\n"
     ]
    },
    {
     "name": "stderr",
     "output_type": "stream",
     "text": [
      " 74%|███████▍  | 37/50 [00:12<00:04,  3.00it/s]"
     ]
    },
    {
     "name": "stdout",
     "output_type": "stream",
     "text": [
      "\n",
      "Iteration 38/50\n",
      "  Updating utility function...\n",
      "    Epoch 0, Loss: -38.7682\n",
      "    Epoch 20, Loss: -39.9428\n"
     ]
    },
    {
     "name": "stderr",
     "output_type": "stream",
     "text": [
      " 76%|███████▌  | 38/50 [00:13<00:03,  3.05it/s]"
     ]
    },
    {
     "name": "stdout",
     "output_type": "stream",
     "text": [
      "    Epoch 40, Loss: -41.1255\n",
      "  Updating causal posterior...\n",
      "  Selecting next intervention...\n",
      "    Selected: Node 0, Value 1.695\n",
      "    Scores - PIG: 0.692, EEIG: 0.002\n",
      "    Alpha (utility weight): 0.900\n",
      "  Causal structure converged! Focusing on utility learning.\n",
      "\n",
      "Iteration 39/50\n",
      "  Updating utility function...\n",
      "    Epoch 0, Loss: -40.0375\n",
      "    Epoch 20, Loss: -41.2567\n",
      "    Epoch 40, Loss: -42.4360\n",
      "  Updating causal posterior...\n",
      "  Selecting next intervention...\n"
     ]
    },
    {
     "name": "stderr",
     "output_type": "stream",
     "text": [
      " 78%|███████▊  | 39/50 [00:13<00:03,  2.95it/s]"
     ]
    },
    {
     "name": "stdout",
     "output_type": "stream",
     "text": [
      "    Selected: Node 0, Value 0.314\n",
      "    Scores - PIG: 0.692, EEIG: 0.002\n",
      "    Alpha (utility weight): 0.900\n",
      "  Causal structure converged! Focusing on utility learning.\n",
      "\n",
      "Iteration 40/50\n",
      "  Updating utility function...\n",
      "    Epoch 0, Loss: -42.8778\n",
      "    Epoch 20, Loss: -44.0801\n"
     ]
    },
    {
     "name": "stderr",
     "output_type": "stream",
     "text": [
      " 80%|████████  | 40/50 [00:13<00:03,  2.97it/s]"
     ]
    },
    {
     "name": "stdout",
     "output_type": "stream",
     "text": [
      "    Epoch 40, Loss: -45.2870\n",
      "  Updating causal posterior...\n",
      "  Selecting next intervention...\n",
      "    Selected: Node 2, Value -0.784\n",
      "    Scores - PIG: 0.690, EEIG: 0.003\n",
      "    Alpha (utility weight): 0.900\n",
      "  Causal structure converged! Focusing on utility learning.\n",
      "  SHD: 0.00, Edge prob error: 0.050\n",
      "  Utility error: 0.000\n",
      "  Edge probabilities: [0.99967749 0.89989488]\n",
      "  Most probable parents: ((1, 1), 0.8996215902212116)\n",
      "\n",
      "Iteration 41/50\n",
      "  Updating utility function...\n",
      "    Epoch 0, Loss: -45.6040\n",
      "    Epoch 20, Loss: -46.8249\n",
      "    Epoch 40, Loss: -48.0559\n",
      "  Updating causal posterior...\n",
      "  Selecting next intervention...\n",
      "    Selected: Node 1, Value 0.730\n",
      "    Scores - PIG: 0.684, EEIG: 0.004\n",
      "    Alpha (utility weight): 0.900\n",
      "  Causal structure converged! Focusing on utility learning.\n"
     ]
    },
    {
     "name": "stderr",
     "output_type": "stream",
     "text": [
      " 82%|████████▏ | 41/50 [00:14<00:03,  2.90it/s]"
     ]
    },
    {
     "name": "stdout",
     "output_type": "stream",
     "text": [
      "\n",
      "Iteration 42/50\n",
      "  Updating utility function...\n",
      "    Epoch 0, Loss: -49.0926\n",
      "    Epoch 20, Loss: -50.3421\n"
     ]
    },
    {
     "name": "stderr",
     "output_type": "stream",
     "text": [
      " 84%|████████▍ | 42/50 [00:14<00:02,  2.90it/s]"
     ]
    },
    {
     "name": "stdout",
     "output_type": "stream",
     "text": [
      "    Epoch 40, Loss: -51.5975\n",
      "  Updating causal posterior...\n",
      "  Selecting next intervention...\n",
      "    Selected: Node 1, Value 0.515\n",
      "    Scores - PIG: 0.693, EEIG: 0.004\n",
      "    Alpha (utility weight): 0.900\n",
      "  Causal structure converged! Focusing on utility learning.\n",
      "\n",
      "Iteration 43/50\n",
      "  Updating utility function...\n",
      "    Epoch 0, Loss: -51.3878\n",
      "    Epoch 20, Loss: -52.6497\n",
      "    Epoch 40, Loss: -53.9225\n",
      "  Updating causal posterior...\n",
      "  Selecting next intervention...\n",
      "    Selected: Node 2, Value -1.183\n",
      "    Scores - PIG: 0.689, EEIG: 0.003\n",
      "    Alpha (utility weight): 0.900\n",
      "  Causal structure converged! Focusing on utility learning.\n"
     ]
    },
    {
     "name": "stderr",
     "output_type": "stream",
     "text": [
      " 86%|████████▌ | 43/50 [00:14<00:02,  2.93it/s]"
     ]
    },
    {
     "name": "stdout",
     "output_type": "stream",
     "text": [
      "\n",
      "Iteration 44/50\n",
      "  Updating utility function...\n",
      "    Epoch 0, Loss: -54.4876\n",
      "    Epoch 20, Loss: -55.7718\n"
     ]
    },
    {
     "name": "stderr",
     "output_type": "stream",
     "text": [
      " 88%|████████▊ | 44/50 [00:15<00:02,  2.90it/s]"
     ]
    },
    {
     "name": "stdout",
     "output_type": "stream",
     "text": [
      "    Epoch 40, Loss: -57.0655\n",
      "  Updating causal posterior...\n",
      "  Selecting next intervention...\n",
      "    Selected: Node 1, Value -0.004\n",
      "    Scores - PIG: 0.693, EEIG: 0.004\n",
      "    Alpha (utility weight): 0.900\n",
      "  Causal structure converged! Focusing on utility learning.\n",
      "\n",
      "Iteration 45/50\n",
      "  Updating utility function...\n",
      "    Epoch 0, Loss: -58.5689\n",
      "    Epoch 20, Loss: -59.8904\n",
      "    Epoch 40, Loss: -61.2053\n",
      "  Updating causal posterior...\n",
      "  Selecting next intervention...\n",
      "    Selected: Node 0, Value -1.545\n",
      "    Scores - PIG: 0.692, EEIG: 0.005\n",
      "    Alpha (utility weight): 0.900\n",
      "  Causal structure converged! Focusing on utility learning.\n"
     ]
    },
    {
     "name": "stderr",
     "output_type": "stream",
     "text": [
      " 90%|█████████ | 45/50 [00:15<00:01,  2.91it/s]"
     ]
    },
    {
     "name": "stdout",
     "output_type": "stream",
     "text": [
      "\n",
      "Iteration 46/50\n",
      "  Updating utility function...\n",
      "    Epoch 0, Loss: -63.9077\n",
      "    Epoch 20, Loss: -65.2791\n"
     ]
    },
    {
     "name": "stderr",
     "output_type": "stream",
     "text": [
      " 92%|█████████▏| 46/50 [00:15<00:01,  2.95it/s]"
     ]
    },
    {
     "name": "stdout",
     "output_type": "stream",
     "text": [
      "    Epoch 40, Loss: -66.6271\n",
      "  Updating causal posterior...\n",
      "  Selecting next intervention...\n",
      "    Selected: Node 0, Value -1.238\n",
      "    Scores - PIG: 0.684, EEIG: 0.003\n",
      "    Alpha (utility weight): 0.900\n",
      "  Causal structure converged! Focusing on utility learning.\n",
      "\n",
      "Iteration 47/50\n",
      "  Updating utility function...\n",
      "    Epoch 0, Loss: -68.3366\n",
      "    Epoch 20, Loss: -69.7043\n",
      "    Epoch 40, Loss: -71.0739\n",
      "  Updating causal posterior...\n",
      "  Selecting next intervention...\n",
      "    Selected: Node 0, Value -0.007\n",
      "    Scores - PIG: 0.688, EEIG: 0.003\n",
      "    Alpha (utility weight): 0.900\n",
      "  Causal structure converged! Focusing on utility learning.\n"
     ]
    },
    {
     "name": "stderr",
     "output_type": "stream",
     "text": [
      " 94%|█████████▍| 47/50 [00:16<00:01,  3.00it/s]"
     ]
    },
    {
     "name": "stdout",
     "output_type": "stream",
     "text": [
      "\n",
      "Iteration 48/50\n",
      "  Updating utility function...\n",
      "    Epoch 0, Loss: -72.4000\n",
      "    Epoch 20, Loss: -73.7883\n"
     ]
    },
    {
     "name": "stderr",
     "output_type": "stream",
     "text": [
      " 96%|█████████▌| 48/50 [00:16<00:00,  3.03it/s]"
     ]
    },
    {
     "name": "stdout",
     "output_type": "stream",
     "text": [
      "    Epoch 40, Loss: -75.1819\n",
      "  Updating causal posterior...\n",
      "  Selecting next intervention...\n",
      "    Selected: Node 0, Value -1.755\n",
      "    Scores - PIG: 0.690, EEIG: 0.004\n",
      "    Alpha (utility weight): 0.900\n",
      "  Causal structure converged! Focusing on utility learning.\n",
      "\n",
      "Iteration 49/50\n",
      "  Updating utility function...\n",
      "    Epoch 0, Loss: -75.2512\n"
     ]
    },
    {
     "name": "stderr",
     "output_type": "stream",
     "text": [
      " 98%|█████████▊| 49/50 [00:16<00:00,  2.97it/s]"
     ]
    },
    {
     "name": "stdout",
     "output_type": "stream",
     "text": [
      "    Epoch 20, Loss: -76.6616\n",
      "    Epoch 40, Loss: -78.0805\n",
      "  Updating causal posterior...\n",
      "  Selecting next intervention...\n",
      "    Selected: Node 1, Value -0.396\n",
      "    Scores - PIG: 0.692, EEIG: 0.003\n",
      "    Alpha (utility weight): 0.900\n",
      "  Causal structure converged! Focusing on utility learning.\n",
      "\n",
      "Iteration 50/50\n",
      "  Updating utility function...\n",
      "    Epoch 0, Loss: -78.6293\n",
      "    Epoch 20, Loss: -80.0794\n"
     ]
    },
    {
     "name": "stderr",
     "output_type": "stream",
     "text": [
      "100%|██████████| 50/50 [00:17<00:00,  2.93it/s]"
     ]
    },
    {
     "name": "stdout",
     "output_type": "stream",
     "text": [
      "    Epoch 40, Loss: -81.5313\n",
      "  Updating causal posterior...\n",
      "  Selecting next intervention...\n",
      "    Selected: Node 2, Value -1.064\n",
      "    Scores - PIG: 0.692, EEIG: 0.004\n",
      "    Alpha (utility weight): 0.900\n",
      "  Causal structure converged! Focusing on utility learning.\n",
      "  SHD: 0.00, Edge prob error: 0.035\n",
      "  Utility error: 0.000\n",
      "  Edge probabilities: [0.9999753  0.93031052]\n",
      "  Most probable parents: ((1, 1), 0.9302890270796301)\n"
     ]
    },
    {
     "name": "stderr",
     "output_type": "stream",
     "text": [
      "\n"
     ]
    }
   ],
   "source": [
    "# Initialise PCBO\n",
    "pcbo = PCBO(dataset, device, n_iterations=n_iterations)\n",
    "\n",
    "# Use initial preferences from dataset\n",
    "all_queries = list(dataset.queries)\n",
    "for query in all_queries:\n",
    "    pcbo.pref_dataset.add_from_query(query)\n",
    "\n",
    "# Run PCBO iterations\n",
    "print(\"Starting PCBO iterations...\")\n",
    "for iteration in tqdm(range(n_iterations)):\n",
    "    print(f\"\\nIteration {iteration + 1}/{n_iterations}\")\n",
    "    \n",
    "    # Run one iteration\n",
    "    new_query = pcbo.run_iteration(all_queries, iteration)\n",
    "    all_queries.append(new_query)\n",
    "    \n",
    "    # Evaluate performance\n",
    "    shd, util_error, edge_prob_error = pcbo.evaluate_current_performance()\n",
    "    pcbo.iteration_history.append(iteration)\n",
    "    pcbo.graph_distances.append(shd)\n",
    "    pcbo.utility_errors.append(util_error)\n",
    "    pcbo.edge_prob_errors.append(edge_prob_error)\n",
    "    \n",
    "    # Print progress every 10 iterations\n",
    "    if (iteration + 1) % 10 == 0:\n",
    "        edge_probs = pcbo.parent_posterior.edge_posterior()\n",
    "        print(f\"  SHD: {shd:.2f}, Edge prob error: {edge_prob_error:.3f}\")\n",
    "        print(f\"  Utility error: {util_error:.3f}\")\n",
    "        print(f\"  Edge probabilities: {edge_probs.numpy()}\")\n",
    "        print(f\"  Most probable parents: {pcbo.parent_posterior.most_probable_set()}\")\n"
   ]
  },
  {
   "cell_type": "markdown",
   "id": "373b8084",
   "metadata": {},
   "source": [
    "## Visualize Results"
   ]
  },
  {
   "cell_type": "code",
   "execution_count": 6,
   "id": "cfb9a2f6",
   "metadata": {},
   "outputs": [
    {
     "data": {
      "image/png": "[encoded data removed]",
      "text/plain": [
       "<Figure size 1500x800 with 7 Axes>"
      ]
     },
     "metadata": {},
     "output_type": "display_data"
    }
   ],
   "source": [
    "# Create comprehensive visualization\n",
    "fig, axes = plt.subplots(2, 3, figsize=(15, 8))\n",
    "\n",
    "# 1. Graph Learning Progress (SHD)\n",
    "axes[0, 0].plot(pcbo.iteration_history, pcbo.graph_distances, 'b-', label='SHD')\n",
    "axes[0, 0].set_xlabel(\"Iteration\")\n",
    "axes[0, 0].set_ylabel(\"Structural Hamming Distance\")\n",
    "axes[0, 0].set_title(\"Graph Learning Progress (SHD)\")\n",
    "axes[0, 0].set_ylim([-0.5, 4.5])\n",
    "axes[0, 0].legend()\n",
    "\n",
    "# 2. Edge Probability Error (Smoother metric)\n",
    "axes[0, 1].plot(pcbo.iteration_history, pcbo.edge_prob_errors, 'g-', label='Edge Prob Error')\n",
    "axes[0, 1].set_xlabel(\"Iteration\")\n",
    "axes[0, 1].set_ylabel(\"Mean Edge Probability Error\")\n",
    "axes[0, 1].set_title(\"Graph Learning Progress (Smooth)\")\n",
    "axes[0, 1].set_ylim([0, 1])\n",
    "axes[0, 1].legend()\n",
    "\n",
    "# 3. Utility Learning Progress\n",
    "axes[0, 2].plot(pcbo.iteration_history, pcbo.utility_errors, 'r-', label='Utility Error')\n",
    "axes[0, 2].set_xlabel(\"Iteration\")\n",
    "axes[0, 2].set_ylabel(\"Preference Prediction Error\")\n",
    "axes[0, 2].set_title(\"Utility Learning Progress\")\n",
    "axes[0, 2].set_ylim([0, 1])\n",
    "axes[0, 2].legend()\n",
    "\n",
    "# 4. Final Edge Probabilities\n",
    "edge_probs = pcbo.parent_posterior.edge_posterior().numpy()\n",
    "axes[1, 0].bar(['X1→Y', 'X2→Y'], edge_probs, color=['blue', 'green'])\n",
    "axes[1, 0].axhline(y=1.0, color='r', linestyle='--', label='True edges')\n",
    "axes[1, 0].set_ylabel(\"Posterior Probability\")\n",
    "axes[1, 0].set_title(\"Learned Edge Probabilities\")\n",
    "axes[1, 0].set_ylim([0, 1.1])\n",
    "axes[1, 0].legend()\n",
    "\n",
    "# 5. Selected Interventions Over Time\n",
    "interventions_array = np.array(pcbo.selected_interventions)\n",
    "scatter = axes[1, 1].scatter(interventions_array[:, 0], interventions_array[:, 1], \n",
    "                            c=range(len(interventions_array)), cmap='viridis', s=50)\n",
    "axes[1, 1].set_xlabel(\"Node Index\")\n",
    "axes[1, 1].set_ylabel(\"Intervention Value\")\n",
    "axes[1, 1].set_title(\"Selected Interventions Over Time\")\n",
    "axes[1, 1].set_xticks([0, 1, 2])\n",
    "axes[1, 1].set_xticklabels(['X1', 'X2', 'Y'])\n",
    "plt.colorbar(scatter, ax=axes[1, 1], label='Iteration')\n",
    "\n",
    "# 6. Preference Dataset Growth\n",
    "axes[1, 2].plot(range(len(all_queries)), [i for i in range(len(all_queries))], 'b-', label='Total Queries')\n",
    "axes[1, 2].plot(range(len(all_queries)), [min(i*2, len(pcbo.pref_dataset)) for i in range(len(all_queries))], \n",
    "               'g-', label='Preference Pairs')\n",
    "axes[1, 2].set_xlabel(\"Iteration\")\n",
    "axes[1, 2].set_ylabel(\"Count\")\n",
    "axes[1, 2].set_title(\"Data Accumulation\")\n",
    "axes[1, 2].legend()\n",
    "\n",
    "plt.tight_layout()\n",
    "plt.show()"
   ]
  },
  {
   "cell_type": "markdown",
   "id": "3666df3e",
   "metadata": {},
   "source": [
    "## Final Results and Analysis"
   ]
  },
  {
   "cell_type": "code",
   "execution_count": 7,
   "id": "351a1947",
   "metadata": {},
   "outputs": [
    {
     "name": "stdout",
     "output_type": "stream",
     "text": [
      "\n",
      "==================================================\n",
      "FINAL RESULTS\n",
      "==================================================\n",
      "\n",
      "True causal graph:\n",
      "[[0. 0. 1.]\n",
      " [0. 0. 1.]\n",
      " [0. 0. 0.]]\n",
      "\n",
      "Most probable parent set for Y: (1, 1)\n",
      "Posterior probability: 0.930\n",
      "\n",
      "Edge posterior probabilities:\n",
      "  P(X1 → Y) = 1.000 (True: 1.0)\n",
      "  P(X2 → Y) = 0.930 (True: 1.0)\n",
      "\n",
      "Final metrics:\n",
      "  SHD: 0.00\n",
      "  Edge probability error: 0.035\n",
      "  Utility prediction error: 0.000\n",
      "\n",
      "Learning efficiency:\n",
      "  Total queries: 70\n",
      "  Total preference comparisons: 70\n",
      "  Flow reinitializations: 0\n",
      "\n",
      "Visualization of learned causal structure:\n"
     ]
    },
    {
     "data": {
      "image/png": "[encoded data removed]",
      "text/plain": [
       "<Figure size 640x480 with 2 Axes>"
      ]
     },
     "metadata": {},
     "output_type": "display_data"
    },
    {
     "name": "stdout",
     "output_type": "stream",
     "text": [
      "\n",
      "==================================================\n",
      "PCBO COMPLETE\n",
      "==================================================\n"
     ]
    }
   ],
   "source": [
    "print(\"\\n\" + \"=\"*50)\n",
    "print(\"FINAL RESULTS\")\n",
    "print(\"=\"*50)\n",
    "\n",
    "print(f\"\\nTrue causal graph:\")\n",
    "print(f\"{true_adj.numpy()}\")\n",
    "\n",
    "most_prob_parents, prob = pcbo.parent_posterior.most_probable_set()\n",
    "print(f\"\\nMost probable parent set for Y: {most_prob_parents}\")\n",
    "print(f\"Posterior probability: {prob:.3f}\")\n",
    "\n",
    "edge_probs = pcbo.parent_posterior.edge_posterior()\n",
    "print(f\"\\nEdge posterior probabilities:\")\n",
    "print(f\"  P(X1 → Y) = {edge_probs[0]:.3f} (True: 1.0)\")\n",
    "print(f\"  P(X2 → Y) = {edge_probs[1]:.3f} (True: 1.0)\")\n",
    "\n",
    "print(f\"\\nFinal metrics:\")\n",
    "print(f\"  SHD: {pcbo.graph_distances[-1]:.2f}\")\n",
    "print(f\"  Edge probability error: {pcbo.edge_prob_errors[-1]:.3f}\")\n",
    "print(f\"  Utility prediction error: {pcbo.utility_errors[-1]:.3f}\")\n",
    "\n",
    "print(f\"\\nLearning efficiency:\")\n",
    "print(f\"  Total queries: {len(all_queries)}\")\n",
    "print(f\"  Total preference comparisons: {len(pcbo.pref_dataset)}\")\n",
    "print(f\"  Flow reinitializations: {pcbo.instability_count}\")\n",
    "\n",
    "# Visualize final learned causal structure\n",
    "learned_adj = torch.zeros_like(true_adj)\n",
    "for i, is_parent in enumerate(most_prob_parents):\n",
    "    if is_parent:\n",
    "        learned_adj[i, 2] = 1\n",
    "\n",
    "print(\"\\nVisualization of learned causal structure:\")\n",
    "plot_dag(learned_adj.numpy(), names=node_names, \n",
    "         edge_probs=torch.tensor([[0, 0, edge_probs[0]], \n",
    "                                  [0, 0, edge_probs[1]], \n",
    "                                  [0, 0, 0]]).numpy())\n",
    "\n",
    "print(\"\\n\" + \"=\"*50)\n",
    "print(\"PCBO COMPLETE\")\n",
    "print(\"=\"*50)"
   ]
  }
 ],
 "metadata": {
  "kernelspec": {
   "display_name": "base",
   "language": "python",
   "name": "python3"
  },
  "language_info": {
   "codemirror_mode": {
    "name": "ipython",
    "version": 3
   },
   "file_extension": ".py",
   "mimetype": "text/x-python",
   "name": "python",
   "nbconvert_exporter": "python",
   "pygments_lexer": "ipython3",
   "version": "3.11.5"
  }
 },
 "nbformat": 4,
 "nbformat_minor": 5
}
