{
 "cells": [
  {
   "cell_type": "markdown",
   "id": "dc6409b5",
   "metadata": {},
   "source": [
    "# PCBO: Preferential Causal Bayesian Optimisation\n"
   ]
  },
  {
   "cell_type": "code",
   "execution_count": 1,
   "id": "a950291d",
   "metadata": {},
   "outputs": [
    {
     "name": "stdout",
     "output_type": "stream",
     "text": [
      "Using device: cpu\n"
     ]
    }
   ],
   "source": [
    "import torch\n",
    "import numpy as np\n",
    "import matplotlib.pyplot as plt\n",
    "from tqdm import tqdm\n",
    "\n",
    "# Custom modules\n",
    "from flows import real_nvp, create_base_distribution\n",
    "from prefflow import PrefFlow\n",
    "from pcbo_dataset import PCBO_Dataset_Three\n",
    "from parent_posterior import ParentPosterior\n",
    "from acquisition import pig_pairwise, eeig_pairwise\n",
    "from dag_visual import plot_dag\n",
    "\n",
    "# Set random seeds\n",
    "torch.manual_seed(42)\n",
    "np.random.seed(42)\n",
    "\n",
    "# Device and precision\n",
    "device = torch.device(\"cuda\" if torch.cuda.is_available() else \"cpu\")\n",
    "precision_double = True\n",
    "print(f\"Using device: {device}\")"
   ]
  },
  {
   "cell_type": "markdown",
   "id": "8ee7d6ee",
   "metadata": {},
   "source": [
    "## Problem Setup"
   ]
  },
  {
   "cell_type": "code",
   "execution_count": 2,
   "id": "b3c7696e",
   "metadata": {},
   "outputs": [
    {
     "name": "stdout",
     "output_type": "stream",
     "text": [
      "True causal graph:\n",
      "tensor([[0, 0, 1],\n",
      "        [0, 0, 1],\n",
      "        [0, 0, 0]])\n",
      "Node names: ['X1', 'X2', 'Y']\n"
     ]
    }
   ],
   "source": [
    "\"\"\"\n",
    "Toy Problem: X1 -> Y <- X2\n",
    "- We can intervene on X1, X2, or Y\n",
    "- True utility: minimize |Y| with small intervention cost\n",
    "- Learn both the causal graph and utility function from preferences\n",
    "\"\"\"\n",
    "\n",
    "# Problem parameters\n",
    "n_nodes = 3  # X1, X2, Y\n",
    "d_utility = 2  # Dimensionality for utility function input (e.g. intervention outcome features)\n",
    "n_initial_prefs = 20  # Initial preference data\n",
    "n_iterations = 50  # PCBO iterations\n",
    "k = 2  # k-wise preferences (pairwise for now)\n",
    "flow_layers = 5  # Number of flow layers in the PrefFlow\n",
    "\n",
    "# Create synthetic dataset\n",
    "dataset = PCBO_Dataset_Three(\n",
    "    n_queries=n_initial_prefs,\n",
    "    noise_std=0.1,\n",
    "    domain=(-2, 2),\n",
    "    seed=42\n",
    ")\n",
    "\n",
    "true_adj, node_names = dataset.get_causal_graph()\n",
    "print(f\"True causal graph:\\n{true_adj}\")\n",
    "print(f\"Node names: {node_names}\")"
   ]
  },
  {
   "cell_type": "markdown",
   "id": "c3b0a6f1",
   "metadata": {},
   "source": [
    "## Helper Classes and Functions"
   ]
  },
  {
   "cell_type": "code",
   "execution_count": 3,
   "id": "36531271",
   "metadata": {},
   "outputs": [],
   "source": [
    "class PreferenceDataset:\n",
    "    \"\"\"Efficient storage for preference comparisons\"\"\"\n",
    "    def __init__(self, device):\n",
    "        self.device = device\n",
    "        self.feature_pairs = []  # List of (feat_winner, feat_loser) tuples\n",
    "        self.labels = []  # List of labels (always 1.0 for winner first)\n",
    "        self._X_cache = None\n",
    "        self._Y_cache = None\n",
    "        self._cache_valid = False\n",
    "        \n",
    "    def add_preference(self, outcome_winner, outcome_loser):\n",
    "        \"\"\"Add a new preference comparison\"\"\"\n",
    "        feat_winner = intervention_to_utility_features(outcome_winner)\n",
    "        feat_loser = intervention_to_utility_features(outcome_loser)\n",
    "        self.feature_pairs.append((feat_winner, feat_loser))\n",
    "        self.labels.append(1.0)\n",
    "        self._cache_valid = False\n",
    "        \n",
    "    def add_from_query(self, query_data):\n",
    "        \"\"\"Add preferences from a query with k options\"\"\"\n",
    "        outcomes = query_data['outcomes']\n",
    "        winner_idx = query_data['winner_idx']\n",
    "        \n",
    "        # Compare winner against all losers\n",
    "        for i in range(len(outcomes)):\n",
    "            if i != winner_idx:\n",
    "                self.add_preference(outcomes[winner_idx], outcomes[i])\n",
    "        \n",
    "    def get_batch(self, last_n=None):\n",
    "        \"\"\"Get preference data in PrefFlow format\"\"\"\n",
    "        if len(self.feature_pairs) == 0:\n",
    "            return None, None\n",
    "            \n",
    "        pairs = self.feature_pairs[-last_n:] if last_n else self.feature_pairs\n",
    "        labels = self.labels[-last_n:] if last_n else self.labels\n",
    "        \n",
    "        n_comparisons = len(pairs)\n",
    "        feat_dim = pairs[0][0].shape[0]\n",
    "        X = torch.zeros(2, feat_dim, n_comparisons).to(self.device)\n",
    "        \n",
    "        for i, (feat1, feat2) in enumerate(pairs):\n",
    "            X[0, :, i] = feat1.to(self.device)\n",
    "            X[1, :, i] = feat2.to(self.device)\n",
    "        \n",
    "        Y = torch.tensor(labels, dtype=torch.float32).to(self.device)\n",
    "        \n",
    "        return X, Y\n",
    "    \n",
    "    def __len__(self):\n",
    "        return len(self.feature_pairs)\n",
    "\n",
    "def intervention_to_utility_features(intervention_outcome):\n",
    "    \"\"\"\n",
    "    Map intervention outcomes to features for utility function\n",
    "    Normalized to prevent numerical issues\n",
    "    \"\"\"\n",
    "    if not isinstance(intervention_outcome, torch.Tensor):\n",
    "        intervention_outcome = torch.tensor(intervention_outcome, dtype=torch.float32)\n",
    "    \n",
    "    # Normalise Y value to [-1, 1] range\n",
    "    y_value = intervention_outcome[2] if intervention_outcome.dim() > 0 else intervention_outcome\n",
    "    y_normalized = torch.tanh(y_value / 2.0)  # Assuming Y is roughly in [-2, 2]\n",
    "\n",
    "    # Fixed intervention cost (also normalised)\n",
    "    intervention_cost = 0.1\n",
    "    \n",
    "    features = torch.tensor([\n",
    "        y_normalized.item() if isinstance(y_normalized, torch.Tensor) else y_normalized,\n",
    "        intervention_cost\n",
    "    ], dtype=torch.float32)\n",
    "    \n",
    "    return features\n",
    "\n",
    "# Map a full outcome vector to (x_for_graph, y) for the ParentPosterior.\n",
    "# For the 3-node dataset: outcome = [X1, X2, Y], and ParentPosterior expects d=2 features (X1,X2).\n",
    "def outcome_to_xy_three(outcome: torch.Tensor):\n",
    "    # outcome: (3,) tensor\n",
    "    x = outcome[:2].unsqueeze(0)   # (1,2) -> (X1, X2)\n",
    "    y = outcome[2].view(1, 1)      # (1,1) -> Y\n",
    "    return x, y"
   ]
  },
  {
   "cell_type": "markdown",
   "id": "43bdcaf8",
   "metadata": {},
   "source": [
    "## PCBO Main Class"
   ]
  },
  {
   "cell_type": "code",
   "execution_count": 4,
   "id": "88735033",
   "metadata": {},
   "outputs": [],
   "source": [
    "class PCBO:\n",
    "    def __init__(self, dataset, device, n_iterations=50):\n",
    "        self.dataset = dataset\n",
    "        self.device = device\n",
    "        self.n_iterations = n_iterations\n",
    "        \n",
    "        # Initialise components\n",
    "        self.pref_flow = self._create_flow()\n",
    "        self.parent_posterior = ParentPosterior(\n",
    "            d=2,  # Number of candidate parents (X1, X2)\n",
    "            a0=1.0, b0=1.0,  # Weak IG prior\n",
    "            tau2=1.0,  # Ridge scale\n",
    "            prior_sparsity=0.5,  # Uninformative on edges\n",
    "            device=device, dtype=torch.float64\n",
    "        )\n",
    "        \n",
    "        # Get true adjacency matrix\n",
    "        self.true_adj, self.node_names = dataset.get_causal_graph()\n",
    "        \n",
    "        # Efficient preference storage\n",
    "        self.pref_dataset = PreferenceDataset(device)\n",
    "        \n",
    "        # Storage for tracking progress\n",
    "        self.iteration_history = []\n",
    "        self.graph_distances = []\n",
    "        self.utility_errors = []\n",
    "        self.edge_prob_errors = []\n",
    "        self.selected_interventions = []\n",
    "        self.causal_buffer = []  # Buffer for causal updates\n",
    "        \n",
    "        # Stability tracking\n",
    "        self.flow_stable = True\n",
    "        self.instability_count = 0\n",
    "        self.reinitialization_count = 0\n",
    "        \n",
    "    def _create_flow(self):\n",
    "        \"\"\"Create a fresh PrefFlow model\"\"\"\n",
    "        base_dist = create_base_distribution(d_utility, self.device, precision_double)\n",
    "        nf_model = real_nvp(flow_layers, d_utility, base_dist, self.device, precision_double)\n",
    "\n",
    "        s_init = 1.0\n",
    "        pref_flow = PrefFlow(nf_model, s_init, d_utility, ranking=False, \n",
    "                            device=self.device, precision_double=precision_double)\n",
    "        return pref_flow\n",
    "        \n",
    "    def train_utility_on_preferences(self, n_epochs=50, lr=1e-4, batch_size=None):\n",
    "        \"\"\"\n",
    "        Update PrefFlow based on preference data with improved stability\n",
    "        \"\"\"\n",
    "        # Use all available data if batch_size not specified\n",
    "        if batch_size is None:\n",
    "            batch_size = min(40, len(self.pref_dataset))\n",
    "        \n",
    "        # Get data from preference dataset\n",
    "        X, Y = self.pref_dataset.get_batch(last_n=batch_size)\n",
    "        \n",
    "        if X is None or Y is None:\n",
    "            print(\"    No preference data available\")\n",
    "            return []\n",
    "        \n",
    "\n",
    "        base_lr = 1e-4\n",
    "        param_groups = [\n",
    "            {\"params\": [p for n,p in self.pref_flow.named_parameters() if n != \"s_raw\"],\n",
    "             \"lr\": base_lr, \"weight_decay\": 1e-6},\n",
    "            {\"params\": [self.pref_flow.s_raw],\n",
    "             \"lr\": base_lr * 5, \"weight_decay\": 0.0},\n",
    "        ]\n",
    "        optimizer = torch.optim.Adam(param_groups)\n",
    "        # optimizer = torch.optim.Adam(self.pref_flow.parameters(), lr=lr)\n",
    "        losses = []\n",
    "        \n",
    "        for epoch in range(n_epochs):\n",
    "            optimizer.zero_grad()\n",
    "            \n",
    "            try:\n",
    "                # Compute loss\n",
    "                log_posterior = self.pref_flow.logposterior((X, Y))\n",
    "                \n",
    "                # Check for NaN\n",
    "                if torch.isnan(log_posterior) or torch.isinf(log_posterior):\n",
    "                    self.flow_stable = False\n",
    "                    self.instability_count += 1\n",
    "                    \n",
    "                    if self.instability_count > 5:\n",
    "                        print(f\"    Flow unstable, reinitializing...\")\n",
    "                        self._reinitialize_flow()\n",
    "                        return self.train_utility_on_preferences(n_epochs//2, lr*0.5, batch_size)\n",
    "                    continue\n",
    "                \n",
    "                loss = -log_posterior\n",
    "                \n",
    "                # Only backprop if loss is valid and reasonable\n",
    "                if not torch.isnan(loss) and not torch.isinf(loss) and abs(loss.item()) < 1e6:\n",
    "                    loss.backward()\n",
    "                    \n",
    "                    # Gradient clipping for stability\n",
    "                    torch.nn.utils.clip_grad_norm_(self.pref_flow.parameters(), max_norm=1.0)\n",
    "                    \n",
    "                    optimizer.step()\n",
    "                    losses.append(loss.item())\n",
    "                    \n",
    "                    # Reset instability count on successful training\n",
    "                    self.flow_stable = True\n",
    "                    self.instability_count = 0\n",
    "                    \n",
    "                    if epoch % 20 == 0:\n",
    "                        print(f\"    Epoch {epoch}, Loss: {loss.item():.4f}\")\n",
    "                        \n",
    "            except Exception as e:\n",
    "                print(f\"    Error during training: {e}\")\n",
    "                self.instability_count += 1\n",
    "                if self.instability_count > 5:\n",
    "                    self._reinitialize_flow()\n",
    "                    return losses\n",
    "                    \n",
    "        return losses\n",
    "    \n",
    "    def _reinitialize_flow(self):\n",
    "        \"\"\"Reinitialise the flow if it becomes unstable\"\"\"\n",
    "        print(\"    Creating new flow due to instability...\")\n",
    "        self.pref_flow = self._create_flow()\n",
    "        self.flow_stable = True\n",
    "        self.reinitialization_count += 1\n",
    "    \n",
    "    def select_next_intervention(self, current_iteration=0, n_candidates=30):\n",
    "        \"\"\"\n",
    "        Select next intervention using PCBO acquisition functions\n",
    "        \"\"\"\n",
    "        # Generate candidate interventions\n",
    "        candidate_interventions = []\n",
    "        candidate_features = []\n",
    "        candidate_outcomes = []\n",
    "\n",
    "        # Ensure coverage of all nodes\n",
    "        for node_idx in range(self.dataset.n_nodes):\n",
    "            n_per_node = n_candidates // self.dataset.n_nodes\n",
    "            for _ in range(n_per_node):\n",
    "                value = np.random.uniform(-2, 2)\n",
    "                intervention = (node_idx, value)\n",
    "                candidate_interventions.append(intervention)\n",
    "                \n",
    "                # Execute intervention to get outcome\n",
    "                outcome = self.dataset._compute_intervention_outcome(node_idx, value)\n",
    "                candidate_outcomes.append(outcome)\n",
    "\n",
    "                # Convert to utility features\n",
    "                features = intervention_to_utility_features(outcome)\n",
    "                candidate_features.append(features)\n",
    "\n",
    "        # Targeted exploration for early iterations\n",
    "        if current_iteration < 10:\n",
    "            target_node = current_iteration % 2  # Alternate between X1 and X2\n",
    "            for _ in range(5):  # Add a few extra candidates for target_node\n",
    "                value = np.random.uniform(-2, 2)\n",
    "                intervention = (target_node, value)\n",
    "                candidate_interventions.append(intervention)\n",
    "                outcome = self.dataset._compute_intervention_outcome(target_node, value)\n",
    "                candidate_outcomes.append(outcome)\n",
    "                features = intervention_to_utility_features(outcome)\n",
    "                candidate_features.append(features)\n",
    "        \n",
    "        # If flow is unstable, use random selection\n",
    "        if not self.flow_stable:\n",
    "            print(\"    Flow unstable, using random selection\")\n",
    "            return candidate_interventions[np.random.randint(len(candidate_interventions))]\n",
    "        \n",
    "        # Stack features\n",
    "        candidate_features = torch.stack(candidate_features).to(self.device)\n",
    "        \n",
    "        # Select anchor intervention\n",
    "        if len(self.selected_interventions) > 0:\n",
    "            # Use a recent successful intervention as anchor\n",
    "            anchor_idx = min(5, len(self.selected_interventions))\n",
    "            anchor_intervention = self.selected_interventions[-anchor_idx]\n",
    "            anchor_node, anchor_value = anchor_intervention\n",
    "\n",
    "            # Get anchor features and outcome\n",
    "            anchor_outcome = self.dataset._compute_intervention_outcome(anchor_node, anchor_value)\n",
    "            anchor_features = intervention_to_utility_features(anchor_outcome)\n",
    "        else:\n",
    "            # First iteration: use first candidate as anchor\n",
    "            anchor_idx = 0\n",
    "            anchor_intervention = candidate_interventions[anchor_idx]\n",
    "            anchor_outcome = candidate_outcomes[anchor_idx]\n",
    "            anchor_features = candidate_features[anchor_idx]\n",
    "        \n",
    "        anchor_features = anchor_features.unsqueeze(0).to(self.device)\n",
    "\n",
    "        # Build (x,y) for EEIG: anchor and all candidates\n",
    "        ax, ay = outcome_to_xy_three(anchor_outcome)  # 3-node dataset\n",
    "        cand_xy = []\n",
    "        for out in candidate_outcomes:\n",
    "            cx, cy = outcome_to_xy_three(out)\n",
    "            cand_xy.append((cx, cy))\n",
    "                \n",
    "        try:\n",
    "            with torch.no_grad():\n",
    "                # 1. Preference Information Gain (for utility learning)\n",
    "                pig_scores = pig_pairwise(\n",
    "                    self.pref_flow, \n",
    "                    anchor_features, \n",
    "                    candidate_features, \n",
    "                    self.pref_flow.s.item()\n",
    "                )\n",
    "                \n",
    "                # 2. Edge Entropy Information Gain (for causal discovery)\n",
    "                eeig_scores = eeig_pairwise(\n",
    "                    self.pref_flow, \n",
    "                    self.parent_posterior, \n",
    "                    anchor_features, \n",
    "                    candidate_features, \n",
    "                    self.pref_flow.s.item(),\n",
    "                    anchor_xy=(ax, ay),\n",
    "                    cand_xy=cand_xy\n",
    "                )\n",
    "            \n",
    "            # Compute adaptive weight between objectives\n",
    "            alpha = self._compute_acquisition_weight(current_iteration)\n",
    "            \n",
    "            # Combine acquisition functions\n",
    "            combined_scores = alpha * pig_scores + (1 - alpha) * eeig_scores\n",
    "            \n",
    "            # Add exploration bonus\n",
    "            exploration_bonus = self._compute_exploration_bonus(candidate_interventions)\n",
    "            combined_scores += 0.1 * exploration_bonus\n",
    "            \n",
    "            # Add small random noise for tie-breaking\n",
    "            combined_scores += 0.01 * np.random.randn(len(combined_scores))\n",
    "            \n",
    "            # Select best intervention\n",
    "            best_idx = np.argmax(combined_scores)\n",
    "            selected_intervention = candidate_interventions[best_idx]\n",
    "            \n",
    "            # Store info for analysis\n",
    "            self.last_acquisition_info = {\n",
    "                'pig_scores': pig_scores,\n",
    "                'eeig_scores': eeig_scores,\n",
    "                'combined_scores': combined_scores,\n",
    "                'alpha': alpha,\n",
    "                'selected': selected_intervention\n",
    "            }\n",
    "            \n",
    "            print(f\"    Selected: Node {selected_intervention[0]}, Value {selected_intervention[1]:.3f}\")\n",
    "            print(f\"    Scores - PIG: {pig_scores[best_idx]:.3f}, EEIG: {eeig_scores[best_idx]:.3f}\")\n",
    "            print(f\"    Alpha (utility weight): {alpha:.3f}\")\n",
    "            \n",
    "        except Exception as e:\n",
    "            print(f\"    Acquisition failed ({e}), using random selection\")\n",
    "            selected_intervention = candidate_interventions[np.random.randint(len(candidate_interventions))]\n",
    "            \n",
    "        return selected_intervention\n",
    "\n",
    "    def _compute_acquisition_weight(self, iteration):\n",
    "        \"\"\"\n",
    "        Compute adaptive weight for PIG (utility learning)\n",
    "        Early: Low alpha (focus on causal discovery via EEIG)\n",
    "        Late: High alpha (focus on utility learning via PIG)\n",
    "        \"\"\"\n",
    "        progress = iteration / self.n_iterations\n",
    "        \n",
    "        # Cosine annealing from 0.2 to 0.8\n",
    "        min_alpha = 0.2\n",
    "        max_alpha = 0.8\n",
    "        alpha = min_alpha + (max_alpha - min_alpha) * 0.5 * (1 + np.cos(np.pi * (1 - progress)))\n",
    "\n",
    "        if hasattr(self, '_force_utility_focus') and self._force_utility_focus:\n",
    "            return 0.9  # Heavy focus on utility\n",
    "\n",
    "        return alpha\n",
    "\n",
    "    def _compute_exploration_bonus(self, candidate_interventions):\n",
    "        \"\"\"\n",
    "        Compute exploration bonus for each candidate based on novelty\n",
    "        \"\"\"\n",
    "        if len(self.selected_interventions) == 0:\n",
    "            return np.zeros(len(candidate_interventions))\n",
    "            \n",
    "        bonuses = []\n",
    "        \n",
    "        for node_idx, value in candidate_interventions:\n",
    "            # Count previous interventions on this node\n",
    "            node_count = sum(1 for n, v in self.selected_interventions if n == node_idx)\n",
    "            node_novelty = 1.0 / (1.0 + node_count)\n",
    "            \n",
    "            # Check value novelty\n",
    "            same_node_values = [v for n, v in self.selected_interventions if n == node_idx]\n",
    "            if same_node_values:\n",
    "                min_distance = min(abs(value - v) for v in same_node_values)\n",
    "                value_novelty = np.tanh(min_distance)\n",
    "            else:\n",
    "                value_novelty = 1.0\n",
    "            \n",
    "            # Combined novelty score\n",
    "            bonus = 0.5 * node_novelty + 0.5 * value_novelty\n",
    "            bonuses.append(bonus)\n",
    "        \n",
    "        return np.array(bonuses)\n",
    "    \n",
    "    def evaluate_current_performance(self):\n",
    "        \"\"\"Evaluate current graph reconstruction and utility learning\"\"\"\n",
    "        # Get edge posteriors\n",
    "        edge_probs = self.parent_posterior.edge_posterior()\n",
    "        \n",
    "        # True edges (X1->Y and X2->Y both exist)\n",
    "        true_edges = torch.tensor([1.0, 1.0])\n",
    "        \n",
    "        # Edge probability error (smooth metric)\n",
    "        edge_prob_error = torch.mean(torch.abs(edge_probs - true_edges)).item()\n",
    "        \n",
    "        # SHD for discrete graph comparison\n",
    "        most_prob_parents, prob = self.parent_posterior.most_probable_set()\n",
    "        learned_adj = torch.zeros_like(self.true_adj)\n",
    "        for i, is_parent in enumerate(most_prob_parents):\n",
    "            if is_parent:\n",
    "                learned_adj[i, 2] = 1\n",
    "        shd = torch.sum(torch.abs(learned_adj - self.true_adj)).item()\n",
    "        \n",
    "        # Utility learning: preference accuracy\n",
    "        util_error = self._evaluate_utility_accuracy()\n",
    "        \n",
    "        return shd, util_error, edge_prob_error\n",
    "    \n",
    "    def _evaluate_utility_accuracy(self, n_test=10):\n",
    "        \"\"\"Test preference prediction accuracy\"\"\"\n",
    "        if not self.flow_stable or len(self.pref_dataset) < 10:\n",
    "            return 1.0\n",
    "        \n",
    "        correct = 0\n",
    "        total = 0\n",
    "        \n",
    "        with torch.no_grad():\n",
    "            for _ in range(n_test):\n",
    "                # Generate two random interventions\n",
    "                interventions = []\n",
    "                outcomes = []\n",
    "                features = []\n",
    "                \n",
    "                for _ in range(2):\n",
    "                    node = np.random.randint(0, self.dataset.n_nodes)\n",
    "                    value = np.random.uniform(-2, 2)\n",
    "                    outcome = self.dataset._compute_intervention_outcome(node, value)\n",
    "                    \n",
    "                    interventions.append((node, value))\n",
    "                    outcomes.append(outcome)\n",
    "                    features.append(intervention_to_utility_features(outcome))\n",
    "                \n",
    "                # True preference\n",
    "                true_utils = [self.dataset._true_utility(out, inter[0]) \n",
    "                             for out, inter in zip(outcomes, interventions)]\n",
    "                true_pref = true_utils[0] > true_utils[1]\n",
    "                \n",
    "                # Learned preference\n",
    "                try:\n",
    "                    feat_tensor = torch.stack(features).to(self.device)\n",
    "                    log_utils, _ = self.pref_flow.f(feat_tensor)\n",
    "                    \n",
    "                    if not torch.any(torch.isnan(log_utils)):\n",
    "                        learned_pref = log_utils[0] > log_utils[1]\n",
    "                        if true_pref == learned_pref:\n",
    "                            correct += 1\n",
    "                        total += 1\n",
    "                except:\n",
    "                    pass\n",
    "        \n",
    "        return 1.0 - (correct / total if total > 0 else 0)\n",
    "    \n",
    "    def update_causal_posterior_from_outcome(self, node_idx, outcome):\n",
    "        \"\"\"Add a single data point from executed intervention for future posterior update\"\"\"\n",
    "        x_values = outcome[:2].unsqueeze(0)\n",
    "        y_value = outcome[2]\n",
    "        self.causal_buffer.append((x_values, y_value))\n",
    "    \n",
    "    def run_iteration(self, all_queries, current_iteration):\n",
    "        \"\"\"\n",
    "        Run one PCBO iteration:\n",
    "        - Trains preference flow if enough preferences\n",
    "        - Updates causal posterior (periodically)\n",
    "        - Selects next intervention\n",
    "        - Executes only the chosen intervention\n",
    "        - Creates a preference query using a random opponent\n",
    "        - Adds the executed data point to causal buffer\n",
    "        - Updates causal posterior in batch\n",
    "        \"\"\"\n",
    "        # Step 1: Update utility function from preferences\n",
    "        print(\"  Updating utility function...\")\n",
    "        if len(self.pref_dataset) >= 10:\n",
    "            self.train_utility_on_preferences()\n",
    "\n",
    "        # Step 2: Periodic causal update (from buffer)\n",
    "        print(\"  Updating causal posterior...\")\n",
    "        if len(self.causal_buffer) >= 5:\n",
    "            for x, y in self.causal_buffer:\n",
    "                self.parent_posterior.add_datapoint(x, y)\n",
    "            self.parent_posterior.update_posterior()\n",
    "            self.causal_buffer = []\n",
    "\n",
    "        # Step 3: Select next intervention\n",
    "        print(\"  Selecting next intervention...\")\n",
    "        intervention = self.select_next_intervention(current_iteration)\n",
    "        self.selected_interventions.append(intervention)\n",
    "\n",
    "        # Step 4: Execute intervention (observed!)\n",
    "        node_idx, value = intervention\n",
    "        outcome = self.dataset._compute_intervention_outcome(node_idx, value)\n",
    "\n",
    "        # Step 5: Simulate a random opponent intervention\n",
    "        alt_node = np.random.randint(0, self.dataset.n_nodes)\n",
    "        alt_value = np.random.uniform(-2, 2)\n",
    "        alt_outcome = self.dataset._compute_intervention_outcome(alt_node, alt_value)\n",
    "\n",
    "        # Step 6: Simulate noisy preference (no leakage)\n",
    "        utility_main = self.dataset._true_utility(outcome, node_idx)\n",
    "        utility_alt = self.dataset._true_utility(alt_outcome, alt_node)\n",
    "        winner_idx = 0 if utility_main > utility_alt else 1\n",
    "\n",
    "        new_query = {\n",
    "            'interventions': [(node_idx, value), (alt_node, alt_value)],\n",
    "            'outcomes': torch.stack([outcome, alt_outcome]),\n",
    "            'winner_idx': winner_idx,\n",
    "            'utilities': torch.tensor([utility_main, utility_alt])\n",
    "        }\n",
    "\n",
    "        # Step 7: Add to preference dataset (for PrefFlow)\n",
    "        self.pref_dataset.add_from_query(new_query)\n",
    "\n",
    "        # Step 8: Add to causal buffer via helper method\n",
    "        self.update_causal_posterior_from_outcome(node_idx, outcome)\n",
    "\n",
    "        # Step 9: Evaluate causal performance\n",
    "        _, _, edge_prob_error = self.evaluate_current_performance()\n",
    "        if edge_prob_error < 0.1 and current_iteration > 20:\n",
    "            print(f\"  Causal structure converged! Focusing on utility learning.\")\n",
    "            self._force_utility_focus = True\n",
    "\n",
    "        return new_query"
   ]
  },
  {
   "cell_type": "markdown",
   "id": "7946d681",
   "metadata": {},
   "source": [
    "## Run PCBO"
   ]
  },
  {
   "cell_type": "code",
   "execution_count": 5,
   "id": "b4b14748",
   "metadata": {},
   "outputs": [
    {
     "name": "stdout",
     "output_type": "stream",
     "text": [
      "Starting PCBO iterations...\n"
     ]
    },
    {
     "name": "stderr",
     "output_type": "stream",
     "text": [
      "  0%|          | 0/50 [00:00<?, ?it/s]"
     ]
    },
    {
     "name": "stdout",
     "output_type": "stream",
     "text": [
      "\n",
      "Iteration 1/50\n",
      "  Updating utility function...\n",
      "    Epoch 0, Loss: 55.5138\n",
      "    Epoch 20, Loss: 54.6029\n",
      "    Epoch 40, Loss: 53.7022\n",
      "  Updating causal posterior...\n",
      "  Selecting next intervention...\n"
     ]
    },
    {
     "name": "stderr",
     "output_type": "stream",
     "text": [
      "  2%|▏         | 1/50 [00:01<01:03,  1.30s/it]"
     ]
    },
    {
     "name": "stdout",
     "output_type": "stream",
     "text": [
      "    Selected: Node 0, Value 1.863\n",
      "    Scores - PIG: 0.692, EEIG: 0.063\n",
      "    Alpha (utility weight): 0.200\n",
      "\n",
      "Iteration 2/50\n",
      "  Updating utility function...\n",
      "    Epoch 0, Loss: 55.8796\n",
      "    Epoch 20, Loss: 54.9344\n",
      "    Epoch 40, Loss: 53.9883\n"
     ]
    },
    {
     "name": "stderr",
     "output_type": "stream",
     "text": [
      "  4%|▍         | 2/50 [00:01<00:32,  1.48it/s]"
     ]
    },
    {
     "name": "stdout",
     "output_type": "stream",
     "text": [
      "  Updating causal posterior...\n",
      "  Selecting next intervention...\n",
      "    Selected: Node 1, Value -1.837\n",
      "    Scores - PIG: 0.693, EEIG: 0.092\n",
      "    Alpha (utility weight): 0.201\n",
      "\n",
      "Iteration 3/50\n",
      "  Updating utility function...\n",
      "    Epoch 0, Loss: 56.0947\n",
      "    Epoch 20, Loss: 55.0985\n"
     ]
    },
    {
     "name": "stderr",
     "output_type": "stream",
     "text": [
      "  6%|▌         | 3/50 [00:01<00:22,  2.11it/s]"
     ]
    },
    {
     "name": "stdout",
     "output_type": "stream",
     "text": [
      "    Epoch 40, Loss: 54.0984\n",
      "  Updating causal posterior...\n",
      "  Selecting next intervention...\n",
      "    Selected: Node 2, Value 0.447\n",
      "    Scores - PIG: 0.693, EEIG: 0.039\n",
      "    Alpha (utility weight): 0.202\n",
      "\n",
      "Iteration 4/50\n",
      "  Updating utility function...\n",
      "    Epoch 0, Loss: 56.1078\n",
      "    Epoch 20, Loss: 55.0589\n"
     ]
    },
    {
     "name": "stderr",
     "output_type": "stream",
     "text": [
      "  8%|▊         | 4/50 [00:02<00:17,  2.63it/s]"
     ]
    },
    {
     "name": "stdout",
     "output_type": "stream",
     "text": [
      "    Epoch 40, Loss: 54.0061\n",
      "  Updating causal posterior...\n",
      "  Selecting next intervention...\n",
      "    Selected: Node 1, Value 1.474\n",
      "    Scores - PIG: 0.693, EEIG: 0.113\n",
      "    Alpha (utility weight): 0.205\n",
      "\n",
      "Iteration 5/50\n",
      "  Updating utility function...\n",
      "    Epoch 0, Loss: 55.7541\n",
      "    Epoch 20, Loss: 54.6413\n"
     ]
    },
    {
     "name": "stderr",
     "output_type": "stream",
     "text": [
      " 10%|█         | 5/50 [00:02<00:14,  3.06it/s]"
     ]
    },
    {
     "name": "stdout",
     "output_type": "stream",
     "text": [
      "    Epoch 40, Loss: 53.5309\n",
      "  Updating causal posterior...\n",
      "  Selecting next intervention...\n",
      "    Selected: Node 0, Value -1.662\n",
      "    Scores - PIG: 0.693, EEIG: 0.099\n",
      "    Alpha (utility weight): 0.209\n",
      "\n",
      "Iteration 6/50\n",
      "  Updating utility function...\n",
      "    Epoch 0, Loss: 55.1035\n",
      "    Epoch 20, Loss: 53.9363\n"
     ]
    },
    {
     "name": "stderr",
     "output_type": "stream",
     "text": [
      " 12%|█▏        | 6/50 [00:02<00:13,  3.36it/s]"
     ]
    },
    {
     "name": "stdout",
     "output_type": "stream",
     "text": [
      "    Epoch 40, Loss: 52.7646\n",
      "  Updating causal posterior...\n",
      "  Selecting next intervention...\n",
      "    Selected: Node 0, Value 1.019\n",
      "    Scores - PIG: 0.693, EEIG: 0.176\n",
      "    Alpha (utility weight): 0.215\n",
      "\n",
      "Iteration 7/50\n",
      "  Updating utility function...\n",
      "    Epoch 0, Loss: 54.3660\n",
      "    Epoch 20, Loss: 53.1449\n"
     ]
    },
    {
     "name": "stderr",
     "output_type": "stream",
     "text": [
      " 14%|█▍        | 7/50 [00:02<00:11,  3.59it/s]"
     ]
    },
    {
     "name": "stdout",
     "output_type": "stream",
     "text": [
      "    Epoch 40, Loss: 51.9188\n",
      "  Updating causal posterior...\n",
      "  Selecting next intervention...\n",
      "    Selected: Node 2, Value -1.574\n",
      "    Scores - PIG: 0.679, EEIG: 0.133\n",
      "    Alpha (utility weight): 0.221\n",
      "\n",
      "Iteration 8/50\n",
      "  Updating utility function...\n",
      "    Epoch 0, Loss: 53.2311\n",
      "    Epoch 20, Loss: 51.9336\n"
     ]
    },
    {
     "name": "stderr",
     "output_type": "stream",
     "text": [
      " 16%|█▌        | 8/50 [00:02<00:11,  3.78it/s]"
     ]
    },
    {
     "name": "stdout",
     "output_type": "stream",
     "text": [
      "    Epoch 40, Loss: 50.6472\n",
      "  Updating causal posterior...\n",
      "  Selecting next intervention...\n",
      "    Selected: Node 1, Value 1.929\n",
      "    Scores - PIG: 0.686, EEIG: 0.143\n",
      "    Alpha (utility weight): 0.229\n",
      "\n",
      "Iteration 9/50\n",
      "  Updating utility function...\n",
      "    Epoch 0, Loss: 51.8973\n",
      "    Epoch 20, Loss: 50.5570\n"
     ]
    },
    {
     "name": "stderr",
     "output_type": "stream",
     "text": [
      " 18%|█▊        | 9/50 [00:03<00:10,  3.91it/s]"
     ]
    },
    {
     "name": "stdout",
     "output_type": "stream",
     "text": [
      "    Epoch 40, Loss: 49.2118\n",
      "  Updating causal posterior...\n",
      "  Selecting next intervention...\n",
      "    Selected: Node 0, Value -1.995\n",
      "    Scores - PIG: 0.682, EEIG: 0.143\n",
      "    Alpha (utility weight): 0.237\n",
      "\n",
      "Iteration 10/50\n",
      "  Updating utility function...\n",
      "    Epoch 0, Loss: 50.1356\n",
      "    Epoch 20, Loss: 48.7286\n"
     ]
    },
    {
     "name": "stderr",
     "output_type": "stream",
     "text": [
      " 20%|██        | 10/50 [00:03<00:09,  4.01it/s]"
     ]
    },
    {
     "name": "stdout",
     "output_type": "stream",
     "text": [
      "    Epoch 40, Loss: 47.3180\n",
      "  Updating causal posterior...\n",
      "  Selecting next intervention...\n",
      "    Selected: Node 1, Value -1.321\n",
      "    Scores - PIG: 0.685, EEIG: 0.182\n",
      "    Alpha (utility weight): 0.247\n",
      "  SHD: 0.00, Edge prob error: 0.118\n",
      "  Utility error: 0.100\n",
      "  Edge probabilities: [0.93594351 0.82710041]\n",
      "  Most probable parents: ((1, 1), 0.7775126495783383)\n",
      "  Noise parameter (s): 1.1500539768956584\n",
      "\n",
      "Iteration 11/50\n",
      "  Updating utility function...\n",
      "    Epoch 0, Loss: 48.3483\n",
      "    Epoch 20, Loss: 46.8832\n"
     ]
    },
    {
     "name": "stderr",
     "output_type": "stream",
     "text": [
      " 22%|██▏       | 11/50 [00:03<00:09,  4.12it/s]"
     ]
    },
    {
     "name": "stdout",
     "output_type": "stream",
     "text": [
      "    Epoch 40, Loss: 45.4170\n",
      "  Updating causal posterior...\n",
      "  Selecting next intervention...\n",
      "    Selected: Node 1, Value 0.090\n",
      "    Scores - PIG: 0.693, EEIG: 0.056\n",
      "    Alpha (utility weight): 0.257\n",
      "\n",
      "Iteration 12/50\n",
      "  Updating utility function...\n",
      "    Epoch 0, Loss: 46.1395\n",
      "    Epoch 20, Loss: 44.6133\n"
     ]
    },
    {
     "name": "stderr",
     "output_type": "stream",
     "text": [
      " 24%|██▍       | 12/50 [00:03<00:09,  4.20it/s]"
     ]
    },
    {
     "name": "stdout",
     "output_type": "stream",
     "text": [
      "    Epoch 40, Loss: 43.0818\n",
      "  Updating causal posterior...\n",
      "  Selecting next intervention...\n",
      "    Selected: Node 0, Value -0.412\n",
      "    Scores - PIG: 0.681, EEIG: -0.026\n",
      "    Alpha (utility weight): 0.269\n",
      "\n",
      "Iteration 13/50\n",
      "  Updating utility function...\n",
      "    Epoch 0, Loss: 43.4104\n",
      "    Epoch 20, Loss: 41.8140\n"
     ]
    },
    {
     "name": "stderr",
     "output_type": "stream",
     "text": [
      " 26%|██▌       | 13/50 [00:04<00:08,  4.24it/s]"
     ]
    },
    {
     "name": "stdout",
     "output_type": "stream",
     "text": [
      "    Epoch 40, Loss: 40.2129\n",
      "  Updating causal posterior...\n",
      "  Selecting next intervention...\n",
      "    Selected: Node 2, Value 1.596\n",
      "    Scores - PIG: 0.657, EEIG: 0.078\n",
      "    Alpha (utility weight): 0.281\n",
      "\n",
      "Iteration 14/50\n",
      "  Updating utility function...\n",
      "    Epoch 0, Loss: 40.5656\n",
      "    Epoch 20, Loss: 38.8994\n"
     ]
    },
    {
     "name": "stderr",
     "output_type": "stream",
     "text": [
      " 28%|██▊       | 14/50 [00:04<00:08,  4.31it/s]"
     ]
    },
    {
     "name": "stdout",
     "output_type": "stream",
     "text": [
      "    Epoch 40, Loss: 37.2428\n",
      "  Updating causal posterior...\n",
      "  Selecting next intervention...\n",
      "    Selected: Node 1, Value -1.646\n",
      "    Scores - PIG: 0.693, EEIG: 0.171\n",
      "    Alpha (utility weight): 0.295\n",
      "\n",
      "Iteration 15/50\n",
      "  Updating utility function...\n",
      "    Epoch 0, Loss: 37.7187\n",
      "    Epoch 20, Loss: 35.9947\n"
     ]
    },
    {
     "name": "stderr",
     "output_type": "stream",
     "text": [
      " 30%|███       | 15/50 [00:04<00:08,  4.37it/s]"
     ]
    },
    {
     "name": "stdout",
     "output_type": "stream",
     "text": [
      "    Epoch 40, Loss: 34.2900\n",
      "  Updating causal posterior...\n",
      "  Selecting next intervention...\n",
      "    Selected: Node 1, Value -1.891\n",
      "    Scores - PIG: 0.690, EEIG: 0.103\n",
      "    Alpha (utility weight): 0.309\n",
      "\n",
      "Iteration 16/50\n",
      "  Updating utility function...\n",
      "    Epoch 0, Loss: 34.2722\n",
      "    Epoch 20, Loss: 32.5019\n"
     ]
    },
    {
     "name": "stderr",
     "output_type": "stream",
     "text": [
      " 32%|███▏      | 16/50 [00:04<00:07,  4.40it/s]"
     ]
    },
    {
     "name": "stdout",
     "output_type": "stream",
     "text": [
      "    Epoch 40, Loss: 30.7310\n",
      "  Updating causal posterior...\n",
      "  Selecting next intervention...\n",
      "    Selected: Node 2, Value -0.811\n",
      "    Scores - PIG: 0.686, EEIG: 0.032\n",
      "    Alpha (utility weight): 0.324\n",
      "\n",
      "Iteration 17/50\n",
      "  Updating utility function...\n",
      "    Epoch 0, Loss: 30.5847\n",
      "    Epoch 20, Loss: 28.7564\n"
     ]
    },
    {
     "name": "stderr",
     "output_type": "stream",
     "text": [
      " 34%|███▍      | 17/50 [00:05<00:07,  4.42it/s]"
     ]
    },
    {
     "name": "stdout",
     "output_type": "stream",
     "text": [
      "    Epoch 40, Loss: 26.9302\n",
      "  Updating causal posterior...\n",
      "  Selecting next intervention...\n",
      "    Selected: Node 0, Value 0.375\n",
      "    Scores - PIG: 0.693, EEIG: 0.017\n",
      "    Alpha (utility weight): 0.339\n",
      "\n",
      "Iteration 18/50\n",
      "  Updating utility function...\n",
      "    Epoch 0, Loss: 26.4688\n",
      "    Epoch 20, Loss: 24.5869\n"
     ]
    },
    {
     "name": "stderr",
     "output_type": "stream",
     "text": [
      " 36%|███▌      | 18/50 [00:05<00:07,  4.43it/s]"
     ]
    },
    {
     "name": "stdout",
     "output_type": "stream",
     "text": [
      "    Epoch 40, Loss: 22.7083\n",
      "  Updating causal posterior...\n",
      "  Selecting next intervention...\n",
      "    Selected: Node 1, Value 1.924\n",
      "    Scores - PIG: 0.673, EEIG: 0.046\n",
      "    Alpha (utility weight): 0.355\n",
      "\n",
      "Iteration 19/50\n",
      "  Updating utility function...\n",
      "    Epoch 0, Loss: 21.9595\n",
      "    Epoch 20, Loss: 20.0284\n"
     ]
    },
    {
     "name": "stderr",
     "output_type": "stream",
     "text": [
      " 38%|███▊      | 19/50 [00:05<00:06,  4.44it/s]"
     ]
    },
    {
     "name": "stdout",
     "output_type": "stream",
     "text": [
      "    Epoch 40, Loss: 18.1051\n",
      "  Updating causal posterior...\n",
      "  Selecting next intervention...\n",
      "    Selected: Node 0, Value 1.466\n",
      "    Scores - PIG: 0.692, EEIG: 0.044\n",
      "    Alpha (utility weight): 0.372\n",
      "\n",
      "Iteration 20/50\n",
      "  Updating utility function...\n",
      "    Epoch 0, Loss: 17.7368\n",
      "    Epoch 20, Loss: 15.7849\n"
     ]
    },
    {
     "name": "stderr",
     "output_type": "stream",
     "text": [
      " 40%|████      | 20/50 [00:05<00:06,  4.43it/s]"
     ]
    },
    {
     "name": "stdout",
     "output_type": "stream",
     "text": [
      "    Epoch 40, Loss: 13.8469\n",
      "  Updating causal posterior...\n",
      "  Selecting next intervention...\n",
      "    Selected: Node 1, Value -0.583\n",
      "    Scores - PIG: 0.693, EEIG: 0.043\n",
      "    Alpha (utility weight): 0.390\n",
      "  SHD: 0.00, Edge prob error: 0.066\n",
      "  Utility error: 0.000\n",
      "  Edge probabilities: [0.98741425 0.88033272]\n",
      "  Most probable parents: ((1, 1), 0.8697644547388382)\n",
      "  Noise parameter (s): 1.4209767034794427\n",
      "\n",
      "Iteration 21/50\n",
      "  Updating utility function...\n",
      "    Epoch 0, Loss: 12.9309\n",
      "    Epoch 20, Loss: 10.9548\n"
     ]
    },
    {
     "name": "stderr",
     "output_type": "stream",
     "text": [
      " 42%|████▏     | 21/50 [00:05<00:06,  4.42it/s]"
     ]
    },
    {
     "name": "stdout",
     "output_type": "stream",
     "text": [
      "    Epoch 40, Loss: 8.9937\n",
      "  Updating causal posterior...\n",
      "  Selecting next intervention...\n",
      "    Selected: Node 2, Value 0.917\n",
      "    Scores - PIG: 0.691, EEIG: -0.016\n",
      "    Alpha (utility weight): 0.407\n",
      "\n",
      "Iteration 22/50\n",
      "  Updating utility function...\n",
      "    Epoch 0, Loss: 8.1188\n",
      "    Epoch 20, Loss: 6.1840\n"
     ]
    },
    {
     "name": "stderr",
     "output_type": "stream",
     "text": [
      " 44%|████▍     | 22/50 [00:06<00:06,  4.45it/s]"
     ]
    },
    {
     "name": "stdout",
     "output_type": "stream",
     "text": [
      "    Epoch 40, Loss: 4.2669\n",
      "  Updating causal posterior...\n",
      "  Selecting next intervention...\n",
      "    Selected: Node 1, Value 1.765\n",
      "    Scores - PIG: 0.690, EEIG: 0.035\n",
      "    Alpha (utility weight): 0.425\n",
      "  Causal structure converged! Focusing on utility learning.\n",
      "\n",
      "Iteration 23/50\n",
      "  Updating utility function...\n",
      "    Epoch 0, Loss: 4.0473\n",
      "    Epoch 20, Loss: 2.1841\n"
     ]
    },
    {
     "name": "stderr",
     "output_type": "stream",
     "text": [
      " 46%|████▌     | 23/50 [00:06<00:06,  4.41it/s]"
     ]
    },
    {
     "name": "stdout",
     "output_type": "stream",
     "text": [
      "    Epoch 40, Loss: 0.3543\n",
      "  Updating causal posterior...\n",
      "  Selecting next intervention...\n",
      "    Selected: Node 1, Value 0.621\n",
      "    Scores - PIG: 0.689, EEIG: 0.071\n",
      "    Alpha (utility weight): 0.900\n",
      "  Causal structure converged! Focusing on utility learning.\n",
      "\n",
      "Iteration 24/50\n",
      "  Updating utility function...\n",
      "    Epoch 0, Loss: -0.4173\n",
      "    Epoch 20, Loss: -2.2071\n"
     ]
    },
    {
     "name": "stderr",
     "output_type": "stream",
     "text": [
      " 48%|████▊     | 24/50 [00:06<00:05,  4.40it/s]"
     ]
    },
    {
     "name": "stdout",
     "output_type": "stream",
     "text": [
      "    Epoch 40, Loss: -3.9636\n",
      "  Updating causal posterior...\n",
      "  Selecting next intervention...\n",
      "    Selected: Node 0, Value -1.168\n",
      "    Scores - PIG: 0.688, EEIG: 0.031\n",
      "    Alpha (utility weight): 0.900\n",
      "  Causal structure converged! Focusing on utility learning.\n",
      "\n",
      "Iteration 25/50\n",
      "  Updating utility function...\n",
      "    Epoch 0, Loss: -4.6922\n",
      "    Epoch 20, Loss: -6.3774\n"
     ]
    },
    {
     "name": "stderr",
     "output_type": "stream",
     "text": [
      " 50%|█████     | 25/50 [00:06<00:05,  4.40it/s]"
     ]
    },
    {
     "name": "stdout",
     "output_type": "stream",
     "text": [
      "    Epoch 40, Loss: -8.0198\n",
      "  Updating causal posterior...\n",
      "  Selecting next intervention...\n",
      "    Selected: Node 2, Value 0.111\n",
      "    Scores - PIG: 0.693, EEIG: 0.007\n",
      "    Alpha (utility weight): 0.900\n",
      "  Causal structure converged! Focusing on utility learning.\n",
      "\n",
      "Iteration 26/50\n",
      "  Updating utility function...\n",
      "    Epoch 0, Loss: -9.2247\n",
      "    Epoch 20, Loss: -10.8271\n"
     ]
    },
    {
     "name": "stderr",
     "output_type": "stream",
     "text": [
      " 52%|█████▏    | 26/50 [00:07<00:05,  4.40it/s]"
     ]
    },
    {
     "name": "stdout",
     "output_type": "stream",
     "text": [
      "    Epoch 40, Loss: -12.3764\n",
      "  Updating causal posterior...\n",
      "  Selecting next intervention...\n",
      "    Selected: Node 2, Value 0.748\n",
      "    Scores - PIG: 0.682, EEIG: -0.016\n",
      "    Alpha (utility weight): 0.900\n",
      "  Causal structure converged! Focusing on utility learning.\n",
      "\n",
      "Iteration 27/50\n",
      "  Updating utility function...\n",
      "    Epoch 0, Loss: -12.0482\n",
      "    Epoch 20, Loss: -13.5057\n"
     ]
    },
    {
     "name": "stderr",
     "output_type": "stream",
     "text": [
      " 54%|█████▍    | 27/50 [00:07<00:05,  4.39it/s]"
     ]
    },
    {
     "name": "stdout",
     "output_type": "stream",
     "text": [
      "    Epoch 40, Loss: -14.8869\n",
      "  Updating causal posterior...\n",
      "  Selecting next intervention...\n",
      "    Selected: Node 1, Value -0.874\n",
      "    Scores - PIG: 0.691, EEIG: 0.027\n",
      "    Alpha (utility weight): 0.900\n",
      "  Causal structure converged! Focusing on utility learning.\n",
      "\n",
      "Iteration 28/50\n",
      "  Updating utility function...\n",
      "    Epoch 0, Loss: -15.9691\n",
      "    Epoch 20, Loss: -17.3150\n"
     ]
    },
    {
     "name": "stderr",
     "output_type": "stream",
     "text": [
      " 56%|█████▌    | 28/50 [00:07<00:05,  4.39it/s]"
     ]
    },
    {
     "name": "stdout",
     "output_type": "stream",
     "text": [
      "    Epoch 40, Loss: -18.5941\n",
      "  Updating causal posterior...\n",
      "  Selecting next intervention...\n",
      "    Selected: Node 1, Value 0.859\n",
      "    Scores - PIG: 0.693, EEIG: 0.021\n",
      "    Alpha (utility weight): 0.900\n",
      "  Causal structure converged! Focusing on utility learning.\n",
      "\n",
      "Iteration 29/50\n",
      "  Updating utility function...\n",
      "    Epoch 0, Loss: -18.8399\n",
      "    Epoch 20, Loss: -20.0530\n"
     ]
    },
    {
     "name": "stderr",
     "output_type": "stream",
     "text": [
      " 58%|█████▊    | 29/50 [00:07<00:04,  4.38it/s]"
     ]
    },
    {
     "name": "stdout",
     "output_type": "stream",
     "text": [
      "    Epoch 40, Loss: -21.2634\n",
      "  Updating causal posterior...\n",
      "  Selecting next intervention...\n",
      "    Selected: Node 1, Value 1.223\n",
      "    Scores - PIG: 0.693, EEIG: 0.042\n",
      "    Alpha (utility weight): 0.900\n",
      "  Causal structure converged! Focusing on utility learning.\n",
      "\n",
      "Iteration 30/50\n",
      "  Updating utility function...\n",
      "    Epoch 0, Loss: -21.9157\n",
      "    Epoch 20, Loss: -23.1385\n"
     ]
    },
    {
     "name": "stderr",
     "output_type": "stream",
     "text": [
      " 60%|██████    | 30/50 [00:08<00:04,  4.09it/s]"
     ]
    },
    {
     "name": "stdout",
     "output_type": "stream",
     "text": [
      "    Epoch 40, Loss: -24.3681\n",
      "  Updating causal posterior...\n",
      "  Selecting next intervention...\n",
      "    Selected: Node 0, Value -0.294\n",
      "    Scores - PIG: 0.691, EEIG: -0.002\n",
      "    Alpha (utility weight): 0.900\n",
      "  Causal structure converged! Focusing on utility learning.\n",
      "  SHD: 0.00, Edge prob error: 0.032\n",
      "  Utility error: 0.000\n",
      "  Edge probabilities: [0.99749708 0.93880041]\n",
      "  Most probable parents: ((1, 1), 0.9365620981282106)\n",
      "  Noise parameter (s): 1.3014588424629763\n",
      "\n",
      "Iteration 31/50\n",
      "  Updating utility function...\n",
      "    Epoch 0, Loss: -28.2546\n"
     ]
    },
    {
     "name": "stderr",
     "output_type": "stream",
     "text": [
      " 62%|██████▏   | 31/50 [00:08<00:04,  4.13it/s]"
     ]
    },
    {
     "name": "stdout",
     "output_type": "stream",
     "text": [
      "    Epoch 20, Loss: -29.7013\n",
      "    Epoch 40, Loss: -30.9896\n",
      "  Updating causal posterior...\n",
      "  Selecting next intervention...\n",
      "    Selected: Node 0, Value -0.728\n",
      "    Scores - PIG: 0.680, EEIG: 0.002\n",
      "    Alpha (utility weight): 0.900\n",
      "  Causal structure converged! Focusing on utility learning.\n",
      "\n",
      "Iteration 32/50\n",
      "  Updating utility function...\n",
      "    Epoch 0, Loss: -31.3648\n"
     ]
    },
    {
     "name": "stderr",
     "output_type": "stream",
     "text": [
      " 64%|██████▍   | 32/50 [00:08<00:04,  4.20it/s]"
     ]
    },
    {
     "name": "stdout",
     "output_type": "stream",
     "text": [
      "    Epoch 20, Loss: -32.6149\n",
      "    Epoch 40, Loss: -33.8706\n",
      "  Updating causal posterior...\n",
      "  Selecting next intervention...\n",
      "    Selected: Node 2, Value 0.357\n",
      "    Scores - PIG: 0.692, EEIG: -0.018\n",
      "    Alpha (utility weight): 0.900\n",
      "  Causal structure converged! Focusing on utility learning.\n",
      "\n",
      "Iteration 33/50\n",
      "  Updating utility function...\n",
      "    Epoch 0, Loss: -35.4681\n"
     ]
    },
    {
     "name": "stderr",
     "output_type": "stream",
     "text": [
      " 66%|██████▌   | 33/50 [00:08<00:04,  4.12it/s]"
     ]
    },
    {
     "name": "stdout",
     "output_type": "stream",
     "text": [
      "    Epoch 20, Loss: -36.7537\n",
      "    Epoch 40, Loss: -38.0173\n",
      "  Updating causal posterior...\n",
      "  Selecting next intervention...\n",
      "    Selected: Node 2, Value -0.294\n",
      "    Scores - PIG: 0.693, EEIG: 0.001\n",
      "    Alpha (utility weight): 0.900\n",
      "  Causal structure converged! Focusing on utility learning.\n",
      "\n",
      "Iteration 34/50\n",
      "  Updating utility function...\n",
      "    Epoch 0, Loss: -39.7042\n"
     ]
    },
    {
     "name": "stderr",
     "output_type": "stream",
     "text": [
      " 68%|██████▊   | 34/50 [00:08<00:03,  4.18it/s]"
     ]
    },
    {
     "name": "stdout",
     "output_type": "stream",
     "text": [
      "    Epoch 20, Loss: -41.0393\n",
      "    Epoch 40, Loss: -42.3089\n",
      "  Updating causal posterior...\n",
      "  Selecting next intervention...\n",
      "    Selected: Node 1, Value -0.548\n",
      "    Scores - PIG: 0.693, EEIG: 0.012\n",
      "    Alpha (utility weight): 0.900\n",
      "  Causal structure converged! Focusing on utility learning.\n",
      "\n",
      "Iteration 35/50\n",
      "  Updating utility function...\n",
      "    Epoch 0, Loss: -43.1677\n"
     ]
    },
    {
     "name": "stderr",
     "output_type": "stream",
     "text": [
      " 70%|███████   | 35/50 [00:09<00:03,  4.24it/s]"
     ]
    },
    {
     "name": "stdout",
     "output_type": "stream",
     "text": [
      "    Epoch 20, Loss: -44.4619\n",
      "    Epoch 40, Loss: -45.7603\n",
      "  Updating causal posterior...\n",
      "  Selecting next intervention...\n",
      "    Selected: Node 0, Value 0.148\n",
      "    Scores - PIG: 0.693, EEIG: 0.005\n",
      "    Alpha (utility weight): 0.900\n",
      "  Causal structure converged! Focusing on utility learning.\n",
      "\n",
      "Iteration 36/50\n",
      "  Updating utility function...\n",
      "    Epoch 0, Loss: -46.5012\n"
     ]
    },
    {
     "name": "stderr",
     "output_type": "stream",
     "text": [
      " 72%|███████▏  | 36/50 [00:09<00:03,  4.25it/s]"
     ]
    },
    {
     "name": "stdout",
     "output_type": "stream",
     "text": [
      "    Epoch 20, Loss: -47.8101\n",
      "    Epoch 40, Loss: -49.1254\n",
      "  Updating causal posterior...\n",
      "  Selecting next intervention...\n",
      "    Selected: Node 2, Value -0.633\n",
      "    Scores - PIG: 0.693, EEIG: 0.004\n",
      "    Alpha (utility weight): 0.900\n",
      "  Causal structure converged! Focusing on utility learning.\n",
      "\n",
      "Iteration 37/50\n",
      "  Updating utility function...\n",
      "    Epoch 0, Loss: -51.7377\n"
     ]
    },
    {
     "name": "stderr",
     "output_type": "stream",
     "text": [
      " 74%|███████▍  | 37/50 [00:09<00:03,  4.28it/s]"
     ]
    },
    {
     "name": "stdout",
     "output_type": "stream",
     "text": [
      "    Epoch 20, Loss: -53.1078\n",
      "    Epoch 40, Loss: -54.4363\n",
      "  Updating causal posterior...\n",
      "  Selecting next intervention...\n",
      "    Selected: Node 2, Value -0.170\n",
      "    Scores - PIG: 0.679, EEIG: 0.007\n",
      "    Alpha (utility weight): 0.900\n",
      "  Causal structure converged! Focusing on utility learning.\n",
      "\n",
      "Iteration 38/50\n",
      "  Updating utility function...\n",
      "    Epoch 0, Loss: -56.7209\n"
     ]
    },
    {
     "name": "stderr",
     "output_type": "stream",
     "text": [
      " 76%|███████▌  | 38/50 [00:09<00:02,  4.31it/s]"
     ]
    },
    {
     "name": "stdout",
     "output_type": "stream",
     "text": [
      "    Epoch 20, Loss: -58.1225\n",
      "    Epoch 40, Loss: -59.4725\n",
      "  Updating causal posterior...\n",
      "  Selecting next intervention...\n",
      "    Selected: Node 1, Value -1.031\n",
      "    Scores - PIG: 0.693, EEIG: 0.012\n",
      "    Alpha (utility weight): 0.900\n",
      "  Causal structure converged! Focusing on utility learning.\n",
      "\n",
      "Iteration 39/50\n",
      "  Updating utility function...\n",
      "    Epoch 0, Loss: -57.7098\n"
     ]
    },
    {
     "name": "stderr",
     "output_type": "stream",
     "text": [
      " 78%|███████▊  | 39/50 [00:10<00:02,  4.32it/s]"
     ]
    },
    {
     "name": "stdout",
     "output_type": "stream",
     "text": [
      "    Epoch 20, Loss: -59.0894\n",
      "    Epoch 40, Loss: -60.4344\n",
      "  Updating causal posterior...\n",
      "  Selecting next intervention...\n",
      "    Selected: Node 0, Value -0.380\n",
      "    Scores - PIG: 0.687, EEIG: 0.009\n",
      "    Alpha (utility weight): 0.900\n",
      "  Causal structure converged! Focusing on utility learning.\n",
      "\n",
      "Iteration 40/50\n",
      "  Updating utility function...\n",
      "    Epoch 0, Loss: -60.7869\n"
     ]
    },
    {
     "name": "stderr",
     "output_type": "stream",
     "text": [
      " 80%|████████  | 40/50 [00:10<00:02,  4.35it/s]"
     ]
    },
    {
     "name": "stdout",
     "output_type": "stream",
     "text": [
      "    Epoch 20, Loss: -62.1806\n",
      "    Epoch 40, Loss: -63.5340\n",
      "  Updating causal posterior...\n",
      "  Selecting next intervention...\n",
      "    Selected: Node 2, Value -0.363\n",
      "    Scores - PIG: 0.693, EEIG: 0.006\n",
      "    Alpha (utility weight): 0.900\n",
      "  Causal structure converged! Focusing on utility learning.\n",
      "  SHD: 0.00, Edge prob error: 0.015\n",
      "  Utility error: 0.000\n",
      "  Edge probabilities: [0.99975386 0.97002776]\n",
      "  Most probable parents: ((1, 1), 0.9697995340180291)\n",
      "  Noise parameter (s): 1.2560256345285423\n",
      "\n",
      "Iteration 41/50\n",
      "  Updating utility function...\n",
      "    Epoch 0, Loss: -63.8624\n"
     ]
    },
    {
     "name": "stderr",
     "output_type": "stream",
     "text": [
      " 82%|████████▏ | 41/50 [00:10<00:02,  4.34it/s]"
     ]
    },
    {
     "name": "stdout",
     "output_type": "stream",
     "text": [
      "    Epoch 20, Loss: -65.2412\n",
      "    Epoch 40, Loss: -66.6282\n",
      "  Updating causal posterior...\n",
      "  Selecting next intervention...\n",
      "    Selected: Node 2, Value 0.622\n",
      "    Scores - PIG: 0.686, EEIG: 0.010\n",
      "    Alpha (utility weight): 0.900\n",
      "  Causal structure converged! Focusing on utility learning.\n",
      "\n",
      "Iteration 42/50\n",
      "  Updating utility function...\n",
      "    Epoch 0, Loss: -65.8128\n"
     ]
    },
    {
     "name": "stderr",
     "output_type": "stream",
     "text": [
      " 84%|████████▍ | 42/50 [00:10<00:01,  4.35it/s]"
     ]
    },
    {
     "name": "stdout",
     "output_type": "stream",
     "text": [
      "    Epoch 20, Loss: -67.2190\n",
      "    Epoch 40, Loss: -68.6286\n",
      "  Updating causal posterior...\n",
      "  Selecting next intervention...\n",
      "    Selected: Node 1, Value 0.515\n",
      "    Scores - PIG: 0.693, EEIG: 0.005\n",
      "    Alpha (utility weight): 0.900\n",
      "  Causal structure converged! Focusing on utility learning.\n",
      "\n",
      "Iteration 43/50\n",
      "  Updating utility function...\n",
      "    Epoch 0, Loss: -69.0707\n"
     ]
    },
    {
     "name": "stderr",
     "output_type": "stream",
     "text": [
      " 86%|████████▌ | 43/50 [00:11<00:01,  4.35it/s]"
     ]
    },
    {
     "name": "stdout",
     "output_type": "stream",
     "text": [
      "    Epoch 20, Loss: -70.4929\n",
      "    Epoch 40, Loss: -71.9200\n",
      "  Updating causal posterior...\n",
      "  Selecting next intervention...\n",
      "    Selected: Node 2, Value -1.183\n",
      "    Scores - PIG: 0.682, EEIG: 0.021\n",
      "    Alpha (utility weight): 0.900\n",
      "  Causal structure converged! Focusing on utility learning.\n",
      "\n",
      "Iteration 44/50\n",
      "  Updating utility function...\n",
      "    Epoch 0, Loss: -73.5972\n"
     ]
    },
    {
     "name": "stderr",
     "output_type": "stream",
     "text": [
      " 88%|████████▊ | 44/50 [00:11<00:01,  4.34it/s]"
     ]
    },
    {
     "name": "stdout",
     "output_type": "stream",
     "text": [
      "    Epoch 20, Loss: -75.0310\n",
      "    Epoch 40, Loss: -76.4728\n",
      "  Updating causal posterior...\n",
      "  Selecting next intervention...\n",
      "    Selected: Node 0, Value 0.664\n",
      "    Scores - PIG: 0.679, EEIG: 0.007\n",
      "    Alpha (utility weight): 0.900\n",
      "  Causal structure converged! Focusing on utility learning.\n",
      "\n",
      "Iteration 45/50\n",
      "  Updating utility function...\n",
      "    Epoch 0, Loss: -77.0158\n"
     ]
    },
    {
     "name": "stderr",
     "output_type": "stream",
     "text": [
      " 90%|█████████ | 45/50 [00:11<00:01,  4.37it/s]"
     ]
    },
    {
     "name": "stdout",
     "output_type": "stream",
     "text": [
      "    Epoch 20, Loss: -78.4679\n",
      "    Epoch 40, Loss: -79.9296\n",
      "  Updating causal posterior...\n",
      "  Selecting next intervention...\n",
      "    Selected: Node 2, Value -0.358\n",
      "    Scores - PIG: 0.693, EEIG: 0.004\n",
      "    Alpha (utility weight): 0.900\n",
      "  Causal structure converged! Focusing on utility learning.\n",
      "\n",
      "Iteration 46/50\n",
      "  Updating utility function...\n",
      "    Epoch 0, Loss: -81.6490\n"
     ]
    },
    {
     "name": "stderr",
     "output_type": "stream",
     "text": [
      " 92%|█████████▏| 46/50 [00:11<00:00,  4.34it/s]"
     ]
    },
    {
     "name": "stdout",
     "output_type": "stream",
     "text": [
      "    Epoch 20, Loss: -83.1451\n",
      "    Epoch 40, Loss: -84.6234\n",
      "  Updating causal posterior...\n",
      "  Selecting next intervention...\n",
      "    Selected: Node 1, Value 1.598\n",
      "    Scores - PIG: 0.693, EEIG: 0.005\n",
      "    Alpha (utility weight): 0.900\n",
      "  Causal structure converged! Focusing on utility learning.\n",
      "\n",
      "Iteration 47/50\n",
      "  Updating utility function...\n",
      "    Epoch 0, Loss: -86.4828\n"
     ]
    },
    {
     "name": "stderr",
     "output_type": "stream",
     "text": [
      " 94%|█████████▍| 47/50 [00:11<00:00,  4.36it/s]"
     ]
    },
    {
     "name": "stdout",
     "output_type": "stream",
     "text": [
      "    Epoch 20, Loss: -87.9818\n",
      "    Epoch 40, Loss: -89.4867\n",
      "  Updating causal posterior...\n",
      "  Selecting next intervention...\n",
      "    Selected: Node 0, Value -0.007\n",
      "    Scores - PIG: 0.693, EEIG: 0.004\n",
      "    Alpha (utility weight): 0.900\n",
      "  Causal structure converged! Focusing on utility learning.\n",
      "\n",
      "Iteration 48/50\n",
      "  Updating utility function...\n",
      "    Epoch 0, Loss: -91.9452\n"
     ]
    },
    {
     "name": "stderr",
     "output_type": "stream",
     "text": [
      " 96%|█████████▌| 48/50 [00:12<00:00,  4.36it/s]"
     ]
    },
    {
     "name": "stdout",
     "output_type": "stream",
     "text": [
      "    Epoch 20, Loss: -93.4983\n",
      "    Epoch 40, Loss: -95.0233\n",
      "  Updating causal posterior...\n",
      "  Selecting next intervention...\n",
      "    Selected: Node 0, Value 1.917\n",
      "    Scores - PIG: 0.691, EEIG: -0.032\n",
      "    Alpha (utility weight): 0.900\n",
      "  Causal structure converged! Focusing on utility learning.\n",
      "\n",
      "Iteration 49/50\n",
      "  Updating utility function...\n",
      "    Epoch 0, Loss: -95.7486\n"
     ]
    },
    {
     "name": "stderr",
     "output_type": "stream",
     "text": [
      " 98%|█████████▊| 49/50 [00:12<00:00,  4.32it/s]"
     ]
    },
    {
     "name": "stdout",
     "output_type": "stream",
     "text": [
      "    Epoch 20, Loss: -97.3136\n",
      "    Epoch 40, Loss: -98.8467\n",
      "  Updating causal posterior...\n",
      "  Selecting next intervention...\n",
      "    Selected: Node 0, Value -1.833\n",
      "    Scores - PIG: 0.692, EEIG: 0.007\n",
      "    Alpha (utility weight): 0.900\n",
      "  Causal structure converged! Focusing on utility learning.\n",
      "\n",
      "Iteration 50/50\n",
      "  Updating utility function...\n",
      "    Epoch 0, Loss: -97.7481\n"
     ]
    },
    {
     "name": "stderr",
     "output_type": "stream",
     "text": [
      "100%|██████████| 50/50 [00:12<00:00,  3.96it/s]"
     ]
    },
    {
     "name": "stdout",
     "output_type": "stream",
     "text": [
      "    Epoch 20, Loss: -99.3325\n",
      "    Epoch 40, Loss: -100.8888\n",
      "  Updating causal posterior...\n",
      "  Selecting next intervention...\n",
      "    Selected: Node 1, Value 0.991\n",
      "    Scores - PIG: 0.693, EEIG: 0.002\n",
      "    Alpha (utility weight): 0.900\n",
      "  Causal structure converged! Focusing on utility learning.\n",
      "  SHD: 0.00, Edge prob error: 0.007\n",
      "  Utility error: 0.000\n",
      "  Edge probabilities: [0.99995138 0.98585235]\n",
      "  Most probable parents: ((1, 1), 0.9858058441410052)\n",
      "  Noise parameter (s): 1.2725550008551159\n"
     ]
    },
    {
     "name": "stderr",
     "output_type": "stream",
     "text": [
      "\n"
     ]
    }
   ],
   "source": [
    "# Initialise PCBO\n",
    "pcbo = PCBO(dataset, device, n_iterations=n_iterations)\n",
    "\n",
    "# Use initial preferences from dataset\n",
    "all_queries = list(dataset.queries)\n",
    "for query in all_queries:\n",
    "    pcbo.pref_dataset.add_from_query(query)\n",
    "\n",
    "# Run PCBO iterations\n",
    "print(\"Starting PCBO iterations...\")\n",
    "for iteration in tqdm(range(n_iterations)):\n",
    "    print(f\"\\nIteration {iteration + 1}/{n_iterations}\")\n",
    "    \n",
    "    # Run one iteration\n",
    "    new_query = pcbo.run_iteration(all_queries, iteration)\n",
    "    all_queries.append(new_query)\n",
    "    \n",
    "    # Evaluate performance\n",
    "    shd, util_error, edge_prob_error = pcbo.evaluate_current_performance()\n",
    "    pcbo.iteration_history.append(iteration)\n",
    "    pcbo.graph_distances.append(shd)\n",
    "    pcbo.utility_errors.append(util_error)\n",
    "    pcbo.edge_prob_errors.append(edge_prob_error)\n",
    "    \n",
    "    # Print progress every 10 iterations\n",
    "    if (iteration + 1) % 10 == 0:\n",
    "        edge_probs = pcbo.parent_posterior.edge_posterior()\n",
    "        print(f\"  SHD: {shd:.2f}, Edge prob error: {edge_prob_error:.3f}\")\n",
    "        print(f\"  Utility error: {util_error:.3f}\")\n",
    "        print(f\"  Edge probabilities: {edge_probs.numpy()}\")\n",
    "        print(f\"  Most probable parents: {pcbo.parent_posterior.most_probable_set()}\")\n",
    "        print(f\"  Noise parameter (s): {pcbo.pref_flow.s.item()}\")\n"
   ]
  },
  {
   "cell_type": "markdown",
   "id": "373b8084",
   "metadata": {},
   "source": [
    "## Visualize Results"
   ]
  },
  {
   "cell_type": "code",
   "execution_count": 6,
   "id": "cfb9a2f6",
   "metadata": {},
   "outputs": [
    {
     "data": {
      "image/png": "[encoded data removed]",
      "text/plain": [
       "<Figure size 1500x800 with 7 Axes>"
      ]
     },
     "metadata": {},
     "output_type": "display_data"
    }
   ],
   "source": [
    "# Create comprehensive visualization\n",
    "fig, axes = plt.subplots(2, 3, figsize=(15, 8))\n",
    "\n",
    "# 1. Graph Learning Progress (SHD)\n",
    "axes[0, 0].plot(pcbo.iteration_history, pcbo.graph_distances, 'b-', label='SHD')\n",
    "axes[0, 0].set_xlabel(\"Iteration\")\n",
    "axes[0, 0].set_ylabel(\"Structural Hamming Distance\")\n",
    "axes[0, 0].set_title(\"Graph Learning Progress (SHD)\")\n",
    "axes[0, 0].set_ylim([-0.5, 4.5])\n",
    "axes[0, 0].legend()\n",
    "\n",
    "# 2. Edge Probability Error (Smoother metric)\n",
    "axes[0, 1].plot(pcbo.iteration_history, pcbo.edge_prob_errors, 'g-', label='Edge Prob Error')\n",
    "axes[0, 1].set_xlabel(\"Iteration\")\n",
    "axes[0, 1].set_ylabel(\"Mean Edge Probability Error\")\n",
    "axes[0, 1].set_title(\"Graph Learning Progress (Smooth)\")\n",
    "axes[0, 1].set_ylim([0, 1])\n",
    "axes[0, 1].legend()\n",
    "\n",
    "# 3. Utility Learning Progress\n",
    "axes[0, 2].plot(pcbo.iteration_history, pcbo.utility_errors, 'r-', label='Utility Error')\n",
    "axes[0, 2].set_xlabel(\"Iteration\")\n",
    "axes[0, 2].set_ylabel(\"Preference Prediction Error\")\n",
    "axes[0, 2].set_title(\"Utility Learning Progress\")\n",
    "axes[0, 2].set_ylim([0, 1])\n",
    "axes[0, 2].legend()\n",
    "\n",
    "# 4. Final Edge Probabilities\n",
    "edge_probs = pcbo.parent_posterior.edge_posterior().numpy()\n",
    "axes[1, 0].bar(['X1→Y', 'X2→Y'], edge_probs, color=['blue', 'green'])\n",
    "axes[1, 0].axhline(y=1.0, color='r', linestyle='--', label='True edges')\n",
    "axes[1, 0].set_ylabel(\"Posterior Probability\")\n",
    "axes[1, 0].set_title(\"Learned Edge Probabilities\")\n",
    "axes[1, 0].set_ylim([0, 1.1])\n",
    "axes[1, 0].legend()\n",
    "\n",
    "# 5. Selected Interventions Over Time\n",
    "interventions_array = np.array(pcbo.selected_interventions)\n",
    "scatter = axes[1, 1].scatter(interventions_array[:, 0], interventions_array[:, 1], \n",
    "                            c=range(len(interventions_array)), cmap='viridis', s=50)\n",
    "axes[1, 1].set_xlabel(\"Node Index\")\n",
    "axes[1, 1].set_ylabel(\"Intervention Value\")\n",
    "axes[1, 1].set_title(\"Selected Interventions Over Time\")\n",
    "axes[1, 1].set_xticks([0, 1, 2])\n",
    "axes[1, 1].set_xticklabels(['X1', 'X2', 'Y'])\n",
    "plt.colorbar(scatter, ax=axes[1, 1], label='Iteration')\n",
    "\n",
    "# 6. Preference Dataset Growth\n",
    "axes[1, 2].plot(range(len(all_queries)), [i for i in range(len(all_queries))], 'b-', label='Total Queries')\n",
    "axes[1, 2].plot(range(len(all_queries)), [min(i*2, len(pcbo.pref_dataset)) for i in range(len(all_queries))], \n",
    "               'g-', label='Preference Pairs')\n",
    "axes[1, 2].set_xlabel(\"Iteration\")\n",
    "axes[1, 2].set_ylabel(\"Count\")\n",
    "axes[1, 2].set_title(\"Data Accumulation\")\n",
    "axes[1, 2].legend()\n",
    "\n",
    "plt.tight_layout()\n",
    "plt.show()"
   ]
  },
  {
   "cell_type": "markdown",
   "id": "3666df3e",
   "metadata": {},
   "source": [
    "## Final Results and Analysis"
   ]
  },
  {
   "cell_type": "code",
   "execution_count": 7,
   "id": "351a1947",
   "metadata": {},
   "outputs": [
    {
     "name": "stdout",
     "output_type": "stream",
     "text": [
      "\n",
      "==================================================\n",
      "FINAL RESULTS\n",
      "==================================================\n",
      "\n",
      "True causal graph:\n",
      "[[0 0 1]\n",
      " [0 0 1]\n",
      " [0 0 0]]\n",
      "\n",
      "Most probable parent set for Y: (1, 1)\n",
      "Posterior probability: 0.986\n",
      "\n",
      "Edge posterior probabilities:\n",
      "  P(X1 → Y) = 1.000 (True: 1.0)\n",
      "  P(X2 → Y) = 0.986 (True: 1.0)\n",
      "\n",
      "Final metrics:\n",
      "  SHD: 0.00\n",
      "  Edge probability error: 0.007\n",
      "  Utility prediction error: 0.000\n",
      "\n",
      "Learning efficiency:\n",
      "  Total queries: 70\n",
      "  Total preference comparisons: 70\n",
      "  Flow reinitializations: 0\n",
      "\n",
      "Visualization of learned causal structure:\n"
     ]
    },
    {
     "data": {
      "image/png": "[encoded data removed]",
      "text/plain": [
       "<Figure size 640x480 with 2 Axes>"
      ]
     },
     "metadata": {},
     "output_type": "display_data"
    },
    {
     "name": "stdout",
     "output_type": "stream",
     "text": [
      "\n",
      "==================================================\n",
      "PCBO COMPLETE\n",
      "==================================================\n"
     ]
    }
   ],
   "source": [
    "print(\"\\n\" + \"=\"*50)\n",
    "print(\"FINAL RESULTS\")\n",
    "print(\"=\"*50)\n",
    "\n",
    "print(f\"\\nTrue causal graph:\")\n",
    "print(f\"{true_adj.numpy()}\")\n",
    "\n",
    "most_prob_parents, prob = pcbo.parent_posterior.most_probable_set()\n",
    "print(f\"\\nMost probable parent set for Y: {most_prob_parents}\")\n",
    "print(f\"Posterior probability: {prob:.3f}\")\n",
    "\n",
    "edge_probs = pcbo.parent_posterior.edge_posterior()\n",
    "print(f\"\\nEdge posterior probabilities:\")\n",
    "print(f\"  P(X1 → Y) = {edge_probs[0]:.3f} (True: 1.0)\")\n",
    "print(f\"  P(X2 → Y) = {edge_probs[1]:.3f} (True: 1.0)\")\n",
    "\n",
    "print(f\"\\nFinal metrics:\")\n",
    "print(f\"  SHD: {pcbo.graph_distances[-1]:.2f}\")\n",
    "print(f\"  Edge probability error: {pcbo.edge_prob_errors[-1]:.3f}\")\n",
    "print(f\"  Utility prediction error: {pcbo.utility_errors[-1]:.3f}\")\n",
    "\n",
    "print(f\"\\nLearning efficiency:\")\n",
    "print(f\"  Total queries: {len(all_queries)}\")\n",
    "print(f\"  Total preference comparisons: {len(pcbo.pref_dataset)}\")\n",
    "print(f\"  Flow reinitializations: {pcbo.reinitialization_count}\")\n",
    "\n",
    "# Visualize final learned causal structure\n",
    "learned_adj = torch.zeros_like(true_adj)\n",
    "for i, is_parent in enumerate(most_prob_parents):\n",
    "    if is_parent:\n",
    "        learned_adj[i, 2] = 1\n",
    "\n",
    "print(\"\\nVisualization of learned causal structure:\")\n",
    "plot_dag(learned_adj.numpy(), names=node_names, \n",
    "         edge_probs=torch.tensor([[0, 0, edge_probs[0]], \n",
    "                                  [0, 0, edge_probs[1]], \n",
    "                                  [0, 0, 0]]).numpy())\n",
    "\n",
    "print(\"\\n\" + \"=\"*50)\n",
    "print(\"PCBO COMPLETE\")\n",
    "print(\"=\"*50)"
   ]
  }
 ],
 "metadata": {
  "kernelspec": {
   "display_name": "base",
   "language": "python",
   "name": "python3"
  },
  "language_info": {
   "codemirror_mode": {
    "name": "ipython",
    "version": 3
   },
   "file_extension": ".py",
   "mimetype": "text/x-python",
   "name": "python",
   "nbconvert_exporter": "python",
   "pygments_lexer": "ipython3",
   "version": "3.11.5"
  }
 },
 "nbformat": 4,
 "nbformat_minor": 5
}
