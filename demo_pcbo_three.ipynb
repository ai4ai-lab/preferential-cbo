{
 "cells": [
  {
   "cell_type": "markdown",
   "id": "dc6409b5",
   "metadata": {},
   "source": [
    "# PCBO: Preferential Causal Bayesian Optimisation\n"
   ]
  },
  {
   "cell_type": "code",
   "execution_count": 31,
   "id": "a950291d",
   "metadata": {},
   "outputs": [
    {
     "name": "stdout",
     "output_type": "stream",
     "text": [
      "Using device: cpu\n"
     ]
    }
   ],
   "source": [
    "import torch\n",
    "import numpy as np\n",
    "import matplotlib.pyplot as plt\n",
    "from tqdm import tqdm\n",
    "from sklearn.linear_model import LassoCV, LinearRegression\n",
    "from sklearn.preprocessing import StandardScaler\n",
    "import networkx as nx\n",
    "import warnings\n",
    "warnings.filterwarnings('ignore')\n",
    "\n",
    "# Custom modules\n",
    "from flows import real_nvp, create_base_distribution\n",
    "from prefflow import PrefFlow\n",
    "from pcbo_dataset import PCBO_Dataset_Three\n",
    "from parent_posterior import ParentPosterior, LocalParentPosterior\n",
    "from acquisition import pig_pairwise, eeig_pairwise\n",
    "from dag_visual import plot_dag\n",
    "\n",
    "# Set random seeds\n",
    "torch.manual_seed(42)\n",
    "np.random.seed(42)\n",
    "\n",
    "# Device and precision\n",
    "device = torch.device(\"cuda\" if torch.cuda.is_available() else \"cpu\")\n",
    "precision_double = True\n",
    "print(f\"Using device: {device}\")"
   ]
  },
  {
   "cell_type": "markdown",
   "id": "8ee7d6ee",
   "metadata": {},
   "source": [
    "## Problem Setup"
   ]
  },
  {
   "cell_type": "code",
   "execution_count": 32,
   "id": "b3c7696e",
   "metadata": {},
   "outputs": [
    {
     "name": "stdout",
     "output_type": "stream",
     "text": [
      "True causal graph:\n",
      "tensor([[0, 0, 1],\n",
      "        [0, 0, 1],\n",
      "        [0, 0, 0]])\n",
      "Node names: ['X1', 'X2', 'Y']\n"
     ]
    }
   ],
   "source": [
    "\"\"\"\n",
    "Toy Problem: X1 -> Y <- X2\n",
    "- We can intervene on X1, X2, or Y\n",
    "- True utility: minimize |Y| with small intervention cost\n",
    "- Learn both the causal graph and utility function from preferences\n",
    "\"\"\"\n",
    "\n",
    "# Problem parameters\n",
    "n_nodes = 3  # X1, X2, Y\n",
    "d_utility = 2  # Dimensionality for utility function input\n",
    "n_initial_prefs = 20  # Initial preference data\n",
    "n_iterations = 50  # PCBO iterations\n",
    "k = 2  # k-wise preferences (pairwise for now)\n",
    "flow_layers = 5  # Number of flow layers in the PrefFlow\n",
    "\n",
    "# Create synthetic dataset\n",
    "dataset = PCBO_Dataset_Three(\n",
    "    n_queries=n_initial_prefs,\n",
    "    noise_std=0.1,\n",
    "    domain=(-2, 2),\n",
    "    seed=42\n",
    ")\n",
    "\n",
    "true_adj, node_names = dataset.get_causal_graph()\n",
    "print(f\"True causal graph:\\n{true_adj}\")\n",
    "print(f\"Node names: {node_names}\")"
   ]
  },
  {
   "cell_type": "markdown",
   "id": "c3b0a6f1",
   "metadata": {},
   "source": [
    "## Helper Classes and Functions"
   ]
  },
  {
   "cell_type": "code",
   "execution_count": null,
   "id": "36531271",
   "metadata": {},
   "outputs": [],
   "source": [
    "class PreferenceDataset:\n",
    "    \"\"\"Efficient storage for preference comparisons\"\"\"\n",
    "    def __init__(self, device):\n",
    "        self.device = device\n",
    "        self.feature_pairs = []  # List of (feat_winner, feat_loser) tuples\n",
    "        self.labels = []  # List of labels (always 1.0 for winner first)\n",
    "        self._X_cache = None\n",
    "        self._Y_cache = None\n",
    "        self._cache_valid = False\n",
    "        \n",
    "    def add_preference(self, outcome_winner, outcome_loser):\n",
    "        \"\"\"Add a new preference comparison\"\"\"\n",
    "        feat_winner = intervention_to_utility_features(outcome_winner)\n",
    "        feat_loser = intervention_to_utility_features(outcome_loser)\n",
    "        self.feature_pairs.append((feat_winner, feat_loser))\n",
    "        self.labels.append(1.0)\n",
    "        self._cache_valid = False\n",
    "        \n",
    "    def add_from_query(self, query_data):\n",
    "        \"\"\"Add preferences from a query with k options\"\"\"\n",
    "        outcomes = query_data['outcomes']\n",
    "        winner_idx = query_data['winner_idx']\n",
    "        \n",
    "        # Compare winner against all losers\n",
    "        for i in range(len(outcomes)):\n",
    "            if i != winner_idx:\n",
    "                self.add_preference(outcomes[winner_idx], outcomes[i])\n",
    "        \n",
    "    def get_batch(self, last_n=None):\n",
    "        \"\"\"Get preference data in PrefFlow format\"\"\"\n",
    "        if len(self.feature_pairs) == 0:\n",
    "            return None, None\n",
    "            \n",
    "        pairs = self.feature_pairs[-last_n:] if last_n else self.feature_pairs\n",
    "        labels = self.labels[-last_n:] if last_n else self.labels\n",
    "        \n",
    "        n_comparisons = len(pairs)\n",
    "        feat_dim = pairs[0][0].shape[0]\n",
    "        X = torch.zeros(2, feat_dim, n_comparisons).to(self.device)\n",
    "        \n",
    "        for i, (feat1, feat2) in enumerate(pairs):\n",
    "            X[0, :, i] = feat1.to(self.device)\n",
    "            X[1, :, i] = feat2.to(self.device)\n",
    "        \n",
    "        Y = torch.tensor(labels, dtype=torch.float32).to(self.device)\n",
    "        \n",
    "        return X, Y\n",
    "    \n",
    "    def __len__(self):\n",
    "        return len(self.feature_pairs)\n",
    "\n",
    "def intervention_to_utility_features(intervention_outcome):\n",
    "    \"\"\"\n",
    "    Map intervention outcomes to features for utility function\n",
    "    Normalized to prevent numerical issues\n",
    "    \"\"\"\n",
    "    if not isinstance(intervention_outcome, torch.Tensor):\n",
    "        intervention_outcome = torch.tensor(intervention_outcome, dtype=torch.float32)\n",
    "    \n",
    "    # Normalize Y value to [-1, 1] range\n",
    "    y_value = intervention_outcome[2] if intervention_outcome.dim() > 0 else intervention_outcome\n",
    "    y_normalized = torch.tanh(y_value / 2.0)  # Assuming Y is roughly in [-2, 2]\n",
    "\n",
    "    # Fixed intervention cost (also normalized)\n",
    "    intervention_cost = 0.1\n",
    "    \n",
    "    features = torch.tensor([\n",
    "        y_normalized.item() if isinstance(y_normalized, torch.Tensor) else y_normalized,\n",
    "        intervention_cost\n",
    "    ], dtype=torch.float32)\n",
    "    \n",
    "    return features\n",
    "\n",
    "# Map a full outcome vector to (x_for_graph, y) for the ParentPosterior.\n",
    "# For the 3-node dataset: outcome = [X1, X2, Y], and ParentPosterior expects d=2 features (X1,X2).\n",
    "def outcome_to_xy_three(outcome):\n",
    "    x = outcome[:2].unsqueeze(0)  # (1,2) -> (X1, X2)\n",
    "    y = outcome[2].view(1, 1)  # (1,1) -> Y\n",
    "    return x, y\n",
    "\n",
    "def rank_normalize(x):\n",
    "    x = np.asarray(x, dtype=float)\n",
    "    if np.allclose(x, x[0]):  # if all elements are equal\n",
    "        return np.zeros_like(x)  # no signal\n",
    "    # returns values in [0,1] based on ranks; ties get the mean rank\n",
    "    order = np.argsort(x)\n",
    "    ranks = np.empty_like(order, dtype=float)\n",
    "    ranks[order] = np.arange(len(x), dtype=float)\n",
    "    # average ranks for ties\n",
    "    # (vectorized: compute groups with same x and average their ranks)\n",
    "    _, idx_start = np.unique(x[order], return_index=True)\n",
    "    idx_end = np.r_[idx_start[1:], len(x)]\n",
    "    for s, e in zip(idx_start, idx_end):\n",
    "        mean_rank = (s + e - 1) / 2.0\n",
    "        ranks[s:e] = mean_rank\n",
    "    return ranks / max(1, len(x) - 1)"
   ]
  },
  {
   "cell_type": "markdown",
   "id": "43bdcaf8",
   "metadata": {},
   "source": [
    "## PCBO Main Class"
   ]
  },
  {
   "cell_type": "code",
   "execution_count": null,
   "id": "88735033",
   "metadata": {},
   "outputs": [],
   "source": [
    "class PCBO:\n",
    "    def __init__(self, dataset, device, n_iterations=50):\n",
    "        self.dataset = dataset\n",
    "        self.device = device\n",
    "        self.n_iterations = n_iterations\n",
    "        \n",
    "        # Initialize components\n",
    "        self.pref_flow = self._create_flow()\n",
    "        \n",
    "        self.parent_posterior = LocalParentPosterior(\n",
    "            target_idx=2,  # Y\n",
    "            parent_idx=[0, 1],  # {X1, X2}\n",
    "            a0=1.0, b0=1.0, tau2=1.0, prior_sparsity=0.5,\n",
    "            device=device, dtype=torch.float64\n",
    "        )\n",
    "                \n",
    "        # Get true adjacency matrix\n",
    "        self.true_adj, self.node_names = dataset.get_causal_graph()\n",
    "        \n",
    "        # Efficient preference storage\n",
    "        self.pref_dataset = PreferenceDataset(device)\n",
    "        \n",
    "        # Storage for tracking progress\n",
    "        self.iteration_history = []\n",
    "        self.graph_distances = []\n",
    "        self.utility_errors = []\n",
    "        self.edge_prob_errors = []\n",
    "        self.selected_interventions = []\n",
    "        self.causal_buffer = []  # Buffer for causal updates\n",
    "        \n",
    "        # Stability tracking\n",
    "        self.flow_stable = True\n",
    "        self.instability_count = 0\n",
    "        self.reinitialization_count = 0\n",
    "        \n",
    "    def _create_flow(self):\n",
    "        \"\"\"Create a fresh PrefFlow model\"\"\"\n",
    "        base_dist = create_base_distribution(d_utility, self.device, precision_double)\n",
    "        nf_model = real_nvp(flow_layers, d_utility, base_dist, self.device, precision_double)\n",
    "\n",
    "        s_init = 1.0\n",
    "        pref_flow = PrefFlow(nf_model, s_init, d_utility, ranking=False, \n",
    "                            device=self.device, precision_double=precision_double)\n",
    "        return pref_flow\n",
    "        \n",
    "    def train_utility_on_preferences(self, n_epochs=50, lr=1e-4, batch_size=None):\n",
    "        \"\"\"\n",
    "        Update PrefFlow based on preference data with improved stability\n",
    "        \"\"\"\n",
    "        # Use all available data if batch_size not specified\n",
    "        if batch_size is None:\n",
    "            batch_size = min(40, len(self.pref_dataset))\n",
    "        \n",
    "        # Get data from preference dataset\n",
    "        X, Y = self.pref_dataset.get_batch(last_n=batch_size)\n",
    "        \n",
    "        if X is None or Y is None:\n",
    "            print(\"    No preference data available\")\n",
    "            return []\n",
    "        \n",
    "\n",
    "        base_lr = 1e-4\n",
    "        param_groups = [\n",
    "            {\"params\": [p for n,p in self.pref_flow.named_parameters() if n != \"s_raw\"],\n",
    "             \"lr\": base_lr, \"weight_decay\": 1e-6},\n",
    "            {\"params\": [self.pref_flow.s_raw],\n",
    "             \"lr\": base_lr * 5, \"weight_decay\": 0.0},\n",
    "        ]\n",
    "        optimizer = torch.optim.Adam(param_groups)\n",
    "        losses = []\n",
    "        \n",
    "        for epoch in range(n_epochs):\n",
    "            optimizer.zero_grad()\n",
    "            \n",
    "            try:\n",
    "                # Compute loss\n",
    "                log_posterior = self.pref_flow.logposterior((X, Y))\n",
    "                \n",
    "                # Check for NaN\n",
    "                if torch.isnan(log_posterior) or torch.isinf(log_posterior):\n",
    "                    self.flow_stable = False\n",
    "                    self.instability_count += 1\n",
    "                    \n",
    "                    if self.instability_count > 5:\n",
    "                        print(f\"    Flow unstable, reinitializing...\")\n",
    "                        self._reinitialize_flow()\n",
    "                        return self.train_utility_on_preferences(n_epochs//2, lr*0.5, batch_size)\n",
    "                    continue\n",
    "                \n",
    "                loss = -log_posterior\n",
    "                \n",
    "                # Only backprop if loss is valid and reasonable\n",
    "                if not torch.isnan(loss) and not torch.isinf(loss) and abs(loss.item()) < 1e6:\n",
    "                    loss.backward()\n",
    "                    \n",
    "                    # Gradient clipping for stability\n",
    "                    torch.nn.utils.clip_grad_norm_(self.pref_flow.parameters(), max_norm=1.0)\n",
    "                    \n",
    "                    optimizer.step()\n",
    "                    losses.append(loss.item())\n",
    "                    \n",
    "                    # Reset instability count on successful training\n",
    "                    self.flow_stable = True\n",
    "                    self.instability_count = 0\n",
    "                    \n",
    "                    if epoch % 20 == 0:\n",
    "                        print(f\"    Epoch {epoch}, Loss: {loss.item():.4f}\")\n",
    "                        \n",
    "            except Exception as e:\n",
    "                print(f\"    Error during training: {e}\")\n",
    "                self.instability_count += 1\n",
    "                if self.instability_count > 5:\n",
    "                    self._reinitialize_flow()\n",
    "                    return losses\n",
    "                    \n",
    "        return losses\n",
    "    \n",
    "    def _reinitialize_flow(self):\n",
    "        \"\"\"Reinitialize the flow if it becomes unstable\"\"\"\n",
    "        print(\"    Creating new flow due to instability...\")\n",
    "        self.pref_flow = self._create_flow()\n",
    "        self.flow_stable = True\n",
    "        self.reinitialization_count += 1\n",
    "    \n",
    "    def select_next_intervention(self, current_iteration=0, n_candidates=30):\n",
    "        \"\"\"\n",
    "        Select next intervention using PCBO acquisition functions\n",
    "        \"\"\"\n",
    "        # Generate candidate interventions\n",
    "        candidate_interventions = []\n",
    "        candidate_features = []\n",
    "        candidate_outcomes = []\n",
    "\n",
    "        # Ensure coverage of all nodes\n",
    "        for node_idx in range(self.dataset.n_nodes):\n",
    "            n_per_node = n_candidates // self.dataset.n_nodes\n",
    "            for _ in range(n_per_node):\n",
    "                value = np.random.uniform(-2, 2)\n",
    "                intervention = (node_idx, value)\n",
    "                candidate_interventions.append(intervention)\n",
    "                \n",
    "                # Execute intervention to get outcome\n",
    "                outcome = self.dataset._compute_intervention_outcome(node_idx, value)\n",
    "                candidate_outcomes.append(outcome)\n",
    "\n",
    "                # Convert to utility features\n",
    "                features = intervention_to_utility_features(outcome)\n",
    "                candidate_features.append(features)\n",
    "\n",
    "        # Targeted exploration for early iterations\n",
    "        if current_iteration < 10:\n",
    "            target_node = current_iteration % 2  # Alternate between X1 and X2\n",
    "            for _ in range(5):  # Add a few extra candidates for target_node\n",
    "                value = np.random.uniform(-2, 2)\n",
    "                intervention = (target_node, value)\n",
    "                candidate_interventions.append(intervention)\n",
    "                outcome = self.dataset._compute_intervention_outcome(target_node, value)\n",
    "                candidate_outcomes.append(outcome)\n",
    "                features = intervention_to_utility_features(outcome)\n",
    "                candidate_features.append(features)\n",
    "        \n",
    "        # If flow is unstable, use random selection\n",
    "        if not self.flow_stable:\n",
    "            print(\"    Flow unstable, using random selection\")\n",
    "            return candidate_interventions[np.random.randint(len(candidate_interventions))]\n",
    "        \n",
    "        # Stack features\n",
    "        candidate_features = torch.stack(candidate_features).to(self.device)\n",
    "        \n",
    "        # Select anchor intervention\n",
    "        if len(self.selected_interventions) > 0:\n",
    "            # Use a recent successful intervention as anchor\n",
    "            anchor_idx = min(5, len(self.selected_interventions))\n",
    "            anchor_intervention = self.selected_interventions[-anchor_idx]\n",
    "            anchor_node, anchor_value = anchor_intervention\n",
    "\n",
    "            # Get anchor features and outcome\n",
    "            anchor_outcome = self.dataset._compute_intervention_outcome(anchor_node, anchor_value)\n",
    "            anchor_features = intervention_to_utility_features(anchor_outcome)\n",
    "        else:\n",
    "            # First iteration: use first candidate as anchor\n",
    "            anchor_idx = 0\n",
    "            anchor_intervention = candidate_interventions[anchor_idx]\n",
    "            anchor_outcome = candidate_outcomes[anchor_idx]\n",
    "            anchor_features = candidate_features[anchor_idx]\n",
    "        \n",
    "        anchor_features = anchor_features.unsqueeze(0).to(self.device)\n",
    "\n",
    "        # Build (x,y) for EEIG: anchor and all candidates\n",
    "        ax, ay = outcome_to_xy_three(anchor_outcome)  # 3-node dataset\n",
    "        cand_xy = []\n",
    "        for out in candidate_outcomes:\n",
    "            cx, cy = outcome_to_xy_three(out)\n",
    "            cand_xy.append((cx, cy))\n",
    "                \n",
    "        try:\n",
    "            with torch.no_grad():\n",
    "                # 1. Preference Information Gain (for utility learning)\n",
    "                pig_scores = pig_pairwise(\n",
    "                    self.pref_flow, \n",
    "                    anchor_features, \n",
    "                    candidate_features, \n",
    "                    self.pref_flow.s.item()\n",
    "                )\n",
    "                \n",
    "                # 2. Edge Entropy Information Gain (for causal discovery)\n",
    "                eeig_scores = eeig_pairwise(\n",
    "                    self.pref_flow, \n",
    "                    self.parent_posterior, \n",
    "                    anchor_features, \n",
    "                    candidate_features, \n",
    "                    self.pref_flow.s.item(),\n",
    "                    anchor_xy=(ax, ay),\n",
    "                    cand_xy=cand_xy\n",
    "                )\n",
    "            \n",
    "            # Compute adaptive weight between objectives\n",
    "            alpha = self._compute_acquisition_weight(current_iteration)\n",
    "\n",
    "            # Normalize both scores\n",
    "            pig = rank_normalize(pig_scores)\n",
    "            eeig = rank_normalize(eeig_scores)\n",
    " \n",
    "            # Combine acquisition functions\n",
    "            combined_scores = alpha * pig + (1 - alpha) * eeig\n",
    "            \n",
    "            # Add exploration bonus\n",
    "            exploration_bonus = self._compute_exploration_bonus(candidate_interventions)\n",
    "            combined_scores += 0.1 * exploration_bonus\n",
    "            \n",
    "            # Add small random noise for tie-breaking\n",
    "            combined_scores += 0.01 * np.random.randn(len(combined_scores))\n",
    "            \n",
    "            # Select best intervention\n",
    "            best_idx = np.argmax(combined_scores)\n",
    "            selected_intervention = candidate_interventions[best_idx]\n",
    "            \n",
    "            # Store info for analysis\n",
    "            self.last_acquisition_info = {\n",
    "                'pig_scores': pig_scores,\n",
    "                'eeig_scores': eeig_scores,\n",
    "                'combined_scores': combined_scores,\n",
    "                'alpha': alpha,\n",
    "                'selected': selected_intervention\n",
    "            }\n",
    "            \n",
    "            print(f\"    Selected: Node {selected_intervention[0]}, Value {selected_intervention[1]:.3f}\")\n",
    "            print(f\"    Scores - PIG: {pig_scores[best_idx]:.3f}, EEIG: {eeig_scores[best_idx]:.3f}\")\n",
    "            print(f\"    Alpha (utility weight): {alpha:.3f}\")\n",
    "            \n",
    "        except Exception as e:\n",
    "            print(f\"    Acquisition failed ({e}), using random selection\")\n",
    "            selected_intervention = candidate_interventions[np.random.randint(len(candidate_interventions))]\n",
    "            \n",
    "        return selected_intervention\n",
    "\n",
    "    # def _compute_acquisition_weight(self, iteration):\n",
    "    #     \"\"\"\n",
    "    #     Compute adaptive weight for PIG (utility learning)\n",
    "    #     Early: Low alpha (focus on causal discovery via EEIG)\n",
    "    #     Late: High alpha (focus on utility learning via PIG)\n",
    "    #     \"\"\"\n",
    "    #     progress = iteration / self.n_iterations\n",
    "        \n",
    "    #     # Cosine annealing from 0.2 to 0.8\n",
    "    #     min_alpha = 0.2\n",
    "    #     max_alpha = 0.8\n",
    "    #     alpha = min_alpha + (max_alpha - min_alpha) * 0.5 * (1 + np.cos(np.pi * (1 - progress)))\n",
    "\n",
    "    #     if hasattr(self, '_force_utility_focus') and self._force_utility_focus:\n",
    "    #         return 0.9  # Heavy focus on utility\n",
    "\n",
    "    #     return alpha\n",
    "    \n",
    "    def _compute_acquisition_weight(self, iteration):\n",
    "        t = iteration / max(1, self.n_iterations - 1)\n",
    "        return 0.05 + 0.90 * (t ** 1.5)\n",
    "\n",
    "    def _compute_exploration_bonus(self, candidate_interventions):\n",
    "        \"\"\"\n",
    "        Compute exploration bonus for each candidate based on novelty\n",
    "        \"\"\"\n",
    "        if len(self.selected_interventions) == 0:\n",
    "            return np.zeros(len(candidate_interventions))\n",
    "            \n",
    "        bonuses = []\n",
    "        \n",
    "        for node_idx, value in candidate_interventions:\n",
    "            # Count previous interventions on this node\n",
    "            node_count = sum(1 for n, v in self.selected_interventions if n == node_idx)\n",
    "            node_novelty = 1.0 / (1.0 + node_count)\n",
    "            \n",
    "            # Check value novelty\n",
    "            same_node_values = [v for n, v in self.selected_interventions if n == node_idx]\n",
    "            if same_node_values:\n",
    "                min_distance = min(abs(value - v) for v in same_node_values)\n",
    "                value_novelty = np.tanh(min_distance)\n",
    "            else:\n",
    "                value_novelty = 1.0\n",
    "            \n",
    "            # Combined novelty score\n",
    "            bonus = 0.5 * node_novelty + 0.5 * value_novelty\n",
    "            bonuses.append(bonus)\n",
    "        \n",
    "        return np.array(bonuses)\n",
    "    \n",
    "    def evaluate_current_performance(self):\n",
    "        \"\"\"Evaluate current graph reconstruction and utility learning\"\"\"\n",
    "        # Get edge posteriors\n",
    "        edge_probs = self.parent_posterior.edge_posterior()\n",
    "        \n",
    "        # True edges (X1->Y and X2->Y both exist)\n",
    "        true_edges = torch.tensor([1.0, 1.0])\n",
    "        \n",
    "        # Edge probability error (smooth metric)\n",
    "        edge_prob_error = torch.mean(torch.abs(edge_probs - true_edges)).item()\n",
    "        \n",
    "        # SHD for discrete graph comparison\n",
    "        most_prob_parents, prob = self.parent_posterior.most_probable_set()\n",
    "        learned_adj = torch.zeros_like(self.true_adj)\n",
    "        for i, is_parent in enumerate(most_prob_parents):\n",
    "            if is_parent:\n",
    "                learned_adj[i, 2] = 1\n",
    "        shd = torch.sum(torch.abs(learned_adj - self.true_adj)).item()\n",
    "        \n",
    "        # Utility learning: preference accuracy\n",
    "        util_error = self._evaluate_utility_accuracy()\n",
    "        \n",
    "        return shd, util_error, edge_prob_error\n",
    "    \n",
    "    def _evaluate_utility_accuracy(self, n_test=10):\n",
    "        \"\"\"Test preference prediction accuracy\"\"\"\n",
    "        if not self.flow_stable or len(self.pref_dataset) < 10:\n",
    "            return 1.0\n",
    "        \n",
    "        correct = 0\n",
    "        total = 0\n",
    "        \n",
    "        with torch.no_grad():\n",
    "            for _ in range(n_test):\n",
    "                # Generate two random interventions\n",
    "                interventions = []\n",
    "                outcomes = []\n",
    "                features = []\n",
    "                \n",
    "                for _ in range(2):\n",
    "                    node = np.random.randint(0, self.dataset.n_nodes)\n",
    "                    value = np.random.uniform(-2, 2)\n",
    "                    outcome = self.dataset._compute_intervention_outcome(node, value)\n",
    "                    \n",
    "                    interventions.append((node, value))\n",
    "                    outcomes.append(outcome)\n",
    "                    features.append(intervention_to_utility_features(outcome))\n",
    "                \n",
    "                # True preference\n",
    "                true_utils = [self.dataset._true_utility(out, inter[0]) \n",
    "                             for out, inter in zip(outcomes, interventions)]\n",
    "                true_pref = true_utils[0] > true_utils[1]\n",
    "                \n",
    "                # Learned preference\n",
    "                try:\n",
    "                    feat_tensor = torch.stack(features).to(self.device)\n",
    "                    log_utils, _ = self.pref_flow.f(feat_tensor)\n",
    "                    \n",
    "                    if not torch.any(torch.isnan(log_utils)):\n",
    "                        learned_pref = log_utils[0] > log_utils[1]\n",
    "                        if true_pref == learned_pref:\n",
    "                            correct += 1\n",
    "                        total += 1\n",
    "                except:\n",
    "                    pass\n",
    "        \n",
    "        return 1.0 - (correct / total if total > 0 else 0)\n",
    "    \n",
    "    def update_causal_posterior_from_outcome(self, node_idx, outcome):\n",
    "        \"\"\"Add a single data point from executed intervention for future posterior update\"\"\"\n",
    "        self.causal_buffer.append((outcome, node_idx))\n",
    "\n",
    "    def run_iteration(self, all_queries, current_iteration):\n",
    "        \"\"\"\n",
    "        One PCBO iteration:\n",
    "          - train PrefFlow (if enough prefs)\n",
    "          - select & execute one intervention\n",
    "          - simulate an opponent intervention\n",
    "          - add BOTH outcomes to the causal buffer\n",
    "          - periodically batch-update the causal posterior\n",
    "          - add preference pair(s)\n",
    "          - evaluate/adjust acquisition weighting if desired\n",
    "        \"\"\"\n",
    "        # 1) Utility update from preferences\n",
    "        print(\"  Updating utility function...\")\n",
    "        if len(self.pref_dataset) >= 10:\n",
    "            self.train_utility_on_preferences()\n",
    "\n",
    "        # 2) Select next intervention\n",
    "        print(\"  Selecting next intervention...\")\n",
    "        intervention = self.select_next_intervention(current_iteration)\n",
    "        self.selected_interventions.append(intervention)\n",
    "\n",
    "        # 3) Execute chosen intervention\n",
    "        node_idx, value = intervention\n",
    "        outcome = self.dataset._compute_intervention_outcome(node_idx, value)\n",
    "\n",
    "        # 4) Simulate a random opponent intervention\n",
    "        alt_node = np.random.randint(0, self.dataset.n_nodes)\n",
    "        alt_value = np.random.uniform(-2, 2)\n",
    "        alt_outcome = self.dataset._compute_intervention_outcome(alt_node, alt_value)\n",
    "\n",
    "        # 5) Simulate noisy preference (no leakage)\n",
    "        utility_main = self.dataset._true_utility(outcome, node_idx)\n",
    "        utility_alt = self.dataset._true_utility(alt_outcome, alt_node)\n",
    "        winner_idx = 0 if utility_main > utility_alt else 1\n",
    "\n",
    "        new_query = {\n",
    "            \"interventions\": [(node_idx, value), (alt_node, alt_value)],\n",
    "            \"outcomes\": torch.stack([outcome, alt_outcome]),\n",
    "            \"winner_idx\": winner_idx,\n",
    "            \"utilities\": torch.tensor([utility_main, utility_alt]),\n",
    "        }\n",
    "\n",
    "        # 6) Add to preference dataset (for PrefFlow)\n",
    "        self.pref_dataset.add_from_query(new_query)\n",
    "\n",
    "        # 7) Add BOTH outcomes to the causal buffer\n",
    "        self.update_causal_posterior_from_outcome(node_idx, outcome)\n",
    "        self.update_causal_posterior_from_outcome(alt_node, alt_outcome)\n",
    "\n",
    "        # 8) Periodic batch update of causal posterior\n",
    "        if len(self.causal_buffer) >= 6:  # 6 = 3 pairs\n",
    "            for out_i, do_i in self.causal_buffer:\n",
    "                self.parent_posterior.add_datapoint_full(out_i, do_i)\n",
    "            self.parent_posterior.update_posterior()\n",
    "            self.causal_buffer = []\n",
    "\n",
    "        # 9) Evaluate causal performance & optionally switch focus\n",
    "        _, _, edge_prob_error = self.evaluate_current_performance()\n",
    "        if edge_prob_error < 0.1 and current_iteration > 20:\n",
    "            print(\"  Causal structure converged! Focusing on utility learning.\")\n",
    "            self._force_utility_focus = True\n",
    "\n",
    "        return new_query"
   ]
  },
  {
   "cell_type": "markdown",
   "id": "7946d681",
   "metadata": {},
   "source": [
    "## Run PCBO"
   ]
  },
  {
   "cell_type": "code",
   "execution_count": 35,
   "id": "b4b14748",
   "metadata": {},
   "outputs": [
    {
     "name": "stdout",
     "output_type": "stream",
     "text": [
      "Adding initial diverse interventions...\n",
      "Starting PCBO iterations...\n"
     ]
    },
    {
     "name": "stderr",
     "output_type": "stream",
     "text": [
      "  0%|          | 0/50 [00:00<?, ?it/s]"
     ]
    },
    {
     "name": "stdout",
     "output_type": "stream",
     "text": [
      "\n",
      "Iteration 1/50\n",
      "  Updating utility function...\n",
      "    Epoch 0, Loss: 55.5138\n",
      "    Epoch 20, Loss: 54.6029\n",
      "    Epoch 40, Loss: 53.7022\n"
     ]
    },
    {
     "name": "stderr",
     "output_type": "stream",
     "text": [
      "  2%|▏         | 1/50 [00:00<00:12,  3.81it/s]"
     ]
    },
    {
     "name": "stdout",
     "output_type": "stream",
     "text": [
      "  Selecting next intervention...\n",
      "    Selected: Node 0, Value 1.863\n",
      "    Scores - PIG: 0.692, EEIG: 0.207\n",
      "    Alpha (utility weight): 0.050\n",
      "\n",
      "Iteration 2/50\n",
      "  Updating utility function...\n",
      "    Epoch 0, Loss: 55.8870\n",
      "    Epoch 20, Loss: 54.9445\n",
      "    Epoch 40, Loss: 53.9988\n"
     ]
    },
    {
     "name": "stderr",
     "output_type": "stream",
     "text": [
      "  4%|▍         | 2/50 [00:00<00:11,  4.20it/s]"
     ]
    },
    {
     "name": "stdout",
     "output_type": "stream",
     "text": [
      "  Selecting next intervention...\n",
      "    Selected: Node 1, Value -1.033\n",
      "    Scores - PIG: 0.692, EEIG: 0.218\n",
      "    Alpha (utility weight): 0.053\n",
      "\n",
      "Iteration 3/50\n",
      "  Updating utility function...\n",
      "    Epoch 0, Loss: 56.0277\n",
      "    Epoch 20, Loss: 55.0274\n",
      "    Epoch 40, Loss: 54.0248\n"
     ]
    },
    {
     "name": "stderr",
     "output_type": "stream",
     "text": [
      "  6%|▌         | 3/50 [00:00<00:10,  4.29it/s]"
     ]
    },
    {
     "name": "stdout",
     "output_type": "stream",
     "text": [
      "  Selecting next intervention...\n",
      "    Selected: Node 0, Value -1.837\n",
      "    Scores - PIG: 0.693, EEIG: 0.205\n",
      "    Alpha (utility weight): 0.057\n",
      "\n",
      "Iteration 4/50\n",
      "  Updating utility function...\n",
      "    Epoch 0, Loss: 55.9651\n",
      "    Epoch 20, Loss: 54.9011\n"
     ]
    },
    {
     "name": "stderr",
     "output_type": "stream",
     "text": [
      "  8%|▊         | 4/50 [00:00<00:10,  4.32it/s]"
     ]
    },
    {
     "name": "stdout",
     "output_type": "stream",
     "text": [
      "    Epoch 40, Loss: 53.8420\n",
      "  Selecting next intervention...\n",
      "    Selected: Node 1, Value 1.605\n",
      "    Scores - PIG: 0.693, EEIG: 0.336\n",
      "    Alpha (utility weight): 0.064\n",
      "\n",
      "Iteration 5/50\n",
      "  Updating utility function...\n",
      "    Epoch 0, Loss: 55.6691\n",
      "    Epoch 20, Loss: 54.5593\n"
     ]
    },
    {
     "name": "stderr",
     "output_type": "stream",
     "text": [
      " 10%|█         | 5/50 [00:01<00:10,  4.40it/s]"
     ]
    },
    {
     "name": "stdout",
     "output_type": "stream",
     "text": [
      "    Epoch 40, Loss: 53.4447\n",
      "  Selecting next intervention...\n",
      "    Selected: Node 0, Value -0.082\n",
      "    Scores - PIG: 0.692, EEIG: 0.151\n",
      "    Alpha (utility weight): 0.071\n",
      "\n",
      "Iteration 6/50\n",
      "  Updating utility function...\n",
      "    Epoch 0, Loss: 54.8536\n",
      "    Epoch 20, Loss: 53.6776\n"
     ]
    },
    {
     "name": "stderr",
     "output_type": "stream",
     "text": [
      " 12%|█▏        | 6/50 [00:01<00:10,  4.27it/s]"
     ]
    },
    {
     "name": "stdout",
     "output_type": "stream",
     "text": [
      "    Epoch 40, Loss: 52.4985\n",
      "  Selecting next intervention...\n",
      "    Selected: Node 1, Value -1.908\n",
      "    Scores - PIG: 0.693, EEIG: 0.300\n",
      "    Alpha (utility weight): 0.079\n",
      "\n",
      "Iteration 7/50\n",
      "  Updating utility function...\n",
      "    Epoch 0, Loss: 53.9496\n",
      "    Epoch 20, Loss: 52.7130\n"
     ]
    },
    {
     "name": "stderr",
     "output_type": "stream",
     "text": [
      " 14%|█▍        | 7/50 [00:01<00:09,  4.35it/s]"
     ]
    },
    {
     "name": "stdout",
     "output_type": "stream",
     "text": [
      "    Epoch 40, Loss: 51.4721\n",
      "  Selecting next intervention...\n",
      "    Selected: Node 0, Value -0.997\n",
      "    Scores - PIG: 0.693, EEIG: 0.249\n",
      "    Alpha (utility weight): 0.089\n",
      "\n",
      "Iteration 8/50\n",
      "  Updating utility function...\n",
      "    Epoch 0, Loss: 52.9079\n",
      "    Epoch 20, Loss: 51.6114\n"
     ]
    },
    {
     "name": "stderr",
     "output_type": "stream",
     "text": [
      " 16%|█▌        | 8/50 [00:01<00:09,  4.42it/s]"
     ]
    },
    {
     "name": "stdout",
     "output_type": "stream",
     "text": [
      "    Epoch 40, Loss: 50.3137\n",
      "  Selecting next intervention...\n",
      "    Selected: Node 1, Value 0.100\n",
      "    Scores - PIG: 0.693, EEIG: 0.163\n",
      "    Alpha (utility weight): 0.099\n",
      "\n",
      "Iteration 9/50\n",
      "  Updating utility function...\n",
      "    Epoch 0, Loss: 51.5358\n",
      "    Epoch 20, Loss: 50.1815\n"
     ]
    },
    {
     "name": "stderr",
     "output_type": "stream",
     "text": [
      " 18%|█▊        | 9/50 [00:02<00:09,  4.45it/s]"
     ]
    },
    {
     "name": "stdout",
     "output_type": "stream",
     "text": [
      "    Epoch 40, Loss: 48.8210\n",
      "  Selecting next intervention...\n",
      "    Selected: Node 0, Value -1.995\n",
      "    Scores - PIG: 0.692, EEIG: 0.315\n",
      "    Alpha (utility weight): 0.109\n",
      "\n",
      "Iteration 10/50\n",
      "  Updating utility function...\n",
      "    Epoch 0, Loss: 49.6962\n",
      "    Epoch 20, Loss: 48.2723\n"
     ]
    },
    {
     "name": "stderr",
     "output_type": "stream",
     "text": [
      " 20%|██        | 10/50 [00:02<00:09,  4.43it/s]"
     ]
    },
    {
     "name": "stdout",
     "output_type": "stream",
     "text": [
      "    Epoch 40, Loss: 46.8444\n",
      "  Selecting next intervention...\n",
      "    Selected: Node 1, Value 0.341\n",
      "    Scores - PIG: 0.692, EEIG: 0.166\n",
      "    Alpha (utility weight): 0.121\n",
      "  SHD: 0.00, Edge prob error: 0.002\n",
      "  Utility error: 0.000\n",
      "  Edge probabilities: [0.99999781 0.9960418 ]\n",
      "  Most probable parents: ((1, 1), 0.9960397384840464)\n",
      "  Noise parameter (s): 1.1611758631628188\n",
      "\n",
      "Iteration 11/50\n",
      "  Updating utility function...\n",
      "    Epoch 0, Loss: 47.8004\n",
      "    Epoch 20, Loss: 46.3164\n"
     ]
    },
    {
     "name": "stderr",
     "output_type": "stream",
     "text": [
      " 22%|██▏       | 11/50 [00:02<00:09,  4.26it/s]"
     ]
    },
    {
     "name": "stdout",
     "output_type": "stream",
     "text": [
      "    Epoch 40, Loss: 44.8263\n",
      "  Selecting next intervention...\n",
      "    Selected: Node 2, Value -1.551\n",
      "    Scores - PIG: 0.690, EEIG: 0.000\n",
      "    Alpha (utility weight): 0.133\n",
      "\n",
      "Iteration 12/50\n",
      "  Updating utility function...\n",
      "    Epoch 0, Loss: 45.3302\n",
      "    Epoch 20, Loss: 43.7764\n"
     ]
    },
    {
     "name": "stderr",
     "output_type": "stream",
     "text": [
      " 24%|██▍       | 12/50 [00:02<00:09,  4.10it/s]"
     ]
    },
    {
     "name": "stdout",
     "output_type": "stream",
     "text": [
      "    Epoch 40, Loss: 42.2166\n",
      "  Selecting next intervention...\n",
      "    Selected: Node 2, Value -0.616\n",
      "    Scores - PIG: 0.693, EEIG: 0.092\n",
      "    Alpha (utility weight): 0.146\n",
      "\n",
      "Iteration 13/50\n",
      "  Updating utility function...\n",
      "    Epoch 0, Loss: 42.7204\n",
      "    Epoch 20, Loss: 41.1010\n"
     ]
    },
    {
     "name": "stderr",
     "output_type": "stream",
     "text": [
      " 26%|██▌       | 13/50 [00:03<00:09,  3.93it/s]"
     ]
    },
    {
     "name": "stdout",
     "output_type": "stream",
     "text": [
      "    Epoch 40, Loss: 39.4761\n",
      "  Selecting next intervention...\n",
      "    Selected: Node 2, Value -0.957\n",
      "    Scores - PIG: 0.685, EEIG: 0.000\n",
      "    Alpha (utility weight): 0.159\n",
      "\n",
      "Iteration 14/50\n",
      "  Updating utility function...\n",
      "    Epoch 0, Loss: 40.0554\n"
     ]
    },
    {
     "name": "stderr",
     "output_type": "stream",
     "text": [
      " 28%|██▊       | 14/50 [00:03<00:09,  3.68it/s]"
     ]
    },
    {
     "name": "stdout",
     "output_type": "stream",
     "text": [
      "    Epoch 20, Loss: 38.3803\n",
      "    Epoch 40, Loss: 36.7012\n",
      "  Selecting next intervention...\n",
      "    Selected: Node 2, Value 1.143\n",
      "    Scores - PIG: 0.693, EEIG: 0.000\n",
      "    Alpha (utility weight): 0.173\n",
      "\n",
      "Iteration 15/50\n",
      "  Updating utility function...\n",
      "    Epoch 0, Loss: 37.2328\n"
     ]
    },
    {
     "name": "stderr",
     "output_type": "stream",
     "text": [
      " 30%|███       | 15/50 [00:03<00:09,  3.56it/s]"
     ]
    },
    {
     "name": "stdout",
     "output_type": "stream",
     "text": [
      "    Epoch 20, Loss: 35.5088\n",
      "    Epoch 40, Loss: 33.7818\n",
      "  Selecting next intervention...\n",
      "    Selected: Node 2, Value 0.093\n",
      "    Scores - PIG: 0.693, EEIG: 0.099\n",
      "    Alpha (utility weight): 0.187\n",
      "\n",
      "Iteration 16/50\n",
      "  Updating utility function...\n",
      "    Epoch 0, Loss: 33.9260\n"
     ]
    },
    {
     "name": "stderr",
     "output_type": "stream",
     "text": [
      " 32%|███▏      | 16/50 [00:03<00:09,  3.69it/s]"
     ]
    },
    {
     "name": "stdout",
     "output_type": "stream",
     "text": [
      "    Epoch 20, Loss: 32.1459\n",
      "    Epoch 40, Loss: 30.3639\n",
      "  Selecting next intervention...\n",
      "    Selected: Node 2, Value 0.973\n",
      "    Scores - PIG: 0.670, EEIG: 0.000\n",
      "    Alpha (utility weight): 0.202\n",
      "\n",
      "Iteration 17/50\n",
      "  Updating utility function...\n",
      "    Epoch 0, Loss: 30.7281\n"
     ]
    },
    {
     "name": "stderr",
     "output_type": "stream",
     "text": [
      " 34%|███▍      | 17/50 [00:04<00:08,  3.69it/s]"
     ]
    },
    {
     "name": "stdout",
     "output_type": "stream",
     "text": [
      "    Epoch 20, Loss: 28.8787\n",
      "    Epoch 40, Loss: 27.0663\n",
      "  Selecting next intervention...\n",
      "    Selected: Node 2, Value 0.917\n",
      "    Scores - PIG: 0.689, EEIG: 0.000\n",
      "    Alpha (utility weight): 0.218\n",
      "\n",
      "Iteration 18/50\n",
      "  Updating utility function...\n",
      "    Epoch 0, Loss: 26.6823\n"
     ]
    },
    {
     "name": "stderr",
     "output_type": "stream",
     "text": [
      " 36%|███▌      | 18/50 [00:04<00:08,  3.80it/s]"
     ]
    },
    {
     "name": "stdout",
     "output_type": "stream",
     "text": [
      "    Epoch 20, Loss: 24.8087\n",
      "    Epoch 40, Loss: 22.9390\n",
      "  Selecting next intervention...\n",
      "    Selected: Node 2, Value 1.923\n",
      "    Scores - PIG: 0.629, EEIG: 0.000\n",
      "    Alpha (utility weight): 0.234\n",
      "\n",
      "Iteration 19/50\n",
      "  Updating utility function...\n",
      "    Epoch 0, Loss: 22.0728\n"
     ]
    },
    {
     "name": "stderr",
     "output_type": "stream",
     "text": [
      " 38%|███▊      | 19/50 [00:04<00:08,  3.86it/s]"
     ]
    },
    {
     "name": "stdout",
     "output_type": "stream",
     "text": [
      "    Epoch 20, Loss: 20.1559\n",
      "    Epoch 40, Loss: 18.2455\n",
      "  Selecting next intervention...\n",
      "    Selected: Node 2, Value 1.776\n",
      "    Scores - PIG: 0.658, EEIG: 0.000\n",
      "    Alpha (utility weight): 0.250\n",
      "\n",
      "Iteration 20/50\n",
      "  Updating utility function...\n",
      "    Epoch 0, Loss: 18.5933\n"
     ]
    },
    {
     "name": "stderr",
     "output_type": "stream",
     "text": [
      " 40%|████      | 20/50 [00:04<00:07,  3.99it/s]"
     ]
    },
    {
     "name": "stdout",
     "output_type": "stream",
     "text": [
      "    Epoch 20, Loss: 16.6899\n",
      "    Epoch 40, Loss: 14.8002\n",
      "  Selecting next intervention...\n",
      "    Selected: Node 2, Value 0.697\n",
      "    Scores - PIG: 0.683, EEIG: 0.157\n",
      "    Alpha (utility weight): 0.267\n",
      "  SHD: 0.00, Edge prob error: 0.000\n",
      "  Utility error: 0.000\n",
      "  Edge probabilities: [1.         0.99989247]\n",
      "  Most probable parents: ((1, 1), 0.9998924708385214)\n",
      "  Noise parameter (s): 1.4337127599009734\n",
      "\n",
      "Iteration 21/50\n",
      "  Updating utility function...\n",
      "    Epoch 0, Loss: 14.3526\n"
     ]
    },
    {
     "name": "stderr",
     "output_type": "stream",
     "text": [
      " 42%|████▏     | 21/50 [00:05<00:06,  4.14it/s]"
     ]
    },
    {
     "name": "stdout",
     "output_type": "stream",
     "text": [
      "    Epoch 20, Loss: 12.4409\n",
      "    Epoch 40, Loss: 10.5545\n",
      "  Selecting next intervention...\n",
      "    Selected: Node 2, Value 1.867\n",
      "    Scores - PIG: 0.598, EEIG: 0.000\n",
      "    Alpha (utility weight): 0.285\n",
      "\n",
      "Iteration 22/50\n",
      "  Updating utility function...\n",
      "    Epoch 0, Loss: 9.4332\n"
     ]
    },
    {
     "name": "stderr",
     "output_type": "stream",
     "text": [
      " 44%|████▍     | 22/50 [00:05<00:06,  4.20it/s]"
     ]
    },
    {
     "name": "stdout",
     "output_type": "stream",
     "text": [
      "    Epoch 20, Loss: 7.5743\n",
      "    Epoch 40, Loss: 5.7381\n",
      "  Selecting next intervention...\n",
      "    Selected: Node 2, Value 0.422\n",
      "    Scores - PIG: 0.668, EEIG: 0.000\n",
      "    Alpha (utility weight): 0.303\n",
      "  Causal structure converged! Focusing on utility learning.\n",
      "\n",
      "Iteration 23/50\n",
      "  Updating utility function...\n",
      "    Epoch 0, Loss: 4.9223\n"
     ]
    },
    {
     "name": "stderr",
     "output_type": "stream",
     "text": [
      " 46%|████▌     | 23/50 [00:05<00:06,  4.19it/s]"
     ]
    },
    {
     "name": "stdout",
     "output_type": "stream",
     "text": [
      "    Epoch 20, Loss: 3.1290\n",
      "    Epoch 40, Loss: 1.3632\n",
      "  Selecting next intervention...\n",
      "    Selected: Node 2, Value -0.761\n",
      "    Scores - PIG: 0.483, EEIG: 0.000\n",
      "    Alpha (utility weight): 0.321\n",
      "  Causal structure converged! Focusing on utility learning.\n",
      "\n",
      "Iteration 24/50\n",
      "  Updating utility function...\n",
      "    Epoch 0, Loss: 0.1576\n"
     ]
    },
    {
     "name": "stderr",
     "output_type": "stream",
     "text": [
      " 48%|████▊     | 24/50 [00:05<00:06,  4.23it/s]"
     ]
    },
    {
     "name": "stdout",
     "output_type": "stream",
     "text": [
      "    Epoch 20, Loss: -1.5705\n",
      "    Epoch 40, Loss: -3.2640\n",
      "  Selecting next intervention...\n",
      "    Selected: Node 2, Value 1.717\n",
      "    Scores - PIG: 0.692, EEIG: 0.000\n",
      "    Alpha (utility weight): 0.339\n",
      "  Causal structure converged! Focusing on utility learning.\n",
      "\n",
      "Iteration 25/50\n",
      "  Updating utility function...\n",
      "    Epoch 0, Loss: -2.7495\n"
     ]
    },
    {
     "name": "stderr",
     "output_type": "stream",
     "text": [
      " 50%|█████     | 25/50 [00:06<00:05,  4.31it/s]"
     ]
    },
    {
     "name": "stdout",
     "output_type": "stream",
     "text": [
      "    Epoch 20, Loss: -4.3066\n",
      "    Epoch 40, Loss: -5.8115\n",
      "  Selecting next intervention...\n",
      "    Selected: Node 2, Value 1.924\n",
      "    Scores - PIG: 0.369, EEIG: 0.000\n",
      "    Alpha (utility weight): 0.359\n",
      "  Causal structure converged! Focusing on utility learning.\n",
      "\n",
      "Iteration 26/50\n",
      "  Updating utility function...\n",
      "    Epoch 0, Loss: -5.9108\n"
     ]
    },
    {
     "name": "stderr",
     "output_type": "stream",
     "text": [
      " 52%|█████▏    | 26/50 [00:06<00:05,  4.37it/s]"
     ]
    },
    {
     "name": "stdout",
     "output_type": "stream",
     "text": [
      "    Epoch 20, Loss: -7.3169\n",
      "    Epoch 40, Loss: -8.6418\n",
      "  Selecting next intervention...\n",
      "    Selected: Node 2, Value 0.632\n",
      "    Scores - PIG: 0.319, EEIG: 0.000\n",
      "    Alpha (utility weight): 0.378\n",
      "  Causal structure converged! Focusing on utility learning.\n",
      "\n",
      "Iteration 27/50\n",
      "  Updating utility function...\n",
      "    Epoch 0, Loss: -8.5792\n"
     ]
    },
    {
     "name": "stderr",
     "output_type": "stream",
     "text": [
      " 54%|█████▍    | 27/50 [00:06<00:05,  4.35it/s]"
     ]
    },
    {
     "name": "stdout",
     "output_type": "stream",
     "text": [
      "    Epoch 20, Loss: -9.8201\n",
      "    Epoch 40, Loss: -11.0067\n",
      "  Selecting next intervention...\n",
      "    Selected: Node 2, Value 1.338\n",
      "    Scores - PIG: 0.443, EEIG: 0.000\n",
      "    Alpha (utility weight): 0.398\n",
      "  Causal structure converged! Focusing on utility learning.\n",
      "\n",
      "Iteration 28/50\n",
      "  Updating utility function...\n",
      "    Epoch 0, Loss: -12.2373\n"
     ]
    },
    {
     "name": "stderr",
     "output_type": "stream",
     "text": [
      " 56%|█████▌    | 28/50 [00:06<00:05,  4.28it/s]"
     ]
    },
    {
     "name": "stdout",
     "output_type": "stream",
     "text": [
      "    Epoch 20, Loss: -13.4330\n",
      "    Epoch 40, Loss: -14.6333\n",
      "  Selecting next intervention...\n",
      "    Selected: Node 2, Value -0.506\n",
      "    Scores - PIG: 0.666, EEIG: 0.000\n",
      "    Alpha (utility weight): 0.418\n",
      "  Causal structure converged! Focusing on utility learning.\n",
      "\n",
      "Iteration 29/50\n",
      "  Updating utility function...\n",
      "    Epoch 0, Loss: -14.9085\n"
     ]
    },
    {
     "name": "stderr",
     "output_type": "stream",
     "text": [
      " 58%|█████▊    | 29/50 [00:07<00:04,  4.29it/s]"
     ]
    },
    {
     "name": "stdout",
     "output_type": "stream",
     "text": [
      "    Epoch 20, Loss: -16.1185\n",
      "    Epoch 40, Loss: -17.3350\n",
      "  Selecting next intervention...\n",
      "    Selected: Node 2, Value -0.422\n",
      "    Scores - PIG: 0.294, EEIG: 0.000\n",
      "    Alpha (utility weight): 0.439\n",
      "  Causal structure converged! Focusing on utility learning.\n",
      "\n",
      "Iteration 30/50\n",
      "  Updating utility function...\n",
      "    Epoch 0, Loss: -17.4760\n"
     ]
    },
    {
     "name": "stderr",
     "output_type": "stream",
     "text": [
      " 60%|██████    | 30/50 [00:07<00:04,  4.33it/s]"
     ]
    },
    {
     "name": "stdout",
     "output_type": "stream",
     "text": [
      "    Epoch 20, Loss: -18.6941\n",
      "    Epoch 40, Loss: -19.9173\n",
      "  Selecting next intervention...\n",
      "    Selected: Node 2, Value -0.817\n",
      "    Scores - PIG: 0.357, EEIG: 0.000\n",
      "    Alpha (utility weight): 0.460\n",
      "  Causal structure converged! Focusing on utility learning.\n",
      "  SHD: 0.00, Edge prob error: 0.000\n",
      "  Utility error: 0.000\n",
      "  Edge probabilities: [1.         0.99999762]\n",
      "  Most probable parents: ((1, 1), 0.9999976199586786)\n",
      "  Noise parameter (s): 1.349012354161055\n",
      "\n",
      "Iteration 31/50\n",
      "  Updating utility function...\n",
      "    Epoch 0, Loss: -23.1791\n"
     ]
    },
    {
     "name": "stderr",
     "output_type": "stream",
     "text": [
      " 62%|██████▏   | 31/50 [00:07<00:04,  4.37it/s]"
     ]
    },
    {
     "name": "stdout",
     "output_type": "stream",
     "text": [
      "    Epoch 20, Loss: -24.5839\n",
      "    Epoch 40, Loss: -25.8371\n",
      "  Selecting next intervention...\n",
      "    Selected: Node 2, Value -1.209\n",
      "    Scores - PIG: 0.502, EEIG: 0.000\n",
      "    Alpha (utility weight): 0.481\n",
      "  Causal structure converged! Focusing on utility learning.\n",
      "\n",
      "Iteration 32/50\n",
      "  Updating utility function...\n",
      "    Epoch 0, Loss: -26.2180\n"
     ]
    },
    {
     "name": "stderr",
     "output_type": "stream",
     "text": [
      " 64%|██████▍   | 32/50 [00:07<00:04,  4.41it/s]"
     ]
    },
    {
     "name": "stdout",
     "output_type": "stream",
     "text": [
      "    Epoch 20, Loss: -27.4652\n",
      "    Epoch 40, Loss: -28.7195\n",
      "  Selecting next intervention...\n",
      "    Selected: Node 2, Value -1.336\n",
      "    Scores - PIG: 0.688, EEIG: 0.000\n",
      "    Alpha (utility weight): 0.503\n",
      "  Causal structure converged! Focusing on utility learning.\n",
      "\n",
      "Iteration 33/50\n",
      "  Updating utility function...\n",
      "    Epoch 0, Loss: -29.0058\n"
     ]
    },
    {
     "name": "stderr",
     "output_type": "stream",
     "text": [
      " 66%|██████▌   | 33/50 [00:07<00:03,  4.40it/s]"
     ]
    },
    {
     "name": "stdout",
     "output_type": "stream",
     "text": [
      "    Epoch 20, Loss: -30.2711\n",
      "    Epoch 40, Loss: -31.5368\n",
      "  Selecting next intervention...\n",
      "    Selected: Node 2, Value -1.674\n",
      "    Scores - PIG: 0.219, EEIG: 0.000\n",
      "    Alpha (utility weight): 0.525\n",
      "  Causal structure converged! Focusing on utility learning.\n",
      "\n",
      "Iteration 34/50\n",
      "  Updating utility function...\n",
      "    Epoch 0, Loss: -29.8391\n"
     ]
    },
    {
     "name": "stderr",
     "output_type": "stream",
     "text": [
      " 68%|██████▊   | 34/50 [00:08<00:03,  4.44it/s]"
     ]
    },
    {
     "name": "stdout",
     "output_type": "stream",
     "text": [
      "    Epoch 20, Loss: -31.3484\n",
      "    Epoch 40, Loss: -32.6143\n",
      "  Selecting next intervention...\n",
      "    Selected: Node 2, Value -0.918\n",
      "    Scores - PIG: 0.615, EEIG: 0.000\n",
      "    Alpha (utility weight): 0.547\n",
      "  Causal structure converged! Focusing on utility learning.\n",
      "\n",
      "Iteration 35/50\n",
      "  Updating utility function...\n",
      "    Epoch 0, Loss: -32.7036\n"
     ]
    },
    {
     "name": "stderr",
     "output_type": "stream",
     "text": [
      " 70%|███████   | 35/50 [00:08<00:03,  4.29it/s]"
     ]
    },
    {
     "name": "stdout",
     "output_type": "stream",
     "text": [
      "    Epoch 20, Loss: -33.9992\n",
      "    Epoch 40, Loss: -35.2910\n",
      "  Selecting next intervention...\n",
      "    Selected: Node 2, Value -0.240\n",
      "    Scores - PIG: 0.624, EEIG: 0.000\n",
      "    Alpha (utility weight): 0.570\n",
      "  Causal structure converged! Focusing on utility learning.\n",
      "\n",
      "Iteration 36/50\n",
      "  Updating utility function...\n",
      "    Epoch 0, Loss: -35.8997\n"
     ]
    },
    {
     "name": "stderr",
     "output_type": "stream",
     "text": [
      " 72%|███████▏  | 36/50 [00:08<00:03,  4.36it/s]"
     ]
    },
    {
     "name": "stdout",
     "output_type": "stream",
     "text": [
      "    Epoch 20, Loss: -37.2084\n",
      "    Epoch 40, Loss: -38.5249\n",
      "  Selecting next intervention...\n",
      "    Selected: Node 2, Value 0.967\n",
      "    Scores - PIG: 0.664, EEIG: 0.000\n",
      "    Alpha (utility weight): 0.593\n",
      "  Causal structure converged! Focusing on utility learning.\n",
      "\n",
      "Iteration 37/50\n",
      "  Updating utility function...\n",
      "    Epoch 0, Loss: -40.1479\n"
     ]
    },
    {
     "name": "stderr",
     "output_type": "stream",
     "text": [
      " 74%|███████▍  | 37/50 [00:08<00:02,  4.34it/s]"
     ]
    },
    {
     "name": "stdout",
     "output_type": "stream",
     "text": [
      "    Epoch 20, Loss: -41.4825\n",
      "    Epoch 40, Loss: -42.8140\n",
      "  Selecting next intervention...\n",
      "    Selected: Node 2, Value -0.170\n",
      "    Scores - PIG: 0.357, EEIG: 0.000\n",
      "    Alpha (utility weight): 0.617\n",
      "  Causal structure converged! Focusing on utility learning.\n",
      "\n",
      "Iteration 38/50\n",
      "  Updating utility function...\n",
      "    Epoch 0, Loss: -44.7930\n"
     ]
    },
    {
     "name": "stderr",
     "output_type": "stream",
     "text": [
      " 76%|███████▌  | 38/50 [00:09<00:02,  4.16it/s]"
     ]
    },
    {
     "name": "stdout",
     "output_type": "stream",
     "text": [
      "    Epoch 20, Loss: -46.1476\n",
      "    Epoch 40, Loss: -47.4906\n",
      "  Selecting next intervention...\n",
      "    Selected: Node 2, Value 0.372\n",
      "    Scores - PIG: 0.216, EEIG: 0.003\n",
      "    Alpha (utility weight): 0.641\n",
      "  Causal structure converged! Focusing on utility learning.\n",
      "\n",
      "Iteration 39/50\n",
      "  Updating utility function...\n",
      "    Epoch 0, Loss: -47.7567\n"
     ]
    },
    {
     "name": "stderr",
     "output_type": "stream",
     "text": [
      " 78%|███████▊  | 39/50 [00:09<00:02,  4.23it/s]"
     ]
    },
    {
     "name": "stdout",
     "output_type": "stream",
     "text": [
      "    Epoch 20, Loss: -49.1180\n",
      "    Epoch 40, Loss: -50.4855\n",
      "  Selecting next intervention...\n",
      "    Selected: Node 2, Value -1.943\n",
      "    Scores - PIG: 0.266, EEIG: 0.000\n",
      "    Alpha (utility weight): 0.665\n",
      "  Causal structure converged! Focusing on utility learning.\n",
      "\n",
      "Iteration 40/50\n",
      "  Updating utility function...\n",
      "    Epoch 0, Loss: -49.2140\n"
     ]
    },
    {
     "name": "stderr",
     "output_type": "stream",
     "text": [
      " 80%|████████  | 40/50 [00:09<00:02,  4.30it/s]"
     ]
    },
    {
     "name": "stdout",
     "output_type": "stream",
     "text": [
      "    Epoch 20, Loss: -50.6672\n",
      "    Epoch 40, Loss: -52.0367\n",
      "  Selecting next intervention...\n",
      "    Selected: Node 2, Value -0.784\n",
      "    Scores - PIG: 0.633, EEIG: 0.000\n",
      "    Alpha (utility weight): 0.689\n",
      "  Causal structure converged! Focusing on utility learning.\n",
      "  SHD: 0.00, Edge prob error: 0.000\n",
      "  Utility error: 0.000\n",
      "  Edge probabilities: [1.         0.99999998]\n",
      "  Most probable parents: ((1, 1), 0.9999999806333405)\n",
      "  Noise parameter (s): 1.3625286019862268\n",
      "\n",
      "Iteration 41/50\n",
      "  Updating utility function...\n",
      "    Epoch 0, Loss: -52.1530\n"
     ]
    },
    {
     "name": "stderr",
     "output_type": "stream",
     "text": [
      " 82%|████████▏ | 41/50 [00:09<00:02,  4.35it/s]"
     ]
    },
    {
     "name": "stdout",
     "output_type": "stream",
     "text": [
      "    Epoch 20, Loss: -53.5591\n",
      "    Epoch 40, Loss: -54.9615\n",
      "  Selecting next intervention...\n",
      "    Selected: Node 2, Value -0.163\n",
      "    Scores - PIG: 0.552, EEIG: 0.000\n",
      "    Alpha (utility weight): 0.714\n",
      "  Causal structure converged! Focusing on utility learning.\n",
      "\n",
      "Iteration 42/50\n",
      "  Updating utility function...\n",
      "    Epoch 0, Loss: -56.0013\n"
     ]
    },
    {
     "name": "stderr",
     "output_type": "stream",
     "text": [
      " 84%|████████▍ | 42/50 [00:10<00:01,  4.25it/s]"
     ]
    },
    {
     "name": "stdout",
     "output_type": "stream",
     "text": [
      "    Epoch 20, Loss: -57.4175\n",
      "    Epoch 40, Loss: -58.8423\n",
      "  Selecting next intervention...\n",
      "    Selected: Node 2, Value 1.920\n",
      "    Scores - PIG: 0.171, EEIG: 0.000\n",
      "    Alpha (utility weight): 0.739\n",
      "  Causal structure converged! Focusing on utility learning.\n",
      "\n",
      "Iteration 43/50\n",
      "  Updating utility function...\n",
      "    Epoch 0, Loss: -59.6169\n"
     ]
    },
    {
     "name": "stderr",
     "output_type": "stream",
     "text": [
      " 86%|████████▌ | 43/50 [00:10<00:01,  4.32it/s]"
     ]
    },
    {
     "name": "stdout",
     "output_type": "stream",
     "text": [
      "    Epoch 20, Loss: -61.0530\n",
      "    Epoch 40, Loss: -62.5004\n",
      "  Selecting next intervention...\n",
      "    Selected: Node 2, Value -1.183\n",
      "    Scores - PIG: 0.490, EEIG: 0.000\n",
      "    Alpha (utility weight): 0.764\n",
      "  Causal structure converged! Focusing on utility learning.\n",
      "\n",
      "Iteration 44/50\n",
      "  Updating utility function...\n",
      "    Epoch 0, Loss: -63.7552\n"
     ]
    },
    {
     "name": "stderr",
     "output_type": "stream",
     "text": [
      " 88%|████████▊ | 44/50 [00:10<00:01,  4.40it/s]"
     ]
    },
    {
     "name": "stdout",
     "output_type": "stream",
     "text": [
      "    Epoch 20, Loss: -65.2134\n",
      "    Epoch 40, Loss: -66.6756\n",
      "  Selecting next intervention...\n",
      "    Selected: Node 2, Value 1.916\n",
      "    Scores - PIG: 0.693, EEIG: 0.000\n",
      "    Alpha (utility weight): 0.790\n",
      "  Causal structure converged! Focusing on utility learning.\n",
      "\n",
      "Iteration 45/50\n",
      "  Updating utility function...\n",
      "    Epoch 0, Loss: -67.7849\n"
     ]
    },
    {
     "name": "stderr",
     "output_type": "stream",
     "text": [
      " 90%|█████████ | 45/50 [00:10<00:01,  4.10it/s]"
     ]
    },
    {
     "name": "stdout",
     "output_type": "stream",
     "text": [
      "    Epoch 20, Loss: -69.2678\n",
      "    Epoch 40, Loss: -70.7592\n",
      "  Selecting next intervention...\n",
      "    Selected: Node 2, Value -1.328\n",
      "    Scores - PIG: 0.540, EEIG: 0.000\n",
      "    Alpha (utility weight): 0.816\n",
      "  Causal structure converged! Focusing on utility learning.\n",
      "\n",
      "Iteration 46/50\n",
      "  Updating utility function...\n",
      "    Epoch 0, Loss: -71.3532\n",
      "    Epoch 20, Loss: -72.8603\n",
      "    Epoch 40, Loss: -74.3789\n"
     ]
    },
    {
     "name": "stderr",
     "output_type": "stream",
     "text": [
      " 92%|█████████▏| 46/50 [00:11<00:01,  3.94it/s]"
     ]
    },
    {
     "name": "stdout",
     "output_type": "stream",
     "text": [
      "  Selecting next intervention...\n",
      "    Selected: Node 2, Value -1.434\n",
      "    Scores - PIG: 0.322, EEIG: 0.000\n",
      "    Alpha (utility weight): 0.842\n",
      "  Causal structure converged! Focusing on utility learning.\n",
      "\n",
      "Iteration 47/50\n",
      "  Updating utility function...\n",
      "    Epoch 0, Loss: -75.2277\n",
      "    Epoch 20, Loss: -76.7585\n",
      "    Epoch 40, Loss: -78.3015\n"
     ]
    },
    {
     "name": "stderr",
     "output_type": "stream",
     "text": [
      " 94%|█████████▍| 47/50 [00:11<00:00,  4.12it/s]"
     ]
    },
    {
     "name": "stdout",
     "output_type": "stream",
     "text": [
      "  Selecting next intervention...\n",
      "    Selected: Node 2, Value -0.951\n",
      "    Scores - PIG: 0.302, EEIG: 0.000\n",
      "    Alpha (utility weight): 0.869\n",
      "  Causal structure converged! Focusing on utility learning.\n",
      "\n",
      "Iteration 48/50\n",
      "  Updating utility function...\n",
      "    Epoch 0, Loss: -78.2096\n",
      "    Epoch 20, Loss: -79.7809\n",
      "    Epoch 40, Loss: -81.3499\n"
     ]
    },
    {
     "name": "stderr",
     "output_type": "stream",
     "text": [
      " 96%|█████████▌| 48/50 [00:11<00:00,  3.94it/s]"
     ]
    },
    {
     "name": "stdout",
     "output_type": "stream",
     "text": [
      "  Selecting next intervention...\n",
      "    Selected: Node 2, Value 0.706\n",
      "    Scores - PIG: 0.605, EEIG: 0.000\n",
      "    Alpha (utility weight): 0.895\n",
      "  Causal structure converged! Focusing on utility learning.\n",
      "\n",
      "Iteration 49/50\n",
      "  Updating utility function...\n",
      "    Epoch 0, Loss: -81.7405\n",
      "    Epoch 20, Loss: -83.3207\n"
     ]
    },
    {
     "name": "stderr",
     "output_type": "stream",
     "text": [
      " 98%|█████████▊| 49/50 [00:11<00:00,  4.08it/s]"
     ]
    },
    {
     "name": "stdout",
     "output_type": "stream",
     "text": [
      "    Epoch 40, Loss: -84.9144\n",
      "  Selecting next intervention...\n",
      "    Selected: Node 2, Value -0.470\n",
      "    Scores - PIG: 0.182, EEIG: 0.000\n",
      "    Alpha (utility weight): 0.923\n",
      "  Causal structure converged! Focusing on utility learning.\n",
      "\n",
      "Iteration 50/50\n",
      "  Updating utility function...\n",
      "    Epoch 0, Loss: -85.1289\n",
      "    Epoch 20, Loss: -86.7368\n"
     ]
    },
    {
     "name": "stderr",
     "output_type": "stream",
     "text": [
      "100%|██████████| 50/50 [00:11<00:00,  4.18it/s]"
     ]
    },
    {
     "name": "stdout",
     "output_type": "stream",
     "text": [
      "    Epoch 40, Loss: -88.3601\n",
      "  Selecting next intervention...\n",
      "    Selected: Node 2, Value 1.741\n",
      "    Scores - PIG: 0.550, EEIG: 0.000\n",
      "    Alpha (utility weight): 0.950\n",
      "  Causal structure converged! Focusing on utility learning.\n",
      "  SHD: 0.00, Edge prob error: 0.000\n",
      "  Utility error: 0.100\n",
      "  Edge probabilities: [1. 1.]\n",
      "  Most probable parents: ((1, 1), 0.9999999987046997)\n",
      "  Noise parameter (s): 1.3446415160364162\n"
     ]
    },
    {
     "name": "stderr",
     "output_type": "stream",
     "text": [
      "\n"
     ]
    }
   ],
   "source": [
    "# Initialize PCBO\n",
    "pcbo = PCBO(dataset, device, n_iterations=n_iterations)\n",
    "\n",
    "print(\"Adding initial diverse interventions...\")\n",
    "for node in [0, 1]:  # only X1, X2\n",
    "    for value in [-1.0, 1.0]:\n",
    "        out = dataset._compute_intervention_outcome(node, value)\n",
    "        pcbo.parent_posterior.add_datapoint_full(out, node)\n",
    "pcbo.parent_posterior.update_posterior()\n",
    "\n",
    "# Use initial preferences from dataset\n",
    "all_queries = list(dataset.queries)\n",
    "for query in all_queries:\n",
    "    pcbo.pref_dataset.add_from_query(query)\n",
    "\n",
    "# Run PCBO iterations\n",
    "print(\"Starting PCBO iterations...\")\n",
    "for iteration in tqdm(range(n_iterations)):\n",
    "    print(f\"\\nIteration {iteration + 1}/{n_iterations}\")\n",
    "    \n",
    "    # Run one iteration\n",
    "    new_query = pcbo.run_iteration(all_queries, iteration)\n",
    "    all_queries.append(new_query)\n",
    "    \n",
    "    # Evaluate performance\n",
    "    shd, util_error, edge_prob_error = pcbo.evaluate_current_performance()\n",
    "    pcbo.iteration_history.append(iteration)\n",
    "    pcbo.graph_distances.append(shd)\n",
    "    pcbo.utility_errors.append(util_error)\n",
    "    pcbo.edge_prob_errors.append(edge_prob_error)\n",
    "    \n",
    "    # Print progress every 10 iterations\n",
    "    if (iteration + 1) % 10 == 0:\n",
    "        edge_probs = pcbo.parent_posterior.edge_posterior()\n",
    "        print(f\"  SHD: {shd:.2f}, Edge prob error: {edge_prob_error:.3f}\")\n",
    "        print(f\"  Utility error: {util_error:.3f}\")\n",
    "        print(f\"  Edge probabilities: {edge_probs.numpy()}\")\n",
    "        print(f\"  Most probable parents: {pcbo.parent_posterior.most_probable_set()}\")\n",
    "        print(f\"  Noise parameter (s): {pcbo.pref_flow.s.item()}\")\n"
   ]
  },
  {
   "cell_type": "code",
   "execution_count": 36,
   "id": "5c23a7f7",
   "metadata": {},
   "outputs": [],
   "source": [
    "class CausalDiscoveryBaselines:\n",
    "    \"\"\"Collection of baseline causal discovery methods\"\"\"\n",
    "    \n",
    "    def __init__(self, n_nodes, device='cpu'):\n",
    "        self.n_nodes = n_nodes\n",
    "        self.device = device\n",
    "        self.data_buffer = []\n",
    "        \n",
    "    def add_data(self, intervention_node, outcome):\n",
    "        \"\"\"Add intervention data\"\"\"\n",
    "        self.data_buffer.append({\n",
    "            'intervention_node': intervention_node,\n",
    "            'outcome': outcome.cpu().numpy() if torch.is_tensor(outcome) else outcome\n",
    "        })\n",
    "    \n",
    "    def get_data_matrix(self):\n",
    "        \"\"\"Convert buffer to data matrix for observational methods\"\"\"\n",
    "        if not self.data_buffer:\n",
    "            return None, None\n",
    "            \n",
    "        X = np.array([d['outcome'] for d in self.data_buffer])\n",
    "        interventions = np.array([d['intervention_node'] for d in self.data_buffer])\n",
    "        return X, interventions\n",
    "    \n",
    "    def random_baseline(self, sparsity=0.3):\n",
    "        \"\"\"Random DAG with given sparsity\"\"\"\n",
    "        adj = np.random.random((self.n_nodes, self.n_nodes))\n",
    "        adj = (adj < sparsity).astype(int)\n",
    "        # Remove lower triangle to ensure DAG\n",
    "        adj = np.triu(adj, k=1)\n",
    "        return adj\n",
    "    \n",
    "    def fully_connected_baseline(self):\n",
    "        \"\"\"Fully connected DAG (upper triangular)\"\"\"\n",
    "        adj = np.ones((self.n_nodes, self.n_nodes))\n",
    "        adj = np.triu(adj, k=1)\n",
    "        return adj.astype(int)\n",
    "    \n",
    "    def lasso_baseline(self, alpha=0.1):\n",
    "        \"\"\"\n",
    "        LASSO regression for each node to identify parents.\n",
    "        Simple but often effective baseline.\n",
    "        \"\"\"\n",
    "        X, _ = self.get_data_matrix()\n",
    "        if X is None or len(X) < 10:\n",
    "            return self.random_baseline()\n",
    "        \n",
    "        adj = np.zeros((self.n_nodes, self.n_nodes))\n",
    "        \n",
    "        for target in range(self.n_nodes):\n",
    "            # Use all other nodes as potential parents\n",
    "            mask = np.ones(self.n_nodes, dtype=bool)\n",
    "            mask[target] = False\n",
    "            \n",
    "            X_parents = X[:, mask]\n",
    "            y_target = X[:, target]\n",
    "            \n",
    "            # Standardize\n",
    "            scaler_X = StandardScaler()\n",
    "            scaler_y = StandardScaler()\n",
    "            X_scaled = scaler_X.fit_transform(X_parents)\n",
    "            y_scaled = scaler_y.fit_transform(y_target.reshape(-1, 1)).ravel()\n",
    "            \n",
    "            # LASSO with cross-validation\n",
    "            try:\n",
    "                lasso = LassoCV(cv=5, max_iter=1000, random_state=42)\n",
    "                lasso.fit(X_scaled, y_scaled)\n",
    "                \n",
    "                # Non-zero coefficients indicate edges\n",
    "                parent_idx = np.where(mask)[0]\n",
    "                for i, coef in enumerate(lasso.coef_):\n",
    "                    if abs(coef) > 0.01:  # Threshold for considering an edge\n",
    "                        adj[parent_idx[i], target] = 1\n",
    "            except:\n",
    "                # If LASSO fails, use correlation\n",
    "                for i, parent in enumerate(parent_idx):\n",
    "                    corr = np.corrcoef(X[:, parent], y_target)[0, 1]\n",
    "                    if abs(corr) > 0.3:\n",
    "                        adj[parent, target] = 1\n",
    "                        \n",
    "        return adj.astype(int)\n",
    "    \n",
    "    def pc_skeleton(self, alpha=0.05):\n",
    "        \"\"\"\n",
    "        Simplified PC algorithm - finds skeleton using correlation tests.\n",
    "        Note: This is a simplified version without orientation rules.\n",
    "        \"\"\"\n",
    "        X, _ = self.get_data_matrix()\n",
    "        if X is None or len(X) < 20:\n",
    "            return self.random_baseline()\n",
    "        \n",
    "        from scipy import stats\n",
    "        \n",
    "        # Start with complete graph\n",
    "        adj = np.ones((self.n_nodes, self.n_nodes)) - np.eye(self.n_nodes)\n",
    "        \n",
    "        # Test marginal independence\n",
    "        for i in range(self.n_nodes):\n",
    "            for j in range(i+1, self.n_nodes):\n",
    "                # Test correlation\n",
    "                corr, p_value = stats.pearsonr(X[:, i], X[:, j])\n",
    "                if p_value > alpha:\n",
    "                    adj[i, j] = 0\n",
    "                    adj[j, i] = 0\n",
    "        \n",
    "        # Test conditional independence (order 1 only for simplicity)\n",
    "        for i in range(self.n_nodes):\n",
    "            for j in range(i+1, self.n_nodes):\n",
    "                if adj[i, j] == 0:\n",
    "                    continue\n",
    "                    \n",
    "                # Test conditioning on each other variable\n",
    "                for k in range(self.n_nodes):\n",
    "                    if k == i or k == j:\n",
    "                        continue\n",
    "                    \n",
    "                    # Partial correlation\n",
    "                    try:\n",
    "                        # Regress out k from both i and j\n",
    "                        resid_i = X[:, i] - LinearRegression().fit(\n",
    "                            X[:, k].reshape(-1, 1), X[:, i]\n",
    "                        ).predict(X[:, k].reshape(-1, 1))\n",
    "                        \n",
    "                        resid_j = X[:, j] - LinearRegression().fit(\n",
    "                            X[:, k].reshape(-1, 1), X[:, j]\n",
    "                        ).predict(X[:, k].reshape(-1, 1))\n",
    "                        \n",
    "                        corr, p_value = stats.pearsonr(resid_i, resid_j)\n",
    "                        if p_value > alpha:\n",
    "                            adj[i, j] = 0\n",
    "                            adj[j, i] = 0\n",
    "                            break\n",
    "                    except:\n",
    "                        pass\n",
    "        \n",
    "        # Convert to DAG by removing cycles (simple heuristic)\n",
    "        return self._orient_skeleton(adj)\n",
    "    \n",
    "    def _orient_skeleton(self, skeleton):\n",
    "        \"\"\"Simple orientation: use topological order based on variance\"\"\"\n",
    "        X, _ = self.get_data_matrix()\n",
    "        if X is None:\n",
    "            return np.triu(skeleton, k=1)\n",
    "        \n",
    "        # Order nodes by variance (assumption: causes have higher variance)\n",
    "        variances = np.var(X, axis=0)\n",
    "        order = np.argsort(-variances)  # High variance first\n",
    "        \n",
    "        # Create DAG following this order\n",
    "        adj = np.zeros_like(skeleton)\n",
    "        for i, node_i in enumerate(order):\n",
    "            for j, node_j in enumerate(order[i+1:], i+1):\n",
    "                if skeleton[node_i, node_j] > 0 or skeleton[node_j, node_i] > 0:\n",
    "                    adj[node_i, node_j] = 1\n",
    "                    \n",
    "        return adj.astype(int)\n",
    "    \n",
    "    def notears_linear(self, lambda1=0.1, max_iter=100):\n",
    "        \"\"\"\n",
    "        Simplified NOTEARS for linear relationships.\n",
    "        Based on: https://arxiv.org/abs/1803.01422\n",
    "        \"\"\"\n",
    "        X, _ = self.get_data_matrix()\n",
    "        if X is None or len(X) < 20:\n",
    "            return self.random_baseline()\n",
    "        \n",
    "        n, d = X.shape\n",
    "        \n",
    "        # Initialize\n",
    "        W = np.zeros((d, d))\n",
    "        \n",
    "        # Simplified version: use LASSO for each node with acyclicity penalty\n",
    "        for iteration in range(max_iter):\n",
    "            W_old = W.copy()\n",
    "            \n",
    "            for j in range(d):\n",
    "                # Solve for column j\n",
    "                X_j = X[:, j]\n",
    "                X_others = X.copy()\n",
    "                \n",
    "                # LASSO regression\n",
    "                lasso = LassoCV(cv=3, max_iter=500, random_state=42)\n",
    "                try:\n",
    "                    lasso.fit(X_others, X_j)\n",
    "                    W[:, j] = lasso.coef_\n",
    "                    W[j, j] = 0  # No self-loops\n",
    "                except:\n",
    "                    pass\n",
    "            \n",
    "            # Project to DAG (remove cycles)\n",
    "            W = self._project_to_dag(W)\n",
    "            \n",
    "            # Check convergence\n",
    "            if np.sum(np.abs(W - W_old)) < 1e-3:\n",
    "                break\n",
    "        \n",
    "        # Threshold small weights\n",
    "        adj = (np.abs(W) > 0.1).astype(int)\n",
    "        return adj\n",
    "    \n",
    "    def _project_to_dag(self, W):\n",
    "        \"\"\"Project weight matrix to DAG by removing cycles\"\"\"\n",
    "        # Simple heuristic: threshold and order by weight magnitude\n",
    "        threshold = np.percentile(np.abs(W[W != 0]), 30) if np.any(W != 0) else 0.1\n",
    "        W_thresh = W * (np.abs(W) > threshold)\n",
    "        \n",
    "        # Remove cycles by keeping only upper triangular after reordering\n",
    "        # Order nodes by total absolute incoming weight\n",
    "        scores = np.sum(np.abs(W_thresh), axis=0)\n",
    "        order = np.argsort(scores)\n",
    "        \n",
    "        W_ordered = W_thresh[order][:, order]\n",
    "        W_dag = np.triu(W_ordered, k=1)\n",
    "        \n",
    "        # Reorder back\n",
    "        W_final = np.zeros_like(W)\n",
    "        for i, oi in enumerate(order):\n",
    "            for j, oj in enumerate(order):\n",
    "                W_final[oi, oj] = W_dag[i, j]\n",
    "                \n",
    "        return W_final\n",
    "    \n",
    "    def causal_sufficiency_baseline(self):\n",
    "        \"\"\"\n",
    "        Assumes causal sufficiency and uses simple heuristics.\n",
    "        Good baseline when you believe all relevant variables are measured.\n",
    "        \"\"\"\n",
    "        X, interventions = self.get_data_matrix()\n",
    "        if X is None or len(X) < 10:\n",
    "            return self.random_baseline()\n",
    "        \n",
    "        adj = np.zeros((self.n_nodes, self.n_nodes))\n",
    "        \n",
    "        # For each pair of nodes\n",
    "        for i in range(self.n_nodes):\n",
    "            for j in range(self.n_nodes):\n",
    "                if i == j:\n",
    "                    continue\n",
    "                \n",
    "                # Get data where we intervened on i\n",
    "                mask_i = interventions == i\n",
    "                if np.sum(mask_i) < 3:\n",
    "                    continue\n",
    "                \n",
    "                # Check if j changes when we intervene on i\n",
    "                if np.sum(mask_i) > 0:\n",
    "                    # Compare j's distribution with and without intervention on i\n",
    "                    j_with_int = X[mask_i, j]\n",
    "                    j_without = X[~mask_i, j]\n",
    "                    \n",
    "                    if len(j_without) > 0:\n",
    "                        # Simple t-test\n",
    "                        from scipy import stats\n",
    "                        _, p_value = stats.ttest_ind(j_with_int, j_without)\n",
    "                        \n",
    "                        if p_value < 0.05:  # Significant change\n",
    "                            adj[i, j] = 1\n",
    "        \n",
    "        return adj.astype(int)"
   ]
  },
  {
   "cell_type": "code",
   "execution_count": 37,
   "id": "92c5c616",
   "metadata": {},
   "outputs": [
    {
     "name": "stdout",
     "output_type": "stream",
     "text": [
      "============================================================\n",
      "RUNNING BASELINE COMPARISONS\n",
      "============================================================\n",
      "\n",
      "Adding 70 queries to baseline methods...\n",
      "\n",
      "1. Random Baseline (sparsity=0.3):\n",
      "   SHD: 2\n",
      "\n",
      "2. LASSO Baseline:\n",
      "   SHD: 4\n",
      "   Edges found: 6\n",
      "\n",
      "3. PC Algorithm (Skeleton):\n",
      "   SHD: 4\n",
      "   Edges found: 2\n",
      "\n",
      "4. Simplified NOTEARS:\n",
      "   SHD: 2\n",
      "   Edges found: 0\n",
      "\n",
      "5. Causal Sufficiency Baseline:\n",
      "   SHD: 2\n",
      "   Edges found: 0\n",
      "\n",
      "6. Fully Connected Baseline:\n",
      "   SHD: 1\n",
      "\n",
      "============================================================\n",
      "COMPARISON SUMMARY\n",
      "============================================================\n",
      "\n",
      "True graph has 2 edges\n",
      "Maximum possible SHD: 6\n",
      "\n",
      "Method               SHD        Edge Count     \n",
      "---------------------------------------------\n",
      "PCBO (Ours)          0          -              \n",
      "Random               2          0              \n",
      "LASSO                4          6              \n",
      "PC                   4          2              \n",
      "NOTEARS              2          0              \n",
      "Causal Sufficiency   2          0              \n",
      "Fully Connected      1          3              \n",
      "\n",
      "Best baseline: Fully Connected with SHD=1\n",
      "PCBO vs best baseline: 0 vs 1\n"
     ]
    }
   ],
   "source": [
    "print(\"=\"*60)\n",
    "print(\"RUNNING BASELINE COMPARISONS\")\n",
    "print(\"=\"*60)\n",
    "\n",
    "# Initialize baselines\n",
    "baselines = CausalDiscoveryBaselines(n_nodes=3)\n",
    "\n",
    "# Add all intervention data to baselines\n",
    "print(f\"\\nAdding {len(all_queries)} queries to baseline methods...\")\n",
    "for query in all_queries:\n",
    "    for i, (node, val) in enumerate(query['interventions']):\n",
    "        outcome = query['outcomes'][i]\n",
    "        baselines.add_data(node, outcome)\n",
    "\n",
    "# Run each baseline\n",
    "baseline_results = {}\n",
    "\n",
    "print(\"\\n1. Random Baseline (sparsity=0.3):\")\n",
    "random_adj = baselines.random_baseline(sparsity=0.3)\n",
    "random_shd = torch.sum(torch.abs(torch.tensor(random_adj) - true_adj)).item()\n",
    "print(f\"   SHD: {random_shd:.0f}\")\n",
    "baseline_results['Random'] = {'adj': random_adj, 'shd': random_shd}\n",
    "\n",
    "print(\"\\n2. LASSO Baseline:\")\n",
    "lasso_adj = baselines.lasso_baseline(alpha=0.1)\n",
    "lasso_shd = torch.sum(torch.abs(torch.tensor(lasso_adj) - true_adj)).item()\n",
    "print(f\"   SHD: {lasso_shd:.0f}\")\n",
    "print(f\"   Edges found: {np.sum(lasso_adj)}\")\n",
    "baseline_results['LASSO'] = {'adj': lasso_adj, 'shd': lasso_shd}\n",
    "\n",
    "print(\"\\n3. PC Algorithm (Skeleton):\")\n",
    "pc_adj = baselines.pc_skeleton(alpha=0.05)\n",
    "pc_shd = torch.sum(torch.abs(torch.tensor(pc_adj) - true_adj)).item()\n",
    "print(f\"   SHD: {pc_shd:.0f}\")\n",
    "print(f\"   Edges found: {np.sum(pc_adj)}\")\n",
    "baseline_results['PC'] = {'adj': pc_adj, 'shd': pc_shd}\n",
    "\n",
    "print(\"\\n4. Simplified NOTEARS:\")\n",
    "notears_adj = baselines.notears_linear(lambda1=0.1)\n",
    "notears_shd = torch.sum(torch.abs(torch.tensor(notears_adj) - true_adj)).item()\n",
    "print(f\"   SHD: {notears_shd:.0f}\")\n",
    "print(f\"   Edges found: {np.sum(notears_adj)}\")\n",
    "baseline_results['NOTEARS'] = {'adj': notears_adj, 'shd': notears_shd}\n",
    "\n",
    "print(\"\\n5. Causal Sufficiency Baseline:\")\n",
    "cs_adj = baselines.causal_sufficiency_baseline()\n",
    "cs_shd = torch.sum(torch.abs(torch.tensor(cs_adj) - true_adj)).item()\n",
    "print(f\"   SHD: {cs_shd:.0f}\")\n",
    "print(f\"   Edges found: {np.sum(cs_adj)}\")\n",
    "baseline_results['Causal Sufficiency'] = {'adj': cs_adj, 'shd': cs_shd}\n",
    "\n",
    "print(\"\\n6. Fully Connected Baseline:\")\n",
    "full_adj = baselines.fully_connected_baseline()\n",
    "full_shd = torch.sum(torch.abs(torch.tensor(full_adj) - true_adj)).item()\n",
    "print(f\"   SHD: {full_shd:.0f}\")\n",
    "baseline_results['Fully Connected'] = {'adj': full_adj, 'shd': full_shd}\n",
    "\n",
    "# %%% Comparison Summary\n",
    "\n",
    "print(\"\\n\" + \"=\"*60)\n",
    "print(\"COMPARISON SUMMARY\")\n",
    "print(\"=\"*60)\n",
    "\n",
    "print(f\"\\nTrue graph has {np.sum(true_adj.numpy())} edges\")\n",
    "print(f\"Maximum possible SHD: {n_nodes * (n_nodes - 1)}\")\n",
    "\n",
    "print(\"\\n{:<20} {:<10} {:<15}\".format(\"Method\", \"SHD\", \"Edge Count\"))\n",
    "print(\"-\"*45)\n",
    "\n",
    "# Add PCBO result\n",
    "final_shd = pcbo.graph_distances[-1] if pcbo.graph_distances else 0\n",
    "print(\"{:<20} {:<10.0f} {:<15}\".format(\"PCBO (Ours)\", final_shd, \"-\"))\n",
    "\n",
    "# Baselines\n",
    "for name, result in baseline_results.items():\n",
    "    edge_count = np.sum(result['adj'])\n",
    "    print(\"{:<20} {:<10.0f} {:<15.0f}\".format(name, result['shd'], edge_count))\n",
    "\n",
    "# Find best baseline\n",
    "best_baseline = min(baseline_results.items(), key=lambda x: x[1]['shd'])\n",
    "print(f\"\\nBest baseline: {best_baseline[0]} with SHD={best_baseline[1]['shd']:.0f}\")\n",
    "print(f\"PCBO vs best baseline: {final_shd:.0f} vs {best_baseline[1]['shd']:.0f}\")"
   ]
  },
  {
   "cell_type": "markdown",
   "id": "457e6fb8",
   "metadata": {},
   "source": [
    "### Visualize Best Baseline"
   ]
  },
  {
   "cell_type": "code",
   "execution_count": 38,
   "id": "ab3b1faf",
   "metadata": {},
   "outputs": [
    {
     "data": {
      "image/png": "[encoded data removed]",
      "text/plain": [
       "<Figure size 1500x500 with 3 Axes>"
      ]
     },
     "metadata": {},
     "output_type": "display_data"
    }
   ],
   "source": [
    "# --- Build learned adjacency from PCBO (works for 3-node or 6-node versions) ---\n",
    "def learned_adj_from_pcbo(pcbo, true_adj, mode=\"threshold\", thr=0.5):\n",
    "    A = torch.zeros_like(true_adj)\n",
    "\n",
    "    if hasattr(pcbo, \"local_posts\"):  # 6-node version\n",
    "        if mode == \"map\":\n",
    "            for lp in pcbo.local_posts.values():\n",
    "                mask, _ = lp.most_probable_set()\n",
    "                for j, is_parent in enumerate(mask):\n",
    "                    if is_parent:\n",
    "                        src = lp.parent_idx[j]\n",
    "                        A[src, lp.target_idx] = 1\n",
    "        else:  # threshold on edge marginals\n",
    "            for lp in pcbo.local_posts.values():\n",
    "                p = lp.edge_posterior()  # (d_parents,)\n",
    "                for j, src in enumerate(lp.parent_idx):\n",
    "                    if float(p[j]) >= thr:\n",
    "                        A[src, lp.target_idx] = 1\n",
    "\n",
    "    elif hasattr(pcbo, \"parent_posterior\"):  # 3-node version (only parents of Y)\n",
    "        tgt = pcbo.parent_posterior.target_idx  # should be 2 (Y)\n",
    "        if mode == \"map\":\n",
    "            mask, _ = pcbo.parent_posterior.most_probable_set()  # tuple of length 2\n",
    "            for i, is_parent in enumerate(mask):\n",
    "                if is_parent:\n",
    "                    A[i, tgt] = 1\n",
    "        else:\n",
    "            p = pcbo.parent_posterior.edge_posterior()  # tensor length 2\n",
    "            for i in range(p.numel()):\n",
    "                if float(p[i]) >= thr:\n",
    "                    A[i, tgt] = 1\n",
    "    else:\n",
    "        raise ValueError(\"PCBO object has neither local_posts nor parent_posterior.\")\n",
    "\n",
    "    # no self loops\n",
    "    A.fill_diagonal_(0)\n",
    "    return A\n",
    "\n",
    "# --- Plot true, best baseline, and PCBO learned graph ---\n",
    "fig, axes = plt.subplots(1, 3, figsize=(15, 5))\n",
    "\n",
    "# 1) True graph\n",
    "ax = axes[0]\n",
    "G_true = nx.DiGraph(true_adj.numpy())\n",
    "pos = nx.spring_layout(G_true, seed=42)\n",
    "nx.draw(G_true, pos, ax=ax, with_labels=True,\n",
    "        labels={i: node_names[i] for i in range(true_adj.shape[0])},\n",
    "        node_color='lightblue', node_size=1000, font_size=12)\n",
    "ax.set_title(\"True DAG\")\n",
    "\n",
    "# 2) Best baseline\n",
    "ax = axes[1]\n",
    "G_baseline = nx.DiGraph(best_baseline[1]['adj'])\n",
    "nx.draw(G_baseline, pos, ax=ax, with_labels=True,\n",
    "        labels={i: node_names[i] for i in range(true_adj.shape[0])},\n",
    "        node_color='lightgreen', node_size=1000, font_size=12)\n",
    "ax.set_title(f\"Best Baseline: {best_baseline[0]}\")\n",
    "\n",
    "# 3) PCBO learned graph (choose mode=\"threshold\" or \"map\")\n",
    "learned_adj = learned_adj_from_pcbo(pcbo, true_adj, mode=\"threshold\", thr=0.5)\n",
    "G_pcbo = nx.DiGraph(learned_adj.numpy())\n",
    "ax = axes[2]\n",
    "nx.draw(G_pcbo, pos, ax=ax, with_labels=True,\n",
    "        labels={i: node_names[i] for i in range(true_adj.shape[0])},\n",
    "        node_color='lightyellow', node_size=1000, font_size=12)\n",
    "ax.set_title(\"PCBO Result\")\n",
    "\n",
    "plt.tight_layout()\n",
    "plt.show()"
   ]
  },
  {
   "cell_type": "markdown",
   "id": "373b8084",
   "metadata": {},
   "source": [
    "## Visualize Results"
   ]
  },
  {
   "cell_type": "code",
   "execution_count": 39,
   "id": "cfb9a2f6",
   "metadata": {},
   "outputs": [
    {
     "data": {
      "image/png": "[encoded data removed]",
      "text/plain": [
       "<Figure size 1500x800 with 7 Axes>"
      ]
     },
     "metadata": {},
     "output_type": "display_data"
    }
   ],
   "source": [
    "# Create comprehensive visualization\n",
    "fig, axes = plt.subplots(2, 3, figsize=(15, 8))\n",
    "\n",
    "# 1. Graph Learning Progress (SHD)\n",
    "axes[0, 0].plot(pcbo.iteration_history, pcbo.graph_distances, 'b-', label='SHD')\n",
    "axes[0, 0].set_xlabel(\"Iteration\")\n",
    "axes[0, 0].set_ylabel(\"Structural Hamming Distance\")\n",
    "axes[0, 0].set_title(\"Graph Learning Progress (SHD)\")\n",
    "axes[0, 0].set_ylim([-0.5, 4.5])\n",
    "axes[0, 0].legend()\n",
    "\n",
    "# 2. Edge Probability Error (Smoother metric)\n",
    "axes[0, 1].plot(pcbo.iteration_history, pcbo.edge_prob_errors, 'g-', label='Edge Prob Error')\n",
    "axes[0, 1].set_xlabel(\"Iteration\")\n",
    "axes[0, 1].set_ylabel(\"Mean Edge Probability Error\")\n",
    "axes[0, 1].set_title(\"Graph Learning Progress (Smooth)\")\n",
    "axes[0, 1].set_ylim([0, 1])\n",
    "axes[0, 1].legend()\n",
    "\n",
    "# 3. Utility Learning Progress\n",
    "axes[0, 2].plot(pcbo.iteration_history, pcbo.utility_errors, 'r-', label='Utility Error')\n",
    "axes[0, 2].set_xlabel(\"Iteration\")\n",
    "axes[0, 2].set_ylabel(\"Preference Prediction Error\")\n",
    "axes[0, 2].set_title(\"Utility Learning Progress\")\n",
    "axes[0, 2].set_ylim([0, 1])\n",
    "axes[0, 2].legend()\n",
    "\n",
    "# 4. Final Edge Probabilities\n",
    "edge_probs = pcbo.parent_posterior.edge_posterior().numpy()\n",
    "axes[1, 0].bar(['X1→Y', 'X2→Y'], edge_probs, color=['blue', 'green'])\n",
    "axes[1, 0].axhline(y=1.0, color='r', linestyle='--', label='True edges')\n",
    "axes[1, 0].set_ylabel(\"Posterior Probability\")\n",
    "axes[1, 0].set_title(\"Learned Edge Probabilities\")\n",
    "axes[1, 0].set_ylim([0, 1.1])\n",
    "axes[1, 0].legend()\n",
    "\n",
    "# 5. Selected Interventions Over Time\n",
    "interventions_array = np.array(pcbo.selected_interventions)\n",
    "scatter = axes[1, 1].scatter(interventions_array[:, 0], interventions_array[:, 1], \n",
    "                            c=range(len(interventions_array)), cmap='viridis', s=50)\n",
    "axes[1, 1].set_xlabel(\"Node Index\")\n",
    "axes[1, 1].set_ylabel(\"Intervention Value\")\n",
    "axes[1, 1].set_title(\"Selected Interventions Over Time\")\n",
    "axes[1, 1].set_xticks([0, 1, 2])\n",
    "axes[1, 1].set_xticklabels(['X1', 'X2', 'Y'])\n",
    "plt.colorbar(scatter, ax=axes[1, 1], label='Iteration')\n",
    "\n",
    "# 6. Preference Dataset Growth\n",
    "axes[1, 2].plot(range(len(all_queries)), [i for i in range(len(all_queries))], 'b-', label='Total Queries')\n",
    "axes[1, 2].plot(range(len(all_queries)), [min(i*2, len(pcbo.pref_dataset)) for i in range(len(all_queries))], \n",
    "               'g-', label='Preference Pairs')\n",
    "axes[1, 2].set_xlabel(\"Iteration\")\n",
    "axes[1, 2].set_ylabel(\"Count\")\n",
    "axes[1, 2].set_title(\"Data Accumulation\")\n",
    "axes[1, 2].legend()\n",
    "\n",
    "plt.tight_layout()\n",
    "plt.show()"
   ]
  },
  {
   "cell_type": "markdown",
   "id": "3666df3e",
   "metadata": {},
   "source": [
    "## Final Results and Analysis"
   ]
  },
  {
   "cell_type": "code",
   "execution_count": 40,
   "id": "351a1947",
   "metadata": {},
   "outputs": [
    {
     "name": "stdout",
     "output_type": "stream",
     "text": [
      "\n",
      "==================================================\n",
      "FINAL RESULTS\n",
      "==================================================\n",
      "\n",
      "True causal graph:\n",
      "[[0 0 1]\n",
      " [0 0 1]\n",
      " [0 0 0]]\n",
      "\n",
      "Most probable parent set for Y: (1, 1)\n",
      "Posterior probability: 1.000\n",
      "\n",
      "Edge posterior probabilities:\n",
      "  P(X1 → Y) = 1.000 (True: 1.0)\n",
      "  P(X2 → Y) = 1.000 (True: 1.0)\n",
      "\n",
      "Final metrics:\n",
      "  SHD: 0.00\n",
      "  Edge probability error: 0.000\n",
      "  Utility prediction error: 0.100\n",
      "\n",
      "Learning efficiency:\n",
      "  Total queries: 70\n",
      "  Total preference comparisons: 70\n",
      "  Flow reinitializations: 0\n",
      "\n",
      "Visualization of learned causal structure:\n"
     ]
    },
    {
     "data": {
      "image/png": "[encoded data removed]",
      "text/plain": [
       "<Figure size 550x450 with 2 Axes>"
      ]
     },
     "metadata": {},
     "output_type": "display_data"
    },
    {
     "name": "stdout",
     "output_type": "stream",
     "text": [
      "\n",
      "==================================================\n",
      "PCBO COMPLETE\n",
      "==================================================\n"
     ]
    }
   ],
   "source": [
    "print(\"\\n\" + \"=\"*50)\n",
    "print(\"FINAL RESULTS\")\n",
    "print(\"=\"*50)\n",
    "\n",
    "print(f\"\\nTrue causal graph:\")\n",
    "print(f\"{true_adj.numpy()}\")\n",
    "\n",
    "most_prob_parents, prob = pcbo.parent_posterior.most_probable_set()\n",
    "print(f\"\\nMost probable parent set for Y: {most_prob_parents}\")\n",
    "print(f\"Posterior probability: {prob:.3f}\")\n",
    "\n",
    "edge_probs = pcbo.parent_posterior.edge_posterior()\n",
    "print(f\"\\nEdge posterior probabilities:\")\n",
    "print(f\"  P(X1 → Y) = {edge_probs[0]:.3f} (True: 1.0)\")\n",
    "print(f\"  P(X2 → Y) = {edge_probs[1]:.3f} (True: 1.0)\")\n",
    "\n",
    "print(f\"\\nFinal metrics:\")\n",
    "print(f\"  SHD: {pcbo.graph_distances[-1]:.2f}\")\n",
    "print(f\"  Edge probability error: {pcbo.edge_prob_errors[-1]:.3f}\")\n",
    "print(f\"  Utility prediction error: {pcbo.utility_errors[-1]:.3f}\")\n",
    "\n",
    "print(f\"\\nLearning efficiency:\")\n",
    "print(f\"  Total queries: {len(all_queries)}\")\n",
    "print(f\"  Total preference comparisons: {len(pcbo.pref_dataset)}\")\n",
    "print(f\"  Flow reinitializations: {pcbo.reinitialization_count}\")\n",
    "\n",
    "# Visualize final learned causal structure\n",
    "learned_adj = torch.zeros_like(true_adj)\n",
    "for i, is_parent in enumerate(most_prob_parents):\n",
    "    if is_parent:\n",
    "        learned_adj[i, 2] = 1\n",
    "\n",
    "print(\"\\nVisualization of learned causal structure:\")\n",
    "plot_dag(learned_adj.numpy(), names=node_names, edge_probs=edge_probs.numpy())\n",
    "\n",
    "print(\"\\n\" + \"=\"*50)\n",
    "print(\"PCBO COMPLETE\")\n",
    "print(\"=\"*50)"
   ]
  }
 ],
 "metadata": {
  "kernelspec": {
   "display_name": "base",
   "language": "python",
   "name": "python3"
  },
  "language_info": {
   "codemirror_mode": {
    "name": "ipython",
    "version": 3
   },
   "file_extension": ".py",
   "mimetype": "text/x-python",
   "name": "python",
   "nbconvert_exporter": "python",
   "pygments_lexer": "ipython3",
   "version": "3.11.5"
  }
 },
 "nbformat": 4,
 "nbformat_minor": 5
}
