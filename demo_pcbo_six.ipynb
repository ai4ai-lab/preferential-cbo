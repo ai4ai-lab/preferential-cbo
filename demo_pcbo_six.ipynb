{
 "cells": [
  {
   "cell_type": "markdown",
   "id": "dc6409b5",
   "metadata": {},
   "source": [
    "# PCBO: Preferential Causal Bayesian Optimisation\n",
    "## Six-Nodes Graph\n"
   ]
  },
  {
   "cell_type": "code",
   "execution_count": 15,
   "id": "a950291d",
   "metadata": {},
   "outputs": [
    {
     "name": "stdout",
     "output_type": "stream",
     "text": [
      "Using device: cpu\n"
     ]
    }
   ],
   "source": [
    "import torch\n",
    "import numpy as np\n",
    "import matplotlib.pyplot as plt\n",
    "from tqdm import tqdm\n",
    "from sklearn.linear_model import LassoCV, LinearRegression\n",
    "from sklearn.preprocessing import StandardScaler\n",
    "import networkx as nx\n",
    "import warnings\n",
    "warnings.filterwarnings('ignore')\n",
    "\n",
    "# Custom modules\n",
    "from flows import real_nvp, create_base_distribution\n",
    "from prefflow import PrefFlow\n",
    "from pcbo_dataset import PCBO_Dataset_Six\n",
    "from parent_posterior import LocalParentPosterior\n",
    "from acquisition import pig_pairwise, eeig_pairwise\n",
    "from dag_visual import plot_dag\n",
    "\n",
    "# Set random seeds\n",
    "torch.manual_seed(42)\n",
    "np.random.seed(42)\n",
    "\n",
    "# Device and precision\n",
    "device = torch.device(\"cuda\" if torch.cuda.is_available() else \"cpu\")\n",
    "precision_double = True\n",
    "print(f\"Using device: {device}\")"
   ]
  },
  {
   "cell_type": "markdown",
   "id": "8ee7d6ee",
   "metadata": {},
   "source": [
    "## Problem Setup"
   ]
  },
  {
   "cell_type": "code",
   "execution_count": 16,
   "id": "b3c7696e",
   "metadata": {},
   "outputs": [
    {
     "name": "stdout",
     "output_type": "stream",
     "text": [
      "True causal graph:\n",
      "tensor([[0, 0, 0, 1, 0, 1],\n",
      "        [0, 0, 0, 0, 0, 1],\n",
      "        [0, 0, 0, 1, 0, 1],\n",
      "        [0, 0, 0, 0, 0, 1],\n",
      "        [0, 0, 0, 0, 0, 0],\n",
      "        [0, 0, 0, 0, 0, 0]])\n",
      "Node names: ['X1', 'X2', 'X3', 'X4', 'X5', 'Y']\n"
     ]
    }
   ],
   "source": [
    "\"\"\"\n",
    "Toy Problem: X1 -> Y <- X2\n",
    "- We can intervene on X1, X2, or Y\n",
    "- True utility: minimize |Y| with small intervention cost\n",
    "- Learn both the causal graph and utility function from preferences\n",
    "\"\"\"\n",
    "\n",
    "# Problem parameters\n",
    "n_nodes = 6\t\t# Number of nodes in the causal graph\n",
    "d_utility = 2  # Dimensionality for utility function input\n",
    "n_initial_prefs = 20  # Initial preference data\n",
    "n_iterations = 50  # PCBO iterations\n",
    "k = 2  # k-wise preferences (pairwise for now)\n",
    "flow_layers = 5  # Number of flow layers in the PrefFlow\n",
    "\n",
    "# Create synthetic dataset\n",
    "dataset = PCBO_Dataset_Six(\n",
    "    n_queries=n_initial_prefs,\n",
    "    noise_std=0.1,\n",
    "    domain=(-2, 2),\n",
    "    seed=42\n",
    ")\n",
    "\n",
    "true_adj, node_names = dataset.get_causal_graph()\n",
    "print(f\"True causal graph:\\n{true_adj}\")\n",
    "print(f\"Node names: {node_names}\")"
   ]
  },
  {
   "cell_type": "markdown",
   "id": "c3b0a6f1",
   "metadata": {},
   "source": [
    "## Helper Classes and Functions"
   ]
  },
  {
   "cell_type": "code",
   "execution_count": 17,
   "id": "36531271",
   "metadata": {},
   "outputs": [],
   "source": [
    "class PreferenceDataset:\n",
    "    \"\"\"Efficient storage for preference comparisons\"\"\"\n",
    "    def __init__(self, device):\n",
    "        self.device = device\n",
    "        self.feature_pairs = []  # List of (feat_winner, feat_loser) tuples\n",
    "        self.labels = []  # List of labels (always 1.0 for winner first)\n",
    "        self._X_cache = None\n",
    "        self._Y_cache = None\n",
    "        self._cache_valid = False\n",
    "        \n",
    "    def add_preference(self, outcome_winner, outcome_loser):\n",
    "        \"\"\"Add a new preference comparison\"\"\"\n",
    "        feat_winner = intervention_to_utility_features(outcome_winner)\n",
    "        feat_loser = intervention_to_utility_features(outcome_loser)\n",
    "        self.feature_pairs.append((feat_winner, feat_loser))\n",
    "        self.labels.append(1.0)\n",
    "        self._cache_valid = False\n",
    "        \n",
    "    def add_from_query(self, query_data):\n",
    "        \"\"\"Add preferences from a query with k options\"\"\"\n",
    "        outcomes = query_data['outcomes']\n",
    "        winner_idx = query_data['winner_idx']\n",
    "        \n",
    "        # Compare winner against all losers\n",
    "        for i in range(len(outcomes)):\n",
    "            if i != winner_idx:\n",
    "                self.add_preference(outcomes[winner_idx], outcomes[i])\n",
    "        \n",
    "    def get_batch(self, last_n=None):\n",
    "        \"\"\"Get preference data in PrefFlow format\"\"\"\n",
    "        if len(self.feature_pairs) == 0:\n",
    "            return None, None\n",
    "            \n",
    "        pairs = self.feature_pairs[-last_n:] if last_n else self.feature_pairs\n",
    "        labels = self.labels[-last_n:] if last_n else self.labels\n",
    "        \n",
    "        n_comparisons = len(pairs)\n",
    "        feat_dim = pairs[0][0].shape[0]\n",
    "        X = torch.zeros(2, feat_dim, n_comparisons).to(self.device)\n",
    "        \n",
    "        for i, (feat1, feat2) in enumerate(pairs):\n",
    "            X[0, :, i] = feat1.to(self.device)\n",
    "            X[1, :, i] = feat2.to(self.device)\n",
    "        \n",
    "        Y = torch.tensor(labels, dtype=torch.float32).to(self.device)\n",
    "        \n",
    "        return X, Y\n",
    "    \n",
    "    def __len__(self):\n",
    "        return len(self.feature_pairs)\n",
    "\n",
    "def intervention_to_utility_features(intervention_outcome):\n",
    "    \"\"\"\n",
    "    Map intervention outcomes to features for utility function\n",
    "    Normalized to prevent numerical issues\n",
    "    \"\"\"\n",
    "    if not isinstance(intervention_outcome, torch.Tensor):\n",
    "        intervention_outcome = torch.tensor(intervention_outcome, dtype=torch.float32)\n",
    "    \n",
    "    # Normalize Y value to [-1, 1] range\n",
    "    if n_nodes == 6:\n",
    "        y_value = intervention_outcome[5]  # Y is at index 5\n",
    "    else:\n",
    "        y_value = intervention_outcome[2]  # For 3-node case\n",
    "    y_normalized = torch.tanh(y_value / 2.0)  # Assuming Y is roughly in [-2, 2]\n",
    "\n",
    "    # Fixed intervention cost (also normalized)\n",
    "    intervention_cost = 0.1\n",
    "    \n",
    "    features = torch.tensor([\n",
    "        y_normalized.item() if isinstance(y_normalized, torch.Tensor) else y_normalized,\n",
    "        intervention_cost\n",
    "    ], dtype=torch.float32)\n",
    "    \n",
    "    return features\n",
    "\n",
    "# Map a full outcome vector to (x_for_graph, y) for the ParentPosterior\n",
    "def outcome_to_xy_local(outcome, lpp):\n",
    "    x = outcome[lpp.parent_idx].unsqueeze(0)\n",
    "    y = outcome[lpp.target_idx].reshape(1, 1)\n",
    "    return x, y\n",
    "\n",
    "# Helper to create locals for all targets except Y=5\n",
    "def make_all_local_posts(n_nodes, y_idx=5):\n",
    "    locals_dict = {}\n",
    "    for t in range(n_nodes):\n",
    "        if t == y_idx:\n",
    "            parent_idx = [i for i in range(n_nodes) if i != y_idx]\n",
    "            pi = 0.30\n",
    "        else:\n",
    "            parent_idx = [i for i in range(n_nodes) if i != t and i != y_idx]\n",
    "            pi = 0.10\n",
    "        locals_dict[t] = LocalParentPosterior(\n",
    "            parent_idx=parent_idx, target_idx=t,\n",
    "            a0=1.0, b0=1.0, tau2=1.0,\n",
    "            prior_sparsity=pi, device=device, dtype=torch.float64\n",
    "        )\n",
    "    return locals_dict"
   ]
  },
  {
   "cell_type": "markdown",
   "id": "43bdcaf8",
   "metadata": {},
   "source": [
    "## PCBO Main Class"
   ]
  },
  {
   "cell_type": "code",
   "execution_count": 18,
   "id": "88735033",
   "metadata": {},
   "outputs": [],
   "source": [
    "class PCBO:\n",
    "    def __init__(self, dataset, device, n_iterations=50):\n",
    "        self.dataset = dataset\n",
    "        self.device = device\n",
    "        self.n_iterations = n_iterations\n",
    "\n",
    "        # Initialize components\n",
    "        self.pref_flow = self._create_flow()\n",
    "        \n",
    "        # Keep track of all local parent posteriors\n",
    "        self.local_posts = make_all_local_posts(self.dataset.n_nodes, y_idx=5)\n",
    "        self.parent_posterior = self.local_posts[5]  # Keep a convenience handle for Y\n",
    "\n",
    "        # Get true adjacency matrix\n",
    "        self.true_adj, self.node_names = dataset.get_causal_graph()\n",
    "        \n",
    "        # Efficient preference storage\n",
    "        self.pref_dataset = PreferenceDataset(device)\n",
    "        \n",
    "        # Storage for tracking progress\n",
    "        self.iteration_history = []\n",
    "        self.graph_distances = []\n",
    "        self.utility_errors = []\n",
    "        self.edge_prob_errors = []\n",
    "        self.selected_interventions = []\n",
    "        self.causal_buffer = []  # Buffer for causal updates\n",
    "        \n",
    "        # Stability tracking\n",
    "        self.flow_stable = True\n",
    "        self.instability_count = 0\n",
    "        self.reinitialization_count = 0\n",
    "        \n",
    "    def _create_flow(self):\n",
    "        \"\"\"Create a fresh PrefFlow model\"\"\"\n",
    "        base_dist = create_base_distribution(d_utility, self.device, precision_double)\n",
    "        nf_model = real_nvp(flow_layers, d_utility, base_dist, self.device, precision_double)\n",
    "\n",
    "        s_init = 1.0\n",
    "        pref_flow = PrefFlow(nf_model, s_init, d_utility, ranking=False, \n",
    "                            device=self.device, precision_double=precision_double)\n",
    "        return pref_flow\n",
    "        \n",
    "    def train_utility_on_preferences(self, n_epochs=50, lr=1e-4, batch_size=None):\n",
    "        \"\"\"\n",
    "        Update PrefFlow based on preference data with improved stability\n",
    "        \"\"\"\n",
    "        # Use all available data if batch_size not specified\n",
    "        if batch_size is None:\n",
    "            batch_size = min(40, len(self.pref_dataset))\n",
    "        \n",
    "        # Get data from preference dataset\n",
    "        X, Y = self.pref_dataset.get_batch(last_n=batch_size)\n",
    "        \n",
    "        if X is None or Y is None:\n",
    "            print(\"    No preference data available\")\n",
    "            return []\n",
    "        \n",
    "\n",
    "        base_lr = 1e-4\n",
    "        param_groups = [\n",
    "            {\"params\": [p for n,p in self.pref_flow.named_parameters() if n != \"s_raw\"],\n",
    "             \"lr\": base_lr, \"weight_decay\": 1e-6},\n",
    "            {\"params\": [self.pref_flow.s_raw],\n",
    "             \"lr\": base_lr * 5, \"weight_decay\": 0.0},\n",
    "        ]\n",
    "        optimizer = torch.optim.Adam(param_groups)\n",
    "        losses = []\n",
    "        \n",
    "        for epoch in range(n_epochs):\n",
    "            optimizer.zero_grad()\n",
    "            \n",
    "            try:\n",
    "                # Compute loss\n",
    "                log_posterior = self.pref_flow.logposterior((X, Y))\n",
    "                \n",
    "                # Check for NaN\n",
    "                if torch.isnan(log_posterior) or torch.isinf(log_posterior):\n",
    "                    self.flow_stable = False\n",
    "                    self.instability_count += 1\n",
    "                    \n",
    "                    if self.instability_count > 5:\n",
    "                        print(f\"    Flow unstable, reinitializing...\")\n",
    "                        self._reinitialize_flow()\n",
    "                        return self.train_utility_on_preferences(n_epochs//2, lr*0.5, batch_size)\n",
    "                    continue\n",
    "                \n",
    "                loss = -log_posterior\n",
    "                \n",
    "                # Only backprop if loss is valid and reasonable\n",
    "                if not torch.isnan(loss) and not torch.isinf(loss) and abs(loss.item()) < 1e6:\n",
    "                    loss.backward()\n",
    "                    \n",
    "                    # Gradient clipping for stability\n",
    "                    torch.nn.utils.clip_grad_norm_(self.pref_flow.parameters(), max_norm=1.0)\n",
    "                    \n",
    "                    optimizer.step()\n",
    "                    losses.append(loss.item())\n",
    "                    \n",
    "                    # Reset instability count on successful training\n",
    "                    self.flow_stable = True\n",
    "                    self.instability_count = 0\n",
    "                    \n",
    "                    if epoch % 20 == 0:\n",
    "                        print(f\"    Epoch {epoch}, Loss: {loss.item():.4f}\")\n",
    "                        \n",
    "            except Exception as e:\n",
    "                print(f\"    Error during training: {e}\")\n",
    "                self.instability_count += 1\n",
    "                if self.instability_count > 5:\n",
    "                    self._reinitialize_flow()\n",
    "                    return losses\n",
    "                    \n",
    "        return losses\n",
    "    \n",
    "    def _reinitialize_flow(self):\n",
    "        \"\"\"Reinitialize the flow if it becomes unstable\"\"\"\n",
    "        print(\"    Creating new flow due to instability...\")\n",
    "        self.pref_flow = self._create_flow()\n",
    "        self.flow_stable = True\n",
    "        self.reinitialization_count += 1\n",
    "    \n",
    "    def select_next_intervention(self, current_iteration=0, n_candidates=30):\n",
    "        \"\"\"\n",
    "        Select next intervention using PCBO acquisition functions\n",
    "        \"\"\"\n",
    "        # Generate candidate interventions\n",
    "        candidate_interventions = []\n",
    "        candidate_features = []\n",
    "        candidate_outcomes = []\n",
    "\n",
    "        # Ensure coverage of all nodes\n",
    "        for node_idx in range(self.dataset.n_nodes):\n",
    "            n_per_node = n_candidates // self.dataset.n_nodes\n",
    "            for _ in range(n_per_node):\n",
    "                value = np.random.uniform(-2, 2)\n",
    "                intervention = (node_idx, value)\n",
    "                candidate_interventions.append(intervention)\n",
    "                \n",
    "                # Execute intervention to get outcome\n",
    "                outcome = self.dataset._compute_intervention_outcome(node_idx, value)\n",
    "                candidate_outcomes.append(outcome)\n",
    "\n",
    "                # Convert to utility features\n",
    "                features = intervention_to_utility_features(outcome)\n",
    "                candidate_features.append(features)\n",
    "\n",
    "        # Targeted exploration for early iterations\n",
    "        if current_iteration < 10:\n",
    "            target_node = current_iteration % 2  # Alternate between X1 and X2\n",
    "            for _ in range(5):  # Add a few extra candidates for target_node\n",
    "                value = np.random.uniform(-2, 2)\n",
    "                intervention = (target_node, value)\n",
    "                candidate_interventions.append(intervention)\n",
    "                outcome = self.dataset._compute_intervention_outcome(target_node, value)\n",
    "                candidate_outcomes.append(outcome)\n",
    "                features = intervention_to_utility_features(outcome)\n",
    "                candidate_features.append(features)\n",
    "        \n",
    "        # If flow is unstable, use random selection\n",
    "        if not self.flow_stable:\n",
    "            print(\"    Flow unstable, using random selection\")\n",
    "            return candidate_interventions[np.random.randint(len(candidate_interventions))]\n",
    "        \n",
    "        # Stack features\n",
    "        candidate_features = torch.stack(candidate_features).to(self.device)\n",
    "        \n",
    "        # Select anchor intervention\n",
    "        if len(self.selected_interventions) > 0:\n",
    "            # Use a recent successful intervention as anchor\n",
    "            anchor_idx = min(5, len(self.selected_interventions))\n",
    "            anchor_intervention = self.selected_interventions[-anchor_idx]\n",
    "            anchor_node, anchor_value = anchor_intervention\n",
    "\n",
    "            # Get anchor features and outcome\n",
    "            anchor_outcome = self.dataset._compute_intervention_outcome(anchor_node, anchor_value)\n",
    "            anchor_features = intervention_to_utility_features(anchor_outcome)\n",
    "        else:\n",
    "            # First iteration: use first candidate as anchor\n",
    "            anchor_idx = 0\n",
    "            anchor_intervention = candidate_interventions[anchor_idx]\n",
    "            anchor_outcome = candidate_outcomes[anchor_idx]\n",
    "            anchor_features = candidate_features[anchor_idx]\n",
    "        \n",
    "        anchor_features = anchor_features.unsqueeze(0).to(self.device)\n",
    "           \n",
    "        try:\n",
    "            with torch.no_grad():\n",
    "                # 1. Preference Information Gain (for utility learning)\n",
    "                pig_scores = pig_pairwise(\n",
    "                    self.pref_flow, \n",
    "                    anchor_features, \n",
    "                    candidate_features, \n",
    "                    self.pref_flow.s.item()\n",
    "                )\n",
    "                \n",
    "                # 2. Edge Entropy Information Gain (for causal discovery)\n",
    "                # Aggregate across all local parent posteriors\n",
    "                eeig_scores_total = None\n",
    "                for lp in self.local_posts.values():\n",
    "                    ax_lp, ay_lp = outcome_to_xy_local(anchor_outcome, lp)\n",
    "                    cand_xy_lp = [outcome_to_xy_local(out, lp) for out in candidate_outcomes]\n",
    "\n",
    "                    eeig_lp = eeig_pairwise(\n",
    "                        self.pref_flow,\n",
    "                        lp,\n",
    "                        anchor_features,\n",
    "                        candidate_features,\n",
    "                        self.pref_flow.s.item(),\n",
    "                        anchor_xy=(ax_lp, ay_lp),\n",
    "                        cand_xy=cand_xy_lp,\n",
    "                    )\n",
    "                    eeig_scores_total = eeig_lp if eeig_scores_total is None else (eeig_scores_total + eeig_lp)\n",
    "\n",
    "            eeig_scores = eeig_scores_total / len(self.local_posts)\n",
    "\n",
    "            # Compute adaptive weight between objectives\n",
    "            alpha = self._compute_acquisition_weight(current_iteration)\n",
    "            \n",
    "            # Normalize both scores\n",
    "            pig = pig_scores.copy()\n",
    "            eeig = eeig_scores.copy()\n",
    "            pig = (pig - pig.min()) / (pig.max() - pig.min() + 1e-12)\n",
    "            eeig = (eeig - eeig.min()) / (eeig.max() - eeig.min() + 1e-12)\n",
    "\n",
    "            # Combine acquisition functions\n",
    "            combined_scores = alpha * pig + (1 - alpha) * eeig\n",
    "\n",
    "            # Add exploration bonus\n",
    "            exploration_bonus = self._compute_exploration_bonus(candidate_interventions)\n",
    "            combined_scores += 0.1 * exploration_bonus\n",
    "            \n",
    "            # Add small random noise for tie-breaking\n",
    "            combined_scores += 0.01 * np.random.randn(len(combined_scores))\n",
    "            \n",
    "            # Select best intervention\n",
    "            best_idx = np.argmax(combined_scores)\n",
    "            selected_intervention = candidate_interventions[best_idx]\n",
    "            \n",
    "            # Store info for analysis\n",
    "            self.last_acquisition_info = {\n",
    "                'pig_scores': pig_scores,\n",
    "                'eeig_scores': eeig_scores,\n",
    "                'combined_scores': combined_scores,\n",
    "                'alpha': alpha,\n",
    "                'selected': selected_intervention\n",
    "            }\n",
    "            \n",
    "            print(f\"    Selected: Node {selected_intervention[0]}, Value {selected_intervention[1]:.3f}\")\n",
    "            print(f\"    Scores - PIG: {pig_scores[best_idx]:.3f}, EEIG: {eeig_scores[best_idx]:.3f}\")\n",
    "            print(f\"    Alpha (utility weight): {alpha:.3f}\")\n",
    "            \n",
    "        except Exception as e:\n",
    "            print(f\"    Acquisition failed ({e}), using random selection\")\n",
    "            selected_intervention = candidate_interventions[np.random.randint(len(candidate_interventions))]\n",
    "            \n",
    "        return selected_intervention\n",
    "\n",
    "    def _compute_acquisition_weight(self, iteration):\n",
    "        \"\"\"\n",
    "        Compute adaptive weight for PIG (utility learning)\n",
    "\t\t\t\t\t\t\t\tEarly: Low alpha (focus on causal discovery via EEIG)\n",
    "\t\t\t\t\t\t\t\tLate: High alpha (focus on utility learning via PIG)\n",
    "        \"\"\"\n",
    "        t = iteration / max(1, self.n_iterations - 1)\n",
    "        return 0.05 + 0.90 * (t ** 1.5)\n",
    "\n",
    "    def _compute_exploration_bonus(self, candidate_interventions):\n",
    "        \"\"\"\n",
    "        Compute exploration bonus for each candidate based on novelty\n",
    "        \"\"\"\n",
    "        if len(self.selected_interventions) == 0:\n",
    "            return np.zeros(len(candidate_interventions))\n",
    "            \n",
    "        bonuses = []\n",
    "        \n",
    "        for node_idx, value in candidate_interventions:\n",
    "            # Count previous interventions on this node\n",
    "            node_count = sum(1 for n, v in self.selected_interventions if n == node_idx)\n",
    "            node_novelty = 1.0 / (1.0 + node_count)\n",
    "            \n",
    "            # Check value novelty\n",
    "            same_node_values = [v for n, v in self.selected_interventions if n == node_idx]\n",
    "            if same_node_values:\n",
    "                min_distance = min(abs(value - v) for v in same_node_values)\n",
    "                value_novelty = np.tanh(min_distance)\n",
    "            else:\n",
    "                value_novelty = 1.0\n",
    "            \n",
    "            # Combined novelty score\n",
    "            bonus = 0.7 * node_novelty + 0.3 * value_novelty\n",
    "            bonuses.append(bonus)\n",
    "        \n",
    "        return np.array(bonuses)\n",
    "    \n",
    "    def _evaluate_current_performance(self):\n",
    "        # Build learned adjacency from all locals\n",
    "        learned_adj = torch.zeros_like(self.true_adj)\n",
    "        for lp in self.local_posts.values():\n",
    "            mask, _ = lp.most_probable_set()\n",
    "            for k, is_parent in enumerate(mask):\n",
    "                if is_parent:\n",
    "                    src = lp.parent_idx[k]\n",
    "                    learned_adj[src, lp.target_idx] = 1\n",
    "\n",
    "        # SHD vs true full adjacency\n",
    "        shd = torch.sum(torch.abs(learned_adj - self.true_adj)).item()\n",
    "\n",
    "        # Smooth edge-prob error averaged across all local posteriors\n",
    "        smooth_errors = []\n",
    "        for lp in self.local_posts.values():\n",
    "            probs = lp.edge_posterior()\n",
    "            true_vec = self.true_adj[lp.parent_idx, lp.target_idx].to(probs.dtype)\n",
    "            smooth_errors.append(torch.mean(torch.abs(probs - true_vec)).item())\n",
    "        edge_prob_error = float(np.mean(smooth_errors)) if smooth_errors else 0.0\n",
    "\n",
    "        util_error = self._evaluate_utility_accuracy()\n",
    "        return shd, util_error, edge_prob_error\n",
    "    \n",
    "    def _evaluate_utility_accuracy(self, n_test=10):\n",
    "        \"\"\"Test preference prediction accuracy\"\"\"\n",
    "        if not self.flow_stable or len(self.pref_dataset) < 10:\n",
    "            return 1.0\n",
    "        \n",
    "        correct = 0\n",
    "        total = 0\n",
    "        \n",
    "        with torch.no_grad():\n",
    "            for _ in range(n_test):\n",
    "                # Generate two random interventions\n",
    "                interventions = []\n",
    "                outcomes = []\n",
    "                features = []\n",
    "                \n",
    "                for _ in range(2):\n",
    "                    node = np.random.randint(0, self.dataset.n_nodes)\n",
    "                    value = np.random.uniform(-2, 2)\n",
    "                    outcome = self.dataset._compute_intervention_outcome(node, value)\n",
    "                    \n",
    "                    interventions.append((node, value))\n",
    "                    outcomes.append(outcome)\n",
    "                    features.append(intervention_to_utility_features(outcome))\n",
    "                \n",
    "                # True preference\n",
    "                true_utils = [self.dataset._true_utility(out, inter[0]) \n",
    "                             for out, inter in zip(outcomes, interventions)]\n",
    "                true_pref = true_utils[0] > true_utils[1]\n",
    "                \n",
    "                # Learned preference\n",
    "                try:\n",
    "                    feat_tensor = torch.stack(features).to(self.device)\n",
    "                    log_utils, _ = self.pref_flow.f(feat_tensor)\n",
    "                    \n",
    "                    if not torch.any(torch.isnan(log_utils)):\n",
    "                        learned_pref = log_utils[0] > log_utils[1]\n",
    "                        if true_pref == learned_pref:\n",
    "                            correct += 1\n",
    "                        total += 1\n",
    "                except:\n",
    "                    pass\n",
    "        \n",
    "        return 1.0 - (correct / total if total > 0 else 0)\n",
    "    \n",
    "    def update_causal_posterior_from_outcome(self, node_idx, outcome):\n",
    "        \"\"\"Add a single data point from executed intervention for future posterior update\"\"\"\n",
    "        self.causal_buffer.append((outcome, node_idx))\n",
    "\n",
    "    def run_iteration(self, all_queries, current_iteration):\n",
    "        \"\"\"\n",
    "        Run one PCBO iteration:\n",
    "        - Trains preference flow if enough preferences\n",
    "        - Updates causal posterior (periodically)\n",
    "        - Selects next intervention\n",
    "        - Executes only the chosen intervention\n",
    "        - Creates a preference query using a random opponent\n",
    "        - Adds the executed data point to causal buffer\n",
    "        - Updates causal posterior in batch\n",
    "        \"\"\"\n",
    "        # Step 1: Update utility function from preferences\n",
    "        print(\"  Updating utility function...\")\n",
    "        if len(self.pref_dataset) >= 10:\n",
    "            self.train_utility_on_preferences()\n",
    "\n",
    "        # Step 2: Causal update (from buffer)\n",
    "        print(\"  Updating causal posterior...\")\n",
    "        for outcome, do_idx in self.causal_buffer:\n",
    "            for lp in self.local_posts.values():\n",
    "                lp.add_datapoint_full(outcome, do_idx)  # let the local decide\n",
    "                if lp.num_datapoints() >= 2:\n",
    "                    lp.update_posterior()\n",
    "        self.causal_buffer = []  # Clear buffer after processing\n",
    "\n",
    "        # Step 3: Select next intervention\n",
    "        print(\"  Selecting next intervention...\")\n",
    "        intervention = self.select_next_intervention(current_iteration)\n",
    "        self.selected_interventions.append(intervention)\n",
    "\n",
    "        # Step 4: Execute intervention (observed!)\n",
    "        node_idx, value = intervention\n",
    "        outcome = self.dataset._compute_intervention_outcome(node_idx, value)\n",
    "\n",
    "        # Step 5: Simulate a random opponent intervention\n",
    "        alt_node = np.random.randint(0, self.dataset.n_nodes)\n",
    "        alt_value = np.random.uniform(-2, 2)\n",
    "        alt_outcome = self.dataset._compute_intervention_outcome(alt_node, alt_value)\n",
    "        # Add opponent intervention to dataset\n",
    "        for lp in self.local_posts.values():\n",
    "            lp.add_datapoint_full(alt_outcome, alt_node)\n",
    "            if lp.num_datapoints() >= 2:\n",
    "                lp.update_posterior()\n",
    "\n",
    "        # Step 6: Simulate noisy preference (no leakage)\n",
    "        utility_main = self.dataset._true_utility(outcome, node_idx)\n",
    "        utility_alt = self.dataset._true_utility(alt_outcome, alt_node)\n",
    "        winner_idx = 0 if utility_main > utility_alt else 1\n",
    "\n",
    "        new_query = {\n",
    "            'interventions': [(node_idx, value), (alt_node, alt_value)],\n",
    "            'outcomes': torch.stack([outcome, alt_outcome]),\n",
    "            'winner_idx': winner_idx,\n",
    "            'utilities': torch.tensor([utility_main, utility_alt])\n",
    "        }\n",
    "\n",
    "        # Step 7: Add to preference dataset (for PrefFlow)\n",
    "        self.pref_dataset.add_from_query(new_query)\n",
    "\n",
    "        # Step 8: Add to causal buffer via helper method\n",
    "        self.update_causal_posterior_from_outcome(node_idx, outcome)\n",
    "\n",
    "        # Step 9: Evaluate causal performance\n",
    "        _, _, edge_prob_error = self._evaluate_current_performance()\n",
    "        if edge_prob_error < 0.1 and current_iteration > 20:\n",
    "            print(f\"  Causal structure converged! Focusing on utility learning.\")\n",
    "            self._force_utility_focus = True\n",
    "\n",
    "        return new_query"
   ]
  },
  {
   "cell_type": "markdown",
   "id": "7946d681",
   "metadata": {},
   "source": [
    "## Run PCBO"
   ]
  },
  {
   "cell_type": "code",
   "execution_count": 19,
   "id": "b4b14748",
   "metadata": {},
   "outputs": [
    {
     "name": "stdout",
     "output_type": "stream",
     "text": [
      "Adding initial diverse interventions...\n",
      "Starting PCBO iterations...\n"
     ]
    },
    {
     "name": "stderr",
     "output_type": "stream",
     "text": [
      "  0%|          | 0/50 [00:00<?, ?it/s]"
     ]
    },
    {
     "name": "stdout",
     "output_type": "stream",
     "text": [
      "\n",
      "Iteration 1/50\n",
      "  Updating utility function...\n",
      "    Epoch 0, Loss: 54.7912\n",
      "    Epoch 20, Loss: 53.8462\n",
      "    Epoch 40, Loss: 52.9118\n",
      "  Updating causal posterior...\n",
      "  Selecting next intervention...\n"
     ]
    },
    {
     "name": "stderr",
     "output_type": "stream",
     "text": [
      "  2%|▏         | 1/50 [00:00<00:38,  1.28it/s]"
     ]
    },
    {
     "name": "stdout",
     "output_type": "stream",
     "text": [
      "    Selected: Node 1, Value -1.376\n",
      "    Scores - PIG: 0.693, EEIG: 0.033\n",
      "    Alpha (utility weight): 0.050\n",
      "\n",
      "Iteration 2/50\n",
      "  Updating utility function...\n",
      "    Epoch 0, Loss: 54.9073\n",
      "    Epoch 20, Loss: 53.9195\n",
      "    Epoch 40, Loss: 52.9380\n",
      "  Updating causal posterior...\n",
      "  Selecting next intervention...\n"
     ]
    },
    {
     "name": "stderr",
     "output_type": "stream",
     "text": [
      "  4%|▍         | 2/50 [00:01<00:35,  1.34it/s]"
     ]
    },
    {
     "name": "stdout",
     "output_type": "stream",
     "text": [
      "    Selected: Node 0, Value 1.046\n",
      "    Scores - PIG: 0.693, EEIG: 0.038\n",
      "    Alpha (utility weight): 0.053\n",
      "\n",
      "Iteration 3/50\n",
      "  Updating utility function...\n",
      "    Epoch 0, Loss: 55.0311\n",
      "    Epoch 20, Loss: 53.9852\n",
      "    Epoch 40, Loss: 52.9437\n",
      "  Updating causal posterior...\n",
      "  Selecting next intervention...\n"
     ]
    },
    {
     "name": "stderr",
     "output_type": "stream",
     "text": [
      "  6%|▌         | 3/50 [00:02<00:34,  1.35it/s]"
     ]
    },
    {
     "name": "stdout",
     "output_type": "stream",
     "text": [
      "    Selected: Node 1, Value 1.344\n",
      "    Scores - PIG: 0.686, EEIG: 0.059\n",
      "    Alpha (utility weight): 0.057\n",
      "\n",
      "Iteration 4/50\n",
      "  Updating utility function...\n",
      "    Epoch 0, Loss: 54.9101\n",
      "    Epoch 20, Loss: 53.8270\n",
      "    Epoch 40, Loss: 52.7421\n",
      "  Updating causal posterior...\n",
      "  Selecting next intervention...\n"
     ]
    },
    {
     "name": "stderr",
     "output_type": "stream",
     "text": [
      "  8%|▊         | 4/50 [00:02<00:33,  1.36it/s]"
     ]
    },
    {
     "name": "stdout",
     "output_type": "stream",
     "text": [
      "    Selected: Node 1, Value 0.337\n",
      "    Scores - PIG: 0.692, EEIG: 0.023\n",
      "    Alpha (utility weight): 0.064\n",
      "\n",
      "Iteration 5/50\n",
      "  Updating utility function...\n",
      "    Epoch 0, Loss: 54.9785\n",
      "    Epoch 20, Loss: 53.8154\n",
      "    Epoch 40, Loss: 52.6673\n",
      "  Updating causal posterior...\n",
      "  Selecting next intervention...\n"
     ]
    },
    {
     "name": "stderr",
     "output_type": "stream",
     "text": [
      " 10%|█         | 5/50 [00:03<00:33,  1.36it/s]"
     ]
    },
    {
     "name": "stdout",
     "output_type": "stream",
     "text": [
      "    Selected: Node 0, Value -1.154\n",
      "    Scores - PIG: 0.674, EEIG: 0.031\n",
      "    Alpha (utility weight): 0.071\n",
      "\n",
      "Iteration 6/50\n",
      "  Updating utility function...\n",
      "    Epoch 0, Loss: 54.2665\n",
      "    Epoch 20, Loss: 53.0872\n",
      "    Epoch 40, Loss: 51.9111\n",
      "  Updating causal posterior...\n",
      "  Selecting next intervention...\n"
     ]
    },
    {
     "name": "stderr",
     "output_type": "stream",
     "text": [
      " 12%|█▏        | 6/50 [00:04<00:33,  1.32it/s]"
     ]
    },
    {
     "name": "stdout",
     "output_type": "stream",
     "text": [
      "    Selected: Node 3, Value 1.189\n",
      "    Scores - PIG: 0.690, EEIG: 0.011\n",
      "    Alpha (utility weight): 0.079\n",
      "\n",
      "Iteration 7/50\n",
      "  Updating utility function...\n",
      "    Epoch 0, Loss: 53.2478\n",
      "    Epoch 20, Loss: 52.0142\n",
      "    Epoch 40, Loss: 50.7775\n",
      "  Updating causal posterior...\n",
      "  Selecting next intervention...\n"
     ]
    },
    {
     "name": "stderr",
     "output_type": "stream",
     "text": [
      " 14%|█▍        | 7/50 [00:05<00:32,  1.34it/s]"
     ]
    },
    {
     "name": "stdout",
     "output_type": "stream",
     "text": [
      "    Selected: Node 4, Value -0.390\n",
      "    Scores - PIG: 0.674, EEIG: 0.014\n",
      "    Alpha (utility weight): 0.089\n",
      "\n",
      "Iteration 8/50\n",
      "  Updating utility function...\n",
      "    Epoch 0, Loss: 52.1649\n",
      "    Epoch 20, Loss: 50.8785\n",
      "    Epoch 40, Loss: 49.5895\n",
      "  Updating causal posterior...\n",
      "  Selecting next intervention...\n"
     ]
    },
    {
     "name": "stderr",
     "output_type": "stream",
     "text": [
      " 16%|█▌        | 8/50 [00:06<00:32,  1.31it/s]"
     ]
    },
    {
     "name": "stdout",
     "output_type": "stream",
     "text": [
      "    Selected: Node 3, Value -1.987\n",
      "    Scores - PIG: 0.644, EEIG: 0.015\n",
      "    Alpha (utility weight): 0.099\n",
      "\n",
      "Iteration 9/50\n",
      "  Updating utility function...\n",
      "    Epoch 0, Loss: 50.8579\n",
      "    Epoch 20, Loss: 49.5203\n",
      "    Epoch 40, Loss: 48.1801\n",
      "  Updating causal posterior...\n",
      "  Selecting next intervention...\n"
     ]
    },
    {
     "name": "stderr",
     "output_type": "stream",
     "text": [
      " 18%|█▊        | 9/50 [00:06<00:31,  1.29it/s]"
     ]
    },
    {
     "name": "stdout",
     "output_type": "stream",
     "text": [
      "    Selected: Node 4, Value 1.853\n",
      "    Scores - PIG: 0.692, EEIG: 0.036\n",
      "    Alpha (utility weight): 0.109\n",
      "\n",
      "Iteration 10/50\n",
      "  Updating utility function...\n",
      "    Epoch 0, Loss: 49.4751\n",
      "    Epoch 20, Loss: 48.0678\n",
      "    Epoch 40, Loss: 46.6881\n",
      "  Updating causal posterior...\n",
      "  Selecting next intervention...\n"
     ]
    },
    {
     "name": "stderr",
     "output_type": "stream",
     "text": [
      " 20%|██        | 10/50 [00:07<00:30,  1.31it/s]"
     ]
    },
    {
     "name": "stdout",
     "output_type": "stream",
     "text": [
      "    Selected: Node 5, Value 0.059\n",
      "    Scores - PIG: 0.660, EEIG: 0.014\n",
      "    Alpha (utility weight): 0.121\n",
      "  SHD: 13.00, Edge prob error (avg over locals): 0.523\n",
      "  Utility error: 0.300\n",
      "  X1: P(parents→X1) = {'X2': 0.383, 'X3': 0.959, 'X4': 0.99, 'X5': 0.677}\n",
      "  X1: MAP parents = ((0, 1, 1, 1), 0.402877477757738)\n",
      "  X2: P(parents→X2) = {'X1': 0.489, 'X3': 0.689, 'X4': 0.363, 'X5': 0.628}\n",
      "  X2: MAP parents = ((1, 1, 0, 1), 0.14096133134328623)\n",
      "  X3: P(parents→X3) = {'X1': 0.994, 'X2': 0.494, 'X4': 1.0, 'X5': 0.498}\n",
      "  X3: MAP parents = ((1, 0, 1, 1), 0.2700521449409605)\n",
      "  X4: P(parents→X4) = {'X1': 1.0, 'X2': 0.387, 'X3': 1.0, 'X5': 0.403}\n",
      "  X4: MAP parents = ((1, 0, 1, 0), 0.3596091702375515)\n",
      "  X5: P(parents→X5) = {'X1': 0.621, 'X2': 0.558, 'X3': 0.668, 'X4': 0.349}\n",
      "  X5: MAP parents = ((1, 1, 1, 0), 0.15701380145036672)\n",
      "  Y: P(parents→Y) = {'X1': 0.973, 'X2': 0.724, 'X3': 0.68, 'X4': 0.663, 'X5': 0.788}\n",
      "  Y: MAP parents = ((1, 1, 1, 1, 1), 0.24283504655685884)\n",
      "  Noise parameter (s): 1.199\n",
      "\n",
      "Iteration 11/50\n",
      "  Updating utility function...\n",
      "    Epoch 0, Loss: 47.9644\n",
      "    Epoch 20, Loss: 46.5465\n",
      "    Epoch 40, Loss: 45.1347\n",
      "  Updating causal posterior...\n",
      "  Selecting next intervention...\n"
     ]
    },
    {
     "name": "stderr",
     "output_type": "stream",
     "text": [
      " 22%|██▏       | 11/50 [00:08<00:28,  1.36it/s]"
     ]
    },
    {
     "name": "stdout",
     "output_type": "stream",
     "text": [
      "    Selected: Node 4, Value -0.594\n",
      "    Scores - PIG: 0.684, EEIG: 0.015\n",
      "    Alpha (utility weight): 0.133\n",
      "\n",
      "Iteration 12/50\n",
      "  Updating utility function...\n",
      "    Epoch 0, Loss: 46.0415\n",
      "    Epoch 20, Loss: 44.5777\n",
      "    Epoch 40, Loss: 43.1386\n",
      "  Updating causal posterior...\n",
      "  Selecting next intervention...\n"
     ]
    },
    {
     "name": "stderr",
     "output_type": "stream",
     "text": [
      " 24%|██▍       | 12/50 [00:08<00:27,  1.37it/s]"
     ]
    },
    {
     "name": "stdout",
     "output_type": "stream",
     "text": [
      "    Selected: Node 4, Value -1.855\n",
      "    Scores - PIG: 0.667, EEIG: 0.025\n",
      "    Alpha (utility weight): 0.146\n",
      "\n",
      "Iteration 13/50\n",
      "  Updating utility function...\n",
      "    Epoch 0, Loss: 43.4323\n",
      "    Epoch 20, Loss: 41.9504\n",
      "    Epoch 40, Loss: 40.4753\n",
      "  Updating causal posterior...\n",
      "  Selecting next intervention...\n"
     ]
    },
    {
     "name": "stderr",
     "output_type": "stream",
     "text": [
      " 26%|██▌       | 13/50 [00:09<00:26,  1.41it/s]"
     ]
    },
    {
     "name": "stdout",
     "output_type": "stream",
     "text": [
      "    Selected: Node 3, Value 1.363\n",
      "    Scores - PIG: 0.653, EEIG: 0.033\n",
      "    Alpha (utility weight): 0.159\n",
      "\n",
      "Iteration 14/50\n",
      "  Updating utility function...\n",
      "    Epoch 0, Loss: 40.7620\n",
      "    Epoch 20, Loss: 39.2388\n",
      "    Epoch 40, Loss: 37.7235\n",
      "  Updating causal posterior...\n",
      "  Selecting next intervention...\n"
     ]
    },
    {
     "name": "stderr",
     "output_type": "stream",
     "text": [
      " 28%|██▊       | 14/50 [00:10<00:24,  1.45it/s]"
     ]
    },
    {
     "name": "stdout",
     "output_type": "stream",
     "text": [
      "    Selected: Node 4, Value -1.741\n",
      "    Scores - PIG: 0.643, EEIG: 0.013\n",
      "    Alpha (utility weight): 0.173\n",
      "\n",
      "Iteration 15/50\n",
      "  Updating utility function...\n",
      "    Epoch 0, Loss: 37.6964\n",
      "    Epoch 20, Loss: 36.1382\n",
      "    Epoch 40, Loss: 34.5893\n",
      "  Updating causal posterior...\n",
      "  Selecting next intervention...\n"
     ]
    },
    {
     "name": "stderr",
     "output_type": "stream",
     "text": [
      " 30%|███       | 15/50 [00:10<00:24,  1.43it/s]"
     ]
    },
    {
     "name": "stdout",
     "output_type": "stream",
     "text": [
      "    Selected: Node 3, Value -0.838\n",
      "    Scores - PIG: 0.635, EEIG: 0.020\n",
      "    Alpha (utility weight): 0.187\n",
      "\n",
      "Iteration 16/50\n",
      "  Updating utility function...\n",
      "    Epoch 0, Loss: 34.9017\n",
      "    Epoch 20, Loss: 33.3209\n",
      "    Epoch 40, Loss: 31.7526\n",
      "  Updating causal posterior...\n",
      "  Selecting next intervention...\n"
     ]
    },
    {
     "name": "stderr",
     "output_type": "stream",
     "text": [
      " 32%|███▏      | 16/50 [00:11<00:22,  1.48it/s]"
     ]
    },
    {
     "name": "stdout",
     "output_type": "stream",
     "text": [
      "    Selected: Node 2, Value -1.867\n",
      "    Scores - PIG: 0.672, EEIG: 0.013\n",
      "    Alpha (utility weight): 0.202\n",
      "\n",
      "Iteration 17/50\n",
      "  Updating utility function...\n",
      "    Epoch 0, Loss: 31.7308\n",
      "    Epoch 20, Loss: 30.1294\n",
      "    Epoch 40, Loss: 28.5456\n",
      "  Updating causal posterior...\n",
      "  Selecting next intervention...\n"
     ]
    },
    {
     "name": "stderr",
     "output_type": "stream",
     "text": [
      " 34%|███▍      | 17/50 [00:12<00:21,  1.52it/s]"
     ]
    },
    {
     "name": "stdout",
     "output_type": "stream",
     "text": [
      "    Selected: Node 5, Value 0.198\n",
      "    Scores - PIG: 0.688, EEIG: 0.027\n",
      "    Alpha (utility weight): 0.218\n",
      "\n",
      "Iteration 18/50\n",
      "  Updating utility function...\n",
      "    Epoch 0, Loss: 27.9229\n",
      "    Epoch 20, Loss: 26.3122\n",
      "    Epoch 40, Loss: 24.7209\n",
      "  Updating causal posterior...\n",
      "  Selecting next intervention...\n"
     ]
    },
    {
     "name": "stderr",
     "output_type": "stream",
     "text": [
      " 36%|███▌      | 18/50 [00:12<00:21,  1.50it/s]"
     ]
    },
    {
     "name": "stdout",
     "output_type": "stream",
     "text": [
      "    Selected: Node 3, Value -0.697\n",
      "    Scores - PIG: 0.656, EEIG: 0.035\n",
      "    Alpha (utility weight): 0.234\n",
      "\n",
      "Iteration 19/50\n",
      "  Updating utility function...\n",
      "    Epoch 0, Loss: 24.1622\n",
      "    Epoch 20, Loss: 22.5565\n",
      "    Epoch 40, Loss: 20.9775\n",
      "  Updating causal posterior...\n",
      "  Selecting next intervention...\n"
     ]
    },
    {
     "name": "stderr",
     "output_type": "stream",
     "text": [
      " 38%|███▊      | 19/50 [00:13<00:20,  1.52it/s]"
     ]
    },
    {
     "name": "stdout",
     "output_type": "stream",
     "text": [
      "    Selected: Node 3, Value -0.863\n",
      "    Scores - PIG: 0.693, EEIG: 0.008\n",
      "    Alpha (utility weight): 0.250\n",
      "\n",
      "Iteration 20/50\n",
      "  Updating utility function...\n",
      "    Epoch 0, Loss: 20.2155\n",
      "    Epoch 20, Loss: 18.6186\n",
      "    Epoch 40, Loss: 17.0526\n",
      "  Updating causal posterior...\n",
      "  Selecting next intervention...\n"
     ]
    },
    {
     "name": "stderr",
     "output_type": "stream",
     "text": [
      " 40%|████      | 20/50 [00:14<00:19,  1.54it/s]"
     ]
    },
    {
     "name": "stdout",
     "output_type": "stream",
     "text": [
      "    Selected: Node 0, Value 1.517\n",
      "    Scores - PIG: 0.356, EEIG: 0.043\n",
      "    Alpha (utility weight): 0.267\n",
      "  SHD: 11.00, Edge prob error (avg over locals): 0.540\n",
      "  Utility error: 0.000\n",
      "  X1: P(parents→X1) = {'X2': 0.444, 'X3': 0.998, 'X4': 0.999, 'X5': 0.496}\n",
      "  X1: MAP parents = ((0, 1, 1, 0), 0.2782272215477808)\n",
      "  X2: P(parents→X2) = {'X1': 0.541, 'X3': 0.711, 'X4': 0.504, 'X5': 0.679}\n",
      "  X2: MAP parents = ((0, 1, 1, 1), 0.16215274305035252)\n",
      "  X3: P(parents→X3) = {'X1': 0.999, 'X2': 0.598, 'X4': 1.0, 'X5': 0.496}\n",
      "  X3: MAP parents = ((1, 1, 1, 0), 0.3151305276506988)\n",
      "  X4: P(parents→X4) = {'X1': 1.0, 'X2': 0.438, 'X3': 1.0, 'X5': 0.455}\n",
      "  X4: MAP parents = ((1, 0, 1, 0), 0.29738254164571776)\n",
      "  X5: P(parents→X5) = {'X1': 0.491, 'X2': 0.481, 'X3': 0.766, 'X4': 0.509}\n",
      "  X5: MAP parents = ((1, 0, 1, 0), 0.13970305319154586)\n",
      "  Y: P(parents→Y) = {'X1': 0.989, 'X2': 0.761, 'X3': 0.781, 'X4': 0.701, 'X5': 0.918}\n",
      "  Y: MAP parents = ((1, 1, 1, 1, 1), 0.37302786323079606)\n",
      "  Noise parameter (s): 1.288\n",
      "\n",
      "Iteration 21/50\n",
      "  Updating utility function...\n",
      "    Epoch 0, Loss: 16.4885\n",
      "    Epoch 20, Loss: 14.9211\n",
      "    Epoch 40, Loss: 13.3941\n",
      "  Updating causal posterior...\n",
      "  Selecting next intervention...\n"
     ]
    },
    {
     "name": "stderr",
     "output_type": "stream",
     "text": [
      " 42%|████▏     | 21/50 [00:14<00:19,  1.52it/s]"
     ]
    },
    {
     "name": "stdout",
     "output_type": "stream",
     "text": [
      "    Selected: Node 3, Value 0.067\n",
      "    Scores - PIG: 0.666, EEIG: 0.024\n",
      "    Alpha (utility weight): 0.285\n",
      "\n",
      "Iteration 22/50\n",
      "  Updating utility function...\n",
      "    Epoch 0, Loss: 13.0933\n",
      "    Epoch 20, Loss: 11.6451\n",
      "    Epoch 40, Loss: 10.2423\n",
      "  Updating causal posterior...\n",
      "  Selecting next intervention...\n"
     ]
    },
    {
     "name": "stderr",
     "output_type": "stream",
     "text": [
      " 44%|████▍     | 22/50 [00:15<00:18,  1.54it/s]"
     ]
    },
    {
     "name": "stdout",
     "output_type": "stream",
     "text": [
      "    Selected: Node 3, Value -0.849\n",
      "    Scores - PIG: 0.413, EEIG: 0.008\n",
      "    Alpha (utility weight): 0.303\n",
      "\n",
      "Iteration 23/50\n",
      "  Updating utility function...\n",
      "    Epoch 0, Loss: 9.7439\n",
      "    Epoch 20, Loss: 8.3761\n",
      "    Epoch 40, Loss: 7.0649\n",
      "  Updating causal posterior...\n",
      "  Selecting next intervention...\n"
     ]
    },
    {
     "name": "stderr",
     "output_type": "stream",
     "text": [
      " 46%|████▌     | 23/50 [00:16<00:17,  1.51it/s]"
     ]
    },
    {
     "name": "stdout",
     "output_type": "stream",
     "text": [
      "    Selected: Node 3, Value 0.086\n",
      "    Scores - PIG: 0.675, EEIG: 0.027\n",
      "    Alpha (utility weight): 0.321\n",
      "\n",
      "Iteration 24/50\n",
      "  Updating utility function...\n",
      "    Epoch 0, Loss: 5.9281\n",
      "    Epoch 20, Loss: 4.6670\n",
      "    Epoch 40, Loss: 3.4649\n",
      "  Updating causal posterior...\n",
      "  Selecting next intervention...\n"
     ]
    },
    {
     "name": "stderr",
     "output_type": "stream",
     "text": [
      " 48%|████▊     | 24/50 [00:16<00:17,  1.49it/s]"
     ]
    },
    {
     "name": "stdout",
     "output_type": "stream",
     "text": [
      "    Selected: Node 3, Value 1.286\n",
      "    Scores - PIG: 0.082, EEIG: 0.053\n",
      "    Alpha (utility weight): 0.339\n",
      "\n",
      "Iteration 25/50\n",
      "  Updating utility function...\n",
      "    Epoch 0, Loss: 1.9418\n",
      "    Epoch 20, Loss: 0.6664\n",
      "    Epoch 40, Loss: -0.4965\n",
      "  Updating causal posterior...\n",
      "  Selecting next intervention...\n"
     ]
    },
    {
     "name": "stderr",
     "output_type": "stream",
     "text": [
      " 50%|█████     | 25/50 [00:17<00:17,  1.46it/s]"
     ]
    },
    {
     "name": "stdout",
     "output_type": "stream",
     "text": [
      "    Selected: Node 3, Value -1.945\n",
      "    Scores - PIG: 0.500, EEIG: 0.012\n",
      "    Alpha (utility weight): 0.359\n",
      "\n",
      "Iteration 26/50\n",
      "  Updating utility function...\n",
      "    Epoch 0, Loss: -0.4495\n",
      "    Epoch 20, Loss: -1.6275\n",
      "    Epoch 40, Loss: -2.8088\n",
      "  Updating causal posterior...\n",
      "  Selecting next intervention...\n"
     ]
    },
    {
     "name": "stderr",
     "output_type": "stream",
     "text": [
      " 52%|█████▏    | 26/50 [00:18<00:16,  1.42it/s]"
     ]
    },
    {
     "name": "stdout",
     "output_type": "stream",
     "text": [
      "    Selected: Node 1, Value 1.236\n",
      "    Scores - PIG: 0.693, EEIG: 0.016\n",
      "    Alpha (utility weight): 0.378\n",
      "\n",
      "Iteration 27/50\n",
      "  Updating utility function...\n",
      "    Epoch 0, Loss: -3.6384\n",
      "    Epoch 20, Loss: -4.8267\n",
      "    Epoch 40, Loss: -6.0201\n",
      "  Updating causal posterior...\n",
      "  Selecting next intervention...\n"
     ]
    },
    {
     "name": "stderr",
     "output_type": "stream",
     "text": [
      " 54%|█████▍    | 27/50 [00:19<00:15,  1.44it/s]"
     ]
    },
    {
     "name": "stdout",
     "output_type": "stream",
     "text": [
      "    Selected: Node 3, Value 0.263\n",
      "    Scores - PIG: 0.640, EEIG: 0.017\n",
      "    Alpha (utility weight): 0.398\n",
      "\n",
      "Iteration 28/50\n",
      "  Updating utility function...\n",
      "    Epoch 0, Loss: -6.1553\n",
      "    Epoch 20, Loss: -7.3595\n",
      "    Epoch 40, Loss: -8.5641\n",
      "  Updating causal posterior...\n",
      "  Selecting next intervention...\n"
     ]
    },
    {
     "name": "stderr",
     "output_type": "stream",
     "text": [
      " 56%|█████▌    | 28/50 [00:19<00:15,  1.43it/s]"
     ]
    },
    {
     "name": "stdout",
     "output_type": "stream",
     "text": [
      "    Selected: Node 1, Value -1.094\n",
      "    Scores - PIG: 0.567, EEIG: 0.028\n",
      "    Alpha (utility weight): 0.418\n",
      "\n",
      "Iteration 29/50\n",
      "  Updating utility function...\n",
      "    Epoch 0, Loss: -8.9863\n",
      "    Epoch 20, Loss: -10.2013\n",
      "    Epoch 40, Loss: -11.4223\n",
      "  Updating causal posterior...\n",
      "  Selecting next intervention...\n"
     ]
    },
    {
     "name": "stderr",
     "output_type": "stream",
     "text": [
      " 58%|█████▊    | 29/50 [00:20<00:14,  1.47it/s]"
     ]
    },
    {
     "name": "stdout",
     "output_type": "stream",
     "text": [
      "    Selected: Node 1, Value -1.348\n",
      "    Scores - PIG: 0.514, EEIG: 0.021\n",
      "    Alpha (utility weight): 0.439\n",
      "\n",
      "Iteration 30/50\n",
      "  Updating utility function...\n",
      "    Epoch 0, Loss: -9.7350\n",
      "    Epoch 20, Loss: -11.0292\n",
      "    Epoch 40, Loss: -12.2672\n",
      "  Updating causal posterior...\n",
      "  Selecting next intervention...\n"
     ]
    },
    {
     "name": "stderr",
     "output_type": "stream",
     "text": [
      " 60%|██████    | 30/50 [00:21<00:13,  1.46it/s]"
     ]
    },
    {
     "name": "stdout",
     "output_type": "stream",
     "text": [
      "    Selected: Node 0, Value -1.978\n",
      "    Scores - PIG: 0.645, EEIG: 0.015\n",
      "    Alpha (utility weight): 0.460\n",
      "  SHD: 13.00, Edge prob error (avg over locals): 0.526\n",
      "  Utility error: 0.100\n",
      "  X1: P(parents→X1) = {'X2': 0.535, 'X3': 0.87, 'X4': 0.995, 'X5': 0.489}\n",
      "  X1: MAP parents = ((1, 1, 1, 0), 0.23409426856391224)\n",
      "  X2: P(parents→X2) = {'X1': 0.598, 'X3': 0.696, 'X4': 0.451, 'X5': 0.789}\n",
      "  X2: MAP parents = ((1, 1, 0, 1), 0.1831717884361455)\n",
      "  X3: P(parents→X3) = {'X1': 0.936, 'X2': 0.528, 'X4': 1.0, 'X5': 0.48}\n",
      "  X3: MAP parents = ((1, 1, 1, 0), 0.25897825618618636)\n",
      "  X4: P(parents→X4) = {'X1': 1.0, 'X2': 0.487, 'X3': 1.0, 'X5': 0.475}\n",
      "  X4: MAP parents = ((1, 0, 1, 0), 0.26307644560128757)\n",
      "  X5: P(parents→X5) = {'X1': 0.488, 'X2': 0.573, 'X3': 0.572, 'X4': 0.457}\n",
      "  X5: MAP parents = ((1, 1, 1, 0), 0.09760933114867415)\n",
      "  Y: P(parents→Y) = {'X1': 1.0, 'X2': 0.771, 'X3': 0.904, 'X4': 0.791, 'X5': 0.975}\n",
      "  Y: MAP parents = ((1, 1, 1, 1, 1), 0.5414639183887622)\n",
      "  Noise parameter (s): 1.226\n",
      "\n",
      "Iteration 31/50\n",
      "  Updating utility function...\n",
      "    Epoch 0, Loss: -13.0646\n",
      "    Epoch 20, Loss: -14.3178\n",
      "    Epoch 40, Loss: -15.5726\n",
      "  Updating causal posterior...\n",
      "  Selecting next intervention...\n"
     ]
    },
    {
     "name": "stderr",
     "output_type": "stream",
     "text": [
      " 62%|██████▏   | 31/50 [00:21<00:12,  1.50it/s]"
     ]
    },
    {
     "name": "stdout",
     "output_type": "stream",
     "text": [
      "    Selected: Node 1, Value -1.808\n",
      "    Scores - PIG: 0.693, EEIG: 0.014\n",
      "    Alpha (utility weight): 0.481\n",
      "\n",
      "Iteration 32/50\n",
      "  Updating utility function...\n",
      "    Epoch 0, Loss: -15.7781\n",
      "    Epoch 20, Loss: -17.2477\n",
      "    Epoch 40, Loss: -18.5214\n",
      "  Updating causal posterior...\n",
      "  Selecting next intervention...\n"
     ]
    },
    {
     "name": "stderr",
     "output_type": "stream",
     "text": [
      " 64%|██████▍   | 32/50 [00:22<00:11,  1.51it/s]"
     ]
    },
    {
     "name": "stdout",
     "output_type": "stream",
     "text": [
      "    Selected: Node 3, Value -1.916\n",
      "    Scores - PIG: 0.681, EEIG: 0.009\n",
      "    Alpha (utility weight): 0.503\n",
      "\n",
      "Iteration 33/50\n",
      "  Updating utility function...\n",
      "    Epoch 0, Loss: -18.7077\n",
      "    Epoch 20, Loss: -20.0060\n",
      "    Epoch 40, Loss: -21.3037\n",
      "  Updating causal posterior...\n",
      "  Selecting next intervention...\n"
     ]
    },
    {
     "name": "stderr",
     "output_type": "stream",
     "text": [
      " 66%|██████▌   | 33/50 [00:22<00:11,  1.51it/s]"
     ]
    },
    {
     "name": "stdout",
     "output_type": "stream",
     "text": [
      "    Selected: Node 2, Value -1.904\n",
      "    Scores - PIG: 0.675, EEIG: 0.012\n",
      "    Alpha (utility weight): 0.525\n",
      "\n",
      "Iteration 34/50\n",
      "  Updating utility function...\n",
      "    Epoch 0, Loss: -21.7020\n",
      "    Epoch 20, Loss: -23.0040\n",
      "    Epoch 40, Loss: -24.3095\n",
      "  Updating causal posterior...\n",
      "  Selecting next intervention...\n"
     ]
    },
    {
     "name": "stderr",
     "output_type": "stream",
     "text": [
      " 68%|██████▊   | 34/50 [00:23<00:10,  1.51it/s]"
     ]
    },
    {
     "name": "stdout",
     "output_type": "stream",
     "text": [
      "    Selected: Node 3, Value -1.325\n",
      "    Scores - PIG: 0.683, EEIG: 0.017\n",
      "    Alpha (utility weight): 0.547\n",
      "\n",
      "Iteration 35/50\n",
      "  Updating utility function...\n",
      "    Epoch 0, Loss: -25.6715\n",
      "    Epoch 20, Loss: -26.9905\n",
      "    Epoch 40, Loss: -28.3117\n",
      "  Updating causal posterior...\n",
      "  Selecting next intervention...\n"
     ]
    },
    {
     "name": "stderr",
     "output_type": "stream",
     "text": [
      " 70%|███████   | 35/50 [00:24<00:09,  1.50it/s]"
     ]
    },
    {
     "name": "stdout",
     "output_type": "stream",
     "text": [
      "    Selected: Node 4, Value 0.148\n",
      "    Scores - PIG: 0.679, EEIG: 0.017\n",
      "    Alpha (utility weight): 0.570\n",
      "\n",
      "Iteration 36/50\n",
      "  Updating utility function...\n",
      "    Epoch 0, Loss: -28.7375\n",
      "    Epoch 20, Loss: -30.0712\n",
      "    Epoch 40, Loss: -31.4137\n",
      "  Updating causal posterior...\n",
      "  Selecting next intervention...\n"
     ]
    },
    {
     "name": "stderr",
     "output_type": "stream",
     "text": [
      " 72%|███████▏  | 36/50 [00:25<00:09,  1.47it/s]"
     ]
    },
    {
     "name": "stdout",
     "output_type": "stream",
     "text": [
      "    Selected: Node 2, Value -0.794\n",
      "    Scores - PIG: 0.660, EEIG: 0.014\n",
      "    Alpha (utility weight): 0.593\n",
      "\n",
      "Iteration 37/50\n",
      "  Updating utility function...\n",
      "    Epoch 0, Loss: -28.6953\n",
      "    Epoch 20, Loss: -30.1443\n",
      "    Epoch 40, Loss: -31.5341\n",
      "  Updating causal posterior...\n",
      "  Selecting next intervention...\n"
     ]
    },
    {
     "name": "stderr",
     "output_type": "stream",
     "text": [
      " 74%|███████▍  | 37/50 [00:25<00:08,  1.49it/s]"
     ]
    },
    {
     "name": "stdout",
     "output_type": "stream",
     "text": [
      "    Selected: Node 5, Value -0.655\n",
      "    Scores - PIG: 0.692, EEIG: 0.011\n",
      "    Alpha (utility weight): 0.617\n",
      "\n",
      "Iteration 38/50\n",
      "  Updating utility function...\n",
      "    Epoch 0, Loss: -32.7144\n",
      "    Epoch 20, Loss: -34.0982\n",
      "    Epoch 40, Loss: -35.4836\n",
      "  Updating causal posterior...\n",
      "  Selecting next intervention...\n"
     ]
    },
    {
     "name": "stderr",
     "output_type": "stream",
     "text": [
      " 76%|███████▌  | 38/50 [00:26<00:07,  1.51it/s]"
     ]
    },
    {
     "name": "stdout",
     "output_type": "stream",
     "text": [
      "    Selected: Node 2, Value 1.695\n",
      "    Scores - PIG: 0.687, EEIG: 0.009\n",
      "    Alpha (utility weight): 0.641\n",
      "\n",
      "Iteration 39/50\n",
      "  Updating utility function...\n",
      "    Epoch 0, Loss: -35.0749\n",
      "    Epoch 20, Loss: -36.4990\n",
      "    Epoch 40, Loss: -37.9240\n",
      "  Updating causal posterior...\n",
      "  Selecting next intervention...\n"
     ]
    },
    {
     "name": "stderr",
     "output_type": "stream",
     "text": [
      " 78%|███████▊  | 39/50 [00:27<00:07,  1.50it/s]"
     ]
    },
    {
     "name": "stdout",
     "output_type": "stream",
     "text": [
      "    Selected: Node 4, Value 0.283\n",
      "    Scores - PIG: 0.687, EEIG: 0.028\n",
      "    Alpha (utility weight): 0.665\n",
      "\n",
      "Iteration 40/50\n",
      "  Updating utility function...\n",
      "    Epoch 0, Loss: -39.2599\n",
      "    Epoch 20, Loss: -40.7014\n",
      "    Epoch 40, Loss: -42.1394\n",
      "  Updating causal posterior...\n",
      "  Selecting next intervention...\n"
     ]
    },
    {
     "name": "stderr",
     "output_type": "stream",
     "text": [
      " 80%|████████  | 40/50 [00:27<00:06,  1.52it/s]"
     ]
    },
    {
     "name": "stdout",
     "output_type": "stream",
     "text": [
      "    Selected: Node 0, Value 0.179\n",
      "    Scores - PIG: 0.691, EEIG: 0.028\n",
      "    Alpha (utility weight): 0.689\n",
      "  SHD: 15.00, Edge prob error (avg over locals): 0.547\n",
      "  Utility error: 0.000\n",
      "  X1: P(parents→X1) = {'X2': 0.534, 'X3': 0.975, 'X4': 1.0, 'X5': 0.526}\n",
      "  X1: MAP parents = ((1, 1, 1, 1), 0.27484315474083726)\n",
      "  X2: P(parents→X2) = {'X1': 0.507, 'X3': 0.774, 'X4': 0.49, 'X5': 0.696}\n",
      "  X2: MAP parents = ((0, 1, 1, 1), 0.14685311062197065)\n",
      "  X3: P(parents→X3) = {'X1': 0.968, 'X2': 0.685, 'X4': 1.0, 'X5': 0.493}\n",
      "  X3: MAP parents = ((1, 1, 1, 0), 0.3381374769502083)\n",
      "  X4: P(parents→X4) = {'X1': 1.0, 'X2': 0.592, 'X3': 1.0, 'X5': 0.497}\n",
      "  X4: MAP parents = ((1, 1, 1, 0), 0.30276884776631185)\n",
      "  X5: P(parents→X5) = {'X1': 0.575, 'X2': 0.548, 'X3': 0.527, 'X4': 0.553}\n",
      "  X5: MAP parents = ((1, 1, 1, 0), 0.09256004272248869)\n",
      "  Y: P(parents→Y) = {'X1': 1.0, 'X2': 0.813, 'X3': 0.94, 'X4': 0.729, 'X5': 0.976}\n",
      "  Y: MAP parents = ((1, 1, 1, 1, 1), 0.5420494776856134)\n",
      "  Noise parameter (s): 1.276\n",
      "\n",
      "Iteration 41/50\n",
      "  Updating utility function...\n",
      "    Epoch 0, Loss: -41.6644\n",
      "    Epoch 20, Loss: -43.1300\n",
      "    Epoch 40, Loss: -44.5803\n",
      "  Updating causal posterior...\n",
      "  Selecting next intervention...\n"
     ]
    },
    {
     "name": "stderr",
     "output_type": "stream",
     "text": [
      " 82%|████████▏ | 41/50 [00:28<00:05,  1.52it/s]"
     ]
    },
    {
     "name": "stdout",
     "output_type": "stream",
     "text": [
      "    Selected: Node 3, Value 0.998\n",
      "    Scores - PIG: 0.682, EEIG: 0.012\n",
      "    Alpha (utility weight): 0.714\n",
      "\n",
      "Iteration 42/50\n",
      "  Updating utility function...\n",
      "    Epoch 0, Loss: -42.3742\n",
      "    Epoch 20, Loss: -43.9417\n",
      "    Epoch 40, Loss: -45.4677\n",
      "  Updating causal posterior...\n",
      "  Selecting next intervention...\n"
     ]
    },
    {
     "name": "stderr",
     "output_type": "stream",
     "text": [
      " 84%|████████▍ | 42/50 [00:28<00:05,  1.51it/s]"
     ]
    },
    {
     "name": "stdout",
     "output_type": "stream",
     "text": [
      "    Selected: Node 3, Value -0.308\n",
      "    Scores - PIG: 0.665, EEIG: 0.016\n",
      "    Alpha (utility weight): 0.739\n",
      "\n",
      "Iteration 43/50\n",
      "  Updating utility function...\n",
      "    Epoch 0, Loss: -46.8301\n",
      "    Epoch 20, Loss: -48.3277\n",
      "    Epoch 40, Loss: -49.8346\n",
      "  Updating causal posterior...\n",
      "  Selecting next intervention...\n"
     ]
    },
    {
     "name": "stderr",
     "output_type": "stream",
     "text": [
      " 86%|████████▌ | 43/50 [00:29<00:04,  1.50it/s]"
     ]
    },
    {
     "name": "stdout",
     "output_type": "stream",
     "text": [
      "    Selected: Node 5, Value -0.468\n",
      "    Scores - PIG: 0.691, EEIG: 0.009\n",
      "    Alpha (utility weight): 0.764\n",
      "\n",
      "Iteration 44/50\n",
      "  Updating utility function...\n",
      "    Epoch 0, Loss: -51.1768\n",
      "    Epoch 20, Loss: -52.7004\n",
      "    Epoch 40, Loss: -54.2425\n",
      "  Updating causal posterior...\n",
      "  Selecting next intervention...\n"
     ]
    },
    {
     "name": "stderr",
     "output_type": "stream",
     "text": [
      " 88%|████████▊ | 44/50 [00:30<00:03,  1.51it/s]"
     ]
    },
    {
     "name": "stdout",
     "output_type": "stream",
     "text": [
      "    Selected: Node 3, Value 0.855\n",
      "    Scores - PIG: 0.690, EEIG: 0.008\n",
      "    Alpha (utility weight): 0.790\n",
      "\n",
      "Iteration 45/50\n",
      "  Updating utility function...\n",
      "    Epoch 0, Loss: -56.0645\n",
      "    Epoch 20, Loss: -57.6932\n",
      "    Epoch 40, Loss: -59.2694\n",
      "  Updating causal posterior...\n",
      "  Selecting next intervention...\n"
     ]
    },
    {
     "name": "stderr",
     "output_type": "stream",
     "text": [
      " 90%|█████████ | 45/50 [00:30<00:03,  1.49it/s]"
     ]
    },
    {
     "name": "stdout",
     "output_type": "stream",
     "text": [
      "    Selected: Node 3, Value -1.220\n",
      "    Scores - PIG: 0.693, EEIG: 0.008\n",
      "    Alpha (utility weight): 0.816\n",
      "\n",
      "Iteration 46/50\n",
      "  Updating utility function...\n",
      "    Epoch 0, Loss: -60.0062\n",
      "    Epoch 20, Loss: -61.6182\n",
      "    Epoch 40, Loss: -63.2378\n",
      "  Updating causal posterior...\n",
      "  Selecting next intervention...\n"
     ]
    },
    {
     "name": "stderr",
     "output_type": "stream",
     "text": [
      " 92%|█████████▏| 46/50 [00:31<00:02,  1.48it/s]"
     ]
    },
    {
     "name": "stdout",
     "output_type": "stream",
     "text": [
      "    Selected: Node 3, Value -0.442\n",
      "    Scores - PIG: 0.691, EEIG: 0.014\n",
      "    Alpha (utility weight): 0.842\n",
      "\n",
      "Iteration 47/50\n",
      "  Updating utility function...\n",
      "    Epoch 0, Loss: -63.4692\n",
      "    Epoch 20, Loss: -65.1056\n",
      "    Epoch 40, Loss: -66.7560\n",
      "  Updating causal posterior...\n",
      "  Selecting next intervention...\n"
     ]
    },
    {
     "name": "stderr",
     "output_type": "stream",
     "text": [
      " 94%|█████████▍| 47/50 [00:32<00:02,  1.42it/s]"
     ]
    },
    {
     "name": "stdout",
     "output_type": "stream",
     "text": [
      "    Selected: Node 5, Value -1.541\n",
      "    Scores - PIG: 0.672, EEIG: 0.005\n",
      "    Alpha (utility weight): 0.869\n",
      "\n",
      "Iteration 48/50\n",
      "  Updating utility function...\n",
      "    Epoch 0, Loss: -67.3364\n",
      "    Epoch 20, Loss: -68.9977\n",
      "    Epoch 40, Loss: -70.6812\n",
      "  Updating causal posterior...\n",
      "  Selecting next intervention...\n"
     ]
    },
    {
     "name": "stderr",
     "output_type": "stream",
     "text": [
      " 96%|█████████▌| 48/50 [00:33<00:01,  1.45it/s]"
     ]
    },
    {
     "name": "stdout",
     "output_type": "stream",
     "text": [
      "    Selected: Node 3, Value -1.686\n",
      "    Scores - PIG: 0.693, EEIG: 0.005\n",
      "    Alpha (utility weight): 0.895\n",
      "\n",
      "Iteration 49/50\n",
      "  Updating utility function...\n",
      "    Epoch 0, Loss: -70.8535\n",
      "    Epoch 20, Loss: -72.5586\n",
      "    Epoch 40, Loss: -74.2706\n",
      "  Updating causal posterior...\n",
      "  Selecting next intervention...\n"
     ]
    },
    {
     "name": "stderr",
     "output_type": "stream",
     "text": [
      " 98%|█████████▊| 49/50 [00:33<00:00,  1.47it/s]"
     ]
    },
    {
     "name": "stdout",
     "output_type": "stream",
     "text": [
      "    Selected: Node 4, Value -1.091\n",
      "    Scores - PIG: 0.693, EEIG: 0.015\n",
      "    Alpha (utility weight): 0.923\n",
      "\n",
      "Iteration 50/50\n",
      "  Updating utility function...\n",
      "    Epoch 0, Loss: -74.1740\n",
      "    Epoch 20, Loss: -75.9505\n",
      "    Epoch 40, Loss: -77.7451\n",
      "  Updating causal posterior...\n",
      "  Selecting next intervention...\n"
     ]
    },
    {
     "name": "stderr",
     "output_type": "stream",
     "text": [
      "100%|██████████| 50/50 [00:34<00:00,  1.45it/s]"
     ]
    },
    {
     "name": "stdout",
     "output_type": "stream",
     "text": [
      "    Selected: Node 2, Value -1.760\n",
      "    Scores - PIG: 0.692, EEIG: 0.011\n",
      "    Alpha (utility weight): 0.950\n",
      "  SHD: 17.00, Edge prob error (avg over locals): 0.549\n",
      "  Utility error: 0.000\n",
      "  X1: P(parents→X1) = {'X2': 0.542, 'X3': 0.969, 'X4': 1.0, 'X5': 0.53}\n",
      "  X1: MAP parents = ((1, 1, 1, 1), 0.2780889761416619)\n",
      "  X2: P(parents→X2) = {'X1': 0.515, 'X3': 0.785, 'X4': 0.495, 'X5': 0.651}\n",
      "  X2: MAP parents = ((1, 1, 0, 1), 0.13407721497620426)\n",
      "  X3: P(parents→X3) = {'X1': 0.967, 'X2': 0.735, 'X4': 1.0, 'X5': 0.53}\n",
      "  X3: MAP parents = ((1, 1, 1, 1), 0.3760375363389243)\n",
      "  X4: P(parents→X4) = {'X1': 1.0, 'X2': 0.705, 'X3': 1.0, 'X5': 0.519}\n",
      "  X4: MAP parents = ((1, 1, 1, 1), 0.36547691081142514)\n",
      "  X5: P(parents→X5) = {'X1': 0.51, 'X2': 0.535, 'X3': 0.563, 'X4': 0.536}\n",
      "  X5: MAP parents = ((1, 1, 1, 0), 0.0807923639907879)\n",
      "  Y: P(parents→Y) = {'X1': 1.0, 'X2': 0.864, 'X3': 0.99, 'X4': 0.78, 'X5': 0.987}\n",
      "  Y: MAP parents = ((1, 1, 1, 1, 1), 0.6600329907072959)\n",
      "  Noise parameter (s): 1.307\n"
     ]
    },
    {
     "name": "stderr",
     "output_type": "stream",
     "text": [
      "\n"
     ]
    }
   ],
   "source": [
    "# Initialize PCBO\n",
    "pcbo = PCBO(dataset, device, n_iterations=n_iterations)\n",
    "\n",
    "print(\"Adding initial diverse interventions...\")\n",
    "for node in range(n_nodes):\n",
    "    for value in [-1.5, 0.0, 1.5]:\n",
    "        outcome = dataset._compute_intervention_outcome(node, value)\n",
    "        for lp in pcbo.local_posts.values():\n",
    "            lp.add_datapoint_full(outcome, node)\n",
    "            \n",
    "# Update posteriors immediately\n",
    "for lp in pcbo.local_posts.values():\n",
    "    if lp.num_datapoints() >= 3:\n",
    "        lp.update_posterior()\n",
    "\n",
    "# Use initial preferences from dataset\n",
    "all_queries = list(dataset.queries)\n",
    "for query in all_queries:\n",
    "    pcbo.pref_dataset.add_from_query(query)\n",
    "\n",
    "# Run PCBO iterations\n",
    "print(\"Starting PCBO iterations...\")\n",
    "for iteration in tqdm(range(n_iterations)):\n",
    "    print(f\"\\nIteration {iteration + 1}/{n_iterations}\")\n",
    "    \n",
    "    # Run one iteration\n",
    "    new_query = pcbo.run_iteration(all_queries, iteration)\n",
    "    all_queries.append(new_query)\n",
    "    \n",
    "    # Evaluate performance\n",
    "    shd, util_error, edge_prob_error = pcbo._evaluate_current_performance()\n",
    "    pcbo.iteration_history.append(iteration)\n",
    "    pcbo.graph_distances.append(shd)\n",
    "    pcbo.utility_errors.append(util_error)\n",
    "    pcbo.edge_prob_errors.append(edge_prob_error)\n",
    "    \n",
    "    # Print progress every 10 iterations\n",
    "    if (iteration + 1) % 10 == 0:\n",
    "        print(f\"  SHD: {shd:.2f}, Edge prob error (avg over locals): {edge_prob_error:.3f}\")\n",
    "        print(f\"  Utility error: {util_error:.3f}\")\n",
    "        for tgt, lp in pcbo.local_posts.items():\n",
    "            probs = lp.edge_posterior().cpu().numpy()\n",
    "            pnames = [pcbo.node_names[i] for i in lp.parent_idx]\n",
    "            tname = pcbo.node_names[lp.target_idx]\n",
    "            print(f\"  {tname}: P(parents→{tname}) = {dict(zip(pnames, np.round(probs,3)))}\")\n",
    "            print(f\"  {tname}: MAP parents = {lp.most_probable_set()}\")\n",
    "        print(f\"  Noise parameter (s): {pcbo.pref_flow.s.item():.3f}\")\n"
   ]
  },
  {
   "cell_type": "markdown",
   "id": "d5e32c73",
   "metadata": {},
   "source": [
    "## Baselines"
   ]
  },
  {
   "cell_type": "code",
   "execution_count": 20,
   "id": "2799e66e",
   "metadata": {},
   "outputs": [],
   "source": [
    "class CausalDiscoveryBaselines:\n",
    "    \"\"\"Collection of baseline causal discovery methods\"\"\"\n",
    "    \n",
    "    def __init__(self, n_nodes, device='cpu'):\n",
    "        self.n_nodes = n_nodes\n",
    "        self.device = device\n",
    "        self.data_buffer = []\n",
    "        \n",
    "    def add_data(self, intervention_node, outcome):\n",
    "        \"\"\"Add intervention data\"\"\"\n",
    "        self.data_buffer.append({\n",
    "            'intervention_node': intervention_node,\n",
    "            'outcome': outcome.cpu().numpy() if torch.is_tensor(outcome) else outcome\n",
    "        })\n",
    "    \n",
    "    def get_data_matrix(self):\n",
    "        \"\"\"Convert buffer to data matrix for observational methods\"\"\"\n",
    "        if not self.data_buffer:\n",
    "            return None, None\n",
    "            \n",
    "        X = np.array([d['outcome'] for d in self.data_buffer])\n",
    "        interventions = np.array([d['intervention_node'] for d in self.data_buffer])\n",
    "        return X, interventions\n",
    "    \n",
    "    def random_baseline(self, sparsity=0.3):\n",
    "        \"\"\"Random DAG with given sparsity\"\"\"\n",
    "        adj = np.random.random((self.n_nodes, self.n_nodes))\n",
    "        adj = (adj < sparsity).astype(int)\n",
    "        # Remove lower triangle to ensure DAG\n",
    "        adj = np.triu(adj, k=1)\n",
    "        return adj\n",
    "    \n",
    "    def fully_connected_baseline(self):\n",
    "        \"\"\"Fully connected DAG (upper triangular)\"\"\"\n",
    "        adj = np.ones((self.n_nodes, self.n_nodes))\n",
    "        adj = np.triu(adj, k=1)\n",
    "        return adj.astype(int)\n",
    "    \n",
    "    def lasso_baseline(self, alpha=0.1):\n",
    "        \"\"\"\n",
    "        LASSO regression for each node to identify parents.\n",
    "        Simple but often effective baseline.\n",
    "        \"\"\"\n",
    "        X, _ = self.get_data_matrix()\n",
    "        if X is None or len(X) < 10:\n",
    "            return self.random_baseline()\n",
    "        \n",
    "        adj = np.zeros((self.n_nodes, self.n_nodes))\n",
    "        \n",
    "        for target in range(self.n_nodes):\n",
    "            # Use all other nodes as potential parents\n",
    "            mask = np.ones(self.n_nodes, dtype=bool)\n",
    "            mask[target] = False\n",
    "            \n",
    "            X_parents = X[:, mask]\n",
    "            y_target = X[:, target]\n",
    "            \n",
    "            # Standardize\n",
    "            scaler_X = StandardScaler()\n",
    "            scaler_y = StandardScaler()\n",
    "            X_scaled = scaler_X.fit_transform(X_parents)\n",
    "            y_scaled = scaler_y.fit_transform(y_target.reshape(-1, 1)).ravel()\n",
    "            \n",
    "            # LASSO with cross-validation\n",
    "            try:\n",
    "                lasso = LassoCV(cv=5, max_iter=1000, random_state=42)\n",
    "                lasso.fit(X_scaled, y_scaled)\n",
    "                \n",
    "                # Non-zero coefficients indicate edges\n",
    "                parent_idx = np.where(mask)[0]\n",
    "                for i, coef in enumerate(lasso.coef_):\n",
    "                    if abs(coef) > 0.01:  # Threshold for considering an edge\n",
    "                        adj[parent_idx[i], target] = 1\n",
    "            except:\n",
    "                # If LASSO fails, use correlation\n",
    "                for i, parent in enumerate(parent_idx):\n",
    "                    corr = np.corrcoef(X[:, parent], y_target)[0, 1]\n",
    "                    if abs(corr) > 0.3:\n",
    "                        adj[parent, target] = 1\n",
    "                        \n",
    "        return adj.astype(int)\n",
    "    \n",
    "    def pc_skeleton(self, alpha=0.05):\n",
    "        \"\"\"\n",
    "        Simplified PC algorithm - finds skeleton using correlation tests.\n",
    "        Note: This is a simplified version without orientation rules.\n",
    "        \"\"\"\n",
    "        X, _ = self.get_data_matrix()\n",
    "        if X is None or len(X) < 20:\n",
    "            return self.random_baseline()\n",
    "        \n",
    "        from scipy import stats\n",
    "        \n",
    "        # Start with complete graph\n",
    "        adj = np.ones((self.n_nodes, self.n_nodes)) - np.eye(self.n_nodes)\n",
    "        \n",
    "        # Test marginal independence\n",
    "        for i in range(self.n_nodes):\n",
    "            for j in range(i+1, self.n_nodes):\n",
    "                # Test correlation\n",
    "                corr, p_value = stats.pearsonr(X[:, i], X[:, j])\n",
    "                if p_value > alpha:\n",
    "                    adj[i, j] = 0\n",
    "                    adj[j, i] = 0\n",
    "        \n",
    "        # Test conditional independence (order 1 only for simplicity)\n",
    "        for i in range(self.n_nodes):\n",
    "            for j in range(i+1, self.n_nodes):\n",
    "                if adj[i, j] == 0:\n",
    "                    continue\n",
    "                    \n",
    "                # Test conditioning on each other variable\n",
    "                for k in range(self.n_nodes):\n",
    "                    if k == i or k == j:\n",
    "                        continue\n",
    "                    \n",
    "                    # Partial correlation\n",
    "                    try:\n",
    "                        # Regress out k from both i and j\n",
    "                        resid_i = X[:, i] - LinearRegression().fit(\n",
    "                            X[:, k].reshape(-1, 1), X[:, i]\n",
    "                        ).predict(X[:, k].reshape(-1, 1))\n",
    "                        \n",
    "                        resid_j = X[:, j] - LinearRegression().fit(\n",
    "                            X[:, k].reshape(-1, 1), X[:, j]\n",
    "                        ).predict(X[:, k].reshape(-1, 1))\n",
    "                        \n",
    "                        corr, p_value = stats.pearsonr(resid_i, resid_j)\n",
    "                        if p_value > alpha:\n",
    "                            adj[i, j] = 0\n",
    "                            adj[j, i] = 0\n",
    "                            break\n",
    "                    except:\n",
    "                        pass\n",
    "        \n",
    "        # Convert to DAG by removing cycles (simple heuristic)\n",
    "        return self._orient_skeleton(adj)\n",
    "    \n",
    "    def _orient_skeleton(self, skeleton):\n",
    "        \"\"\"Simple orientation: use topological order based on variance\"\"\"\n",
    "        X, _ = self.get_data_matrix()\n",
    "        if X is None:\n",
    "            return np.triu(skeleton, k=1)\n",
    "        \n",
    "        # Order nodes by variance (assumption: causes have higher variance)\n",
    "        variances = np.var(X, axis=0)\n",
    "        order = np.argsort(-variances)  # High variance first\n",
    "        \n",
    "        # Create DAG following this order\n",
    "        adj = np.zeros_like(skeleton)\n",
    "        for i, node_i in enumerate(order):\n",
    "            for j, node_j in enumerate(order[i+1:], i+1):\n",
    "                if skeleton[node_i, node_j] > 0 or skeleton[node_j, node_i] > 0:\n",
    "                    adj[node_i, node_j] = 1\n",
    "                    \n",
    "        return adj.astype(int)\n",
    "    \n",
    "    def notears_linear(self, lambda1=0.1, max_iter=100):\n",
    "        \"\"\"\n",
    "        Simplified NOTEARS for linear relationships.\n",
    "        Based on: https://arxiv.org/abs/1803.01422\n",
    "        \"\"\"\n",
    "        X, _ = self.get_data_matrix()\n",
    "        if X is None or len(X) < 20:\n",
    "            return self.random_baseline()\n",
    "        \n",
    "        n, d = X.shape\n",
    "        \n",
    "        # Initialize\n",
    "        W = np.zeros((d, d))\n",
    "        \n",
    "        # Simplified version: use LASSO for each node with acyclicity penalty\n",
    "        for iteration in range(max_iter):\n",
    "            W_old = W.copy()\n",
    "            \n",
    "            for j in range(d):\n",
    "                # Solve for column j\n",
    "                X_j = X[:, j]\n",
    "                X_others = X.copy()\n",
    "                \n",
    "                # LASSO regression\n",
    "                lasso = LassoCV(cv=3, max_iter=500, random_state=42)\n",
    "                try:\n",
    "                    lasso.fit(X_others, X_j)\n",
    "                    W[:, j] = lasso.coef_\n",
    "                    W[j, j] = 0  # No self-loops\n",
    "                except:\n",
    "                    pass\n",
    "            \n",
    "            # Project to DAG (remove cycles)\n",
    "            W = self._project_to_dag(W)\n",
    "            \n",
    "            # Check convergence\n",
    "            if np.sum(np.abs(W - W_old)) < 1e-3:\n",
    "                break\n",
    "        \n",
    "        # Threshold small weights\n",
    "        adj = (np.abs(W) > 0.1).astype(int)\n",
    "        return adj\n",
    "    \n",
    "    def _project_to_dag(self, W):\n",
    "        \"\"\"Project weight matrix to DAG by removing cycles\"\"\"\n",
    "        # Simple heuristic: threshold and order by weight magnitude\n",
    "        threshold = np.percentile(np.abs(W[W != 0]), 30) if np.any(W != 0) else 0.1\n",
    "        W_thresh = W * (np.abs(W) > threshold)\n",
    "        \n",
    "        # Remove cycles by keeping only upper triangular after reordering\n",
    "        # Order nodes by total absolute incoming weight\n",
    "        scores = np.sum(np.abs(W_thresh), axis=0)\n",
    "        order = np.argsort(scores)\n",
    "        \n",
    "        W_ordered = W_thresh[order][:, order]\n",
    "        W_dag = np.triu(W_ordered, k=1)\n",
    "        \n",
    "        # Reorder back\n",
    "        W_final = np.zeros_like(W)\n",
    "        for i, oi in enumerate(order):\n",
    "            for j, oj in enumerate(order):\n",
    "                W_final[oi, oj] = W_dag[i, j]\n",
    "                \n",
    "        return W_final\n",
    "    \n",
    "    def causal_sufficiency_baseline(self):\n",
    "        \"\"\"\n",
    "        Assumes causal sufficiency and uses simple heuristics.\n",
    "        Good baseline when you believe all relevant variables are measured.\n",
    "        \"\"\"\n",
    "        X, interventions = self.get_data_matrix()\n",
    "        if X is None or len(X) < 10:\n",
    "            return self.random_baseline()\n",
    "        \n",
    "        adj = np.zeros((self.n_nodes, self.n_nodes))\n",
    "        \n",
    "        # For each pair of nodes\n",
    "        for i in range(self.n_nodes):\n",
    "            for j in range(self.n_nodes):\n",
    "                if i == j:\n",
    "                    continue\n",
    "                \n",
    "                # Get data where we intervened on i\n",
    "                mask_i = interventions == i\n",
    "                if np.sum(mask_i) < 3:\n",
    "                    continue\n",
    "                \n",
    "                # Check if j changes when we intervene on i\n",
    "                if np.sum(mask_i) > 0:\n",
    "                    # Compare j's distribution with and without intervention on i\n",
    "                    j_with_int = X[mask_i, j]\n",
    "                    j_without = X[~mask_i, j]\n",
    "                    \n",
    "                    if len(j_without) > 0:\n",
    "                        # Simple t-test\n",
    "                        from scipy import stats\n",
    "                        _, p_value = stats.ttest_ind(j_with_int, j_without)\n",
    "                        \n",
    "                        if p_value < 0.05:  # Significant change\n",
    "                            adj[i, j] = 1\n",
    "        \n",
    "        return adj.astype(int)"
   ]
  },
  {
   "cell_type": "code",
   "execution_count": 21,
   "id": "47918695",
   "metadata": {},
   "outputs": [
    {
     "name": "stdout",
     "output_type": "stream",
     "text": [
      "============================================================\n",
      "RUNNING BASELINE COMPARISONS\n",
      "============================================================\n",
      "\n",
      "Adding 70 queries to baseline methods...\n",
      "\n",
      "1. Random Baseline (sparsity=0.3):\n",
      "   SHD: 9\n",
      "\n",
      "2. LASSO Baseline:\n",
      "   SHD: 18\n",
      "   Edges found: 24\n",
      "\n",
      "3. PC Algorithm (Skeleton):\n",
      "   SHD: 6\n",
      "   Edges found: 4\n",
      "\n",
      "4. Simplified NOTEARS:\n",
      "   SHD: 6\n",
      "   Edges found: 0\n",
      "\n",
      "5. Causal Sufficiency Baseline:\n",
      "   SHD: 8\n",
      "   Edges found: 2\n",
      "\n",
      "6. Fully Connected Baseline:\n",
      "   SHD: 9\n"
     ]
    }
   ],
   "source": [
    "print(\"=\"*60)\n",
    "print(\"RUNNING BASELINE COMPARISONS\")\n",
    "print(\"=\"*60)\n",
    "\n",
    "# Initialize baselines\n",
    "baselines = CausalDiscoveryBaselines(n_nodes=6)\n",
    "\n",
    "# Add all intervention data to baselines\n",
    "print(f\"\\nAdding {len(all_queries)} queries to baseline methods...\")\n",
    "for query in all_queries:\n",
    "    for i, (node, val) in enumerate(query['interventions']):\n",
    "        outcome = query['outcomes'][i]\n",
    "        baselines.add_data(node, outcome)\n",
    "\n",
    "# Run each baseline\n",
    "baseline_results = {}\n",
    "\n",
    "print(\"\\n1. Random Baseline (sparsity=0.3):\")\n",
    "random_adj = baselines.random_baseline(sparsity=0.3)\n",
    "random_shd = torch.sum(torch.abs(torch.tensor(random_adj) - true_adj)).item()\n",
    "print(f\"   SHD: {random_shd:.0f}\")\n",
    "baseline_results['Random'] = {'adj': random_adj, 'shd': random_shd}\n",
    "\n",
    "print(\"\\n2. LASSO Baseline:\")\n",
    "lasso_adj = baselines.lasso_baseline(alpha=0.1)\n",
    "lasso_shd = torch.sum(torch.abs(torch.tensor(lasso_adj) - true_adj)).item()\n",
    "print(f\"   SHD: {lasso_shd:.0f}\")\n",
    "print(f\"   Edges found: {np.sum(lasso_adj)}\")\n",
    "baseline_results['LASSO'] = {'adj': lasso_adj, 'shd': lasso_shd}\n",
    "\n",
    "print(\"\\n3. PC Algorithm (Skeleton):\")\n",
    "pc_adj = baselines.pc_skeleton(alpha=0.05)\n",
    "pc_shd = torch.sum(torch.abs(torch.tensor(pc_adj) - true_adj)).item()\n",
    "print(f\"   SHD: {pc_shd:.0f}\")\n",
    "print(f\"   Edges found: {np.sum(pc_adj)}\")\n",
    "baseline_results['PC'] = {'adj': pc_adj, 'shd': pc_shd}\n",
    "\n",
    "print(\"\\n4. Simplified NOTEARS:\")\n",
    "notears_adj = baselines.notears_linear(lambda1=0.1)\n",
    "notears_shd = torch.sum(torch.abs(torch.tensor(notears_adj) - true_adj)).item()\n",
    "print(f\"   SHD: {notears_shd:.0f}\")\n",
    "print(f\"   Edges found: {np.sum(notears_adj)}\")\n",
    "baseline_results['NOTEARS'] = {'adj': notears_adj, 'shd': notears_shd}\n",
    "\n",
    "print(\"\\n5. Causal Sufficiency Baseline:\")\n",
    "cs_adj = baselines.causal_sufficiency_baseline()\n",
    "cs_shd = torch.sum(torch.abs(torch.tensor(cs_adj) - true_adj)).item()\n",
    "print(f\"   SHD: {cs_shd:.0f}\")\n",
    "print(f\"   Edges found: {np.sum(cs_adj)}\")\n",
    "baseline_results['Causal Sufficiency'] = {'adj': cs_adj, 'shd': cs_shd}\n",
    "\n",
    "print(\"\\n6. Fully Connected Baseline:\")\n",
    "full_adj = baselines.fully_connected_baseline()\n",
    "full_shd = torch.sum(torch.abs(torch.tensor(full_adj) - true_adj)).item()\n",
    "print(f\"   SHD: {full_shd:.0f}\")\n",
    "baseline_results['Fully Connected'] = {'adj': full_adj, 'shd': full_shd}"
   ]
  },
  {
   "cell_type": "code",
   "execution_count": 22,
   "id": "fe9724e5",
   "metadata": {},
   "outputs": [
    {
     "name": "stdout",
     "output_type": "stream",
     "text": [
      "\n",
      "============================================================\n",
      "COMPARISON SUMMARY\n",
      "============================================================\n",
      "\n",
      "True graph has 6 edges\n",
      "Maximum possible SHD: 30\n",
      "\n",
      "Method               SHD        Edge Count     \n",
      "---------------------------------------------\n",
      "PCBO (Ours)          17         -              \n",
      "Random               9          5              \n",
      "LASSO                18         24             \n",
      "PC                   6          4              \n",
      "NOTEARS              6          0              \n",
      "Causal Sufficiency   8          2              \n",
      "Fully Connected      9          15             \n",
      "\n",
      "Best baseline: PC with SHD=6\n",
      "PCBO vs best baseline: 17 vs 6\n"
     ]
    }
   ],
   "source": [
    "print(\"\\n\" + \"=\"*60)\n",
    "print(\"COMPARISON SUMMARY\")\n",
    "print(\"=\"*60)\n",
    "\n",
    "print(f\"\\nTrue graph has {np.sum(true_adj.numpy())} edges\")\n",
    "print(f\"Maximum possible SHD: {n_nodes * (n_nodes - 1)}\")\n",
    "\n",
    "print(\"\\n{:<20} {:<10} {:<15}\".format(\"Method\", \"SHD\", \"Edge Count\"))\n",
    "print(\"-\"*45)\n",
    "\n",
    "# Add PCBO result\n",
    "final_shd = pcbo.graph_distances[-1] if pcbo.graph_distances else 0\n",
    "print(\"{:<20} {:<10.0f} {:<15}\".format(\"PCBO (Ours)\", final_shd, \"-\"))\n",
    "\n",
    "# Baselines\n",
    "for name, result in baseline_results.items():\n",
    "    edge_count = np.sum(result['adj'])\n",
    "    print(\"{:<20} {:<10.0f} {:<15.0f}\".format(name, result['shd'], edge_count))\n",
    "\n",
    "# Find best baseline\n",
    "best_baseline = min(baseline_results.items(), key=lambda x: x[1]['shd'])\n",
    "print(f\"\\nBest baseline: {best_baseline[0]} with SHD={best_baseline[1]['shd']:.0f}\")\n",
    "print(f\"PCBO vs best baseline: {final_shd:.0f} vs {best_baseline[1]['shd']:.0f}\")"
   ]
  },
  {
   "cell_type": "markdown",
   "id": "9e7bc24f",
   "metadata": {},
   "source": [
    "### Visualize Best Baseline"
   ]
  },
  {
   "cell_type": "code",
   "execution_count": 23,
   "id": "2a744ce2",
   "metadata": {},
   "outputs": [
    {
     "data": {
      "image/png": "[encoded data removed]",
      "text/plain": [
       "<Figure size 1500x500 with 3 Axes>"
      ]
     },
     "metadata": {},
     "output_type": "display_data"
    },
    {
     "name": "stdout",
     "output_type": "stream",
     "text": [
      "\n",
      "Note: These baselines use the intervention data but don't leverage\n",
      "preference information, which is why PCBO should eventually outperform them\n",
      "with proper tuning.\n"
     ]
    }
   ],
   "source": [
    "fig, axes = plt.subplots(1, 3, figsize=(15, 5))\n",
    "\n",
    "# True graph\n",
    "ax = axes[0]\n",
    "G_true = nx.DiGraph(true_adj.numpy())\n",
    "pos = nx.spring_layout(G_true, seed=42)\n",
    "nx.draw(G_true, pos, ax=ax, with_labels=True, \n",
    "        labels={i: node_names[i] for i in range(n_nodes)},\n",
    "        node_color='lightblue', node_size=1000, font_size=12)\n",
    "ax.set_title(\"True DAG\")\n",
    "\n",
    "# Best baseline\n",
    "ax = axes[1]\n",
    "G_baseline = nx.DiGraph(best_baseline[1]['adj'])\n",
    "nx.draw(G_baseline, pos, ax=ax, with_labels=True,\n",
    "        labels={i: node_names[i] for i in range(n_nodes)},\n",
    "        node_color='lightgreen', node_size=1000, font_size=12)\n",
    "ax.set_title(f\"Best Baseline: {best_baseline[0]}\")\n",
    "\n",
    "# PCBO result (using final learned adjacency)\n",
    "ax = axes[2]\n",
    "learned_adj = torch.zeros_like(true_adj)\n",
    "for lp in pcbo.local_posts.values():\n",
    "    mask, _ = lp.most_probable_set()\n",
    "    for k, is_parent in enumerate(mask):\n",
    "        if is_parent:\n",
    "            src = lp.parent_idx[k]\n",
    "            learned_adj[src, lp.target_idx] = 1\n",
    "G_pcbo = nx.DiGraph(learned_adj.numpy())\n",
    "nx.draw(G_pcbo, pos, ax=ax, with_labels=True,\n",
    "        labels={i: node_names[i] for i in range(n_nodes)},\n",
    "        node_color='lightyellow', node_size=1000, font_size=12)\n",
    "ax.set_title(\"PCBO Result\")\n",
    "\n",
    "plt.tight_layout()\n",
    "plt.show()\n",
    "\n",
    "print(\"\\nNote: These baselines use the intervention data but don't leverage\")\n",
    "print(\"preference information, which is why PCBO should eventually outperform them\")\n",
    "print(\"with proper tuning.\")"
   ]
  },
  {
   "cell_type": "markdown",
   "id": "373b8084",
   "metadata": {},
   "source": [
    "## Visualize Results"
   ]
  },
  {
   "cell_type": "code",
   "execution_count": 24,
   "id": "cfb9a2f6",
   "metadata": {},
   "outputs": [
    {
     "data": {
      "image/png": "[encoded data removed]",
      "text/plain": [
       "<Figure size 1500x800 with 7 Axes>"
      ]
     },
     "metadata": {},
     "output_type": "display_data"
    }
   ],
   "source": [
    "# Create comprehensive visualization\n",
    "fig, axes = plt.subplots(2, 3, figsize=(15, 8))\n",
    "\n",
    "# 1. Graph Learning Progress (SHD)\n",
    "axes[0, 0].plot(pcbo.iteration_history, pcbo.graph_distances, 'b-', label='SHD')\n",
    "axes[0, 0].set_xlabel(\"Iteration\")\n",
    "axes[0, 0].set_ylabel(\"Structural Hamming Distance\")\n",
    "axes[0, 0].set_title(\"Graph Learning Progress (SHD)\")\n",
    "axes[0, 0].set_ylim([-0.5, 4.5])\n",
    "axes[0, 0].legend()\n",
    "\n",
    "# 2. Edge Probability Error (Smoother metric)\n",
    "axes[0, 1].plot(pcbo.iteration_history, pcbo.edge_prob_errors, 'g-', label='Edge Prob Error')\n",
    "axes[0, 1].set_xlabel(\"Iteration\")\n",
    "axes[0, 1].set_ylabel(\"Mean Edge Probability Error\")\n",
    "axes[0, 1].set_title(\"Graph Learning Progress (Smooth)\")\n",
    "axes[0, 1].set_ylim([0, 1])\n",
    "axes[0, 1].legend()\n",
    "\n",
    "# 3. Utility Learning Progress\n",
    "axes[0, 2].plot(pcbo.iteration_history, pcbo.utility_errors, 'r-', label='Utility Error')\n",
    "axes[0, 2].set_xlabel(\"Iteration\")\n",
    "axes[0, 2].set_ylabel(\"Preference Prediction Error\")\n",
    "axes[0, 2].set_title(\"Utility Learning Progress\")\n",
    "axes[0, 2].set_ylim([0, 1])\n",
    "axes[0, 2].legend()\n",
    "\n",
    "# 4. Final Edge Probabilities\n",
    "edge_probs = pcbo.parent_posterior.edge_posterior().cpu().numpy()\n",
    "pnames = [pcbo.node_names[i] for i in pcbo.parent_posterior.parent_idx]\n",
    "axes[1, 0].bar(pnames, edge_probs)\n",
    "axes[1, 0].axhline(y=1.0, color='r', linestyle='--', label='True edge')\n",
    "axes[1, 0].set_ylabel(\"Posterior Probability\")\n",
    "axes[1, 0].set_title(f\"Learned P(parent → {pcbo.node_names[pcbo.parent_posterior.target_idx]})\")\n",
    "axes[1, 0].set_ylim([0, 1.1])\n",
    "axes[1, 0].legend()\n",
    "\n",
    "# 5. Selected Interventions Over Time\n",
    "if len(pcbo.selected_interventions) > 0:\n",
    "    interventions_array = np.array(pcbo.selected_interventions)\n",
    "    scatter = axes[1, 1].scatter(\n",
    "        interventions_array[:, 0], interventions_array[:, 1],\n",
    "        c=range(len(interventions_array)), cmap='viridis', s=50\n",
    "    )\n",
    "    plt.colorbar(scatter, ax=axes[1, 1], label='Iteration')\n",
    "else:\n",
    "    axes[1, 1].text(0.5, 0.5, \"No interventions yet\",\n",
    "                    ha='center', va='center', transform=axes[1, 1].transAxes)\n",
    "axes[1, 1].set_xlabel(\"Node Index\")\n",
    "axes[1, 1].set_ylabel(\"Intervention Value\")\n",
    "axes[1, 1].set_title(\"Selected Interventions Over Time\")\n",
    "axes[1, 1].set_xticks(list(range(len(pcbo.node_names))))\n",
    "axes[1, 1].set_xticklabels(pcbo.node_names)\n",
    "\n",
    "# 6. Preference Dataset Growth\n",
    "axes[1, 2].plot(range(len(all_queries)), [i for i in range(len(all_queries))], 'b-', label='Total Queries')\n",
    "axes[1, 2].plot(range(len(all_queries)), [min(i*2, len(pcbo.pref_dataset)) for i in range(len(all_queries))], \n",
    "               'g-', label='Preference Pairs')\n",
    "axes[1, 2].set_xlabel(\"Iteration\")\n",
    "axes[1, 2].set_ylabel(\"Count\")\n",
    "axes[1, 2].set_title(\"Data Accumulation\")\n",
    "axes[1, 2].legend()\n",
    "\n",
    "plt.tight_layout()\n",
    "plt.show()"
   ]
  },
  {
   "cell_type": "markdown",
   "id": "3666df3e",
   "metadata": {},
   "source": [
    "## Final Results and Analysis"
   ]
  },
  {
   "cell_type": "code",
   "execution_count": 25,
   "id": "351a1947",
   "metadata": {},
   "outputs": [
    {
     "name": "stdout",
     "output_type": "stream",
     "text": [
      "\n",
      "==================================================\n",
      "FINAL RESULTS\n",
      "==================================================\n",
      "\n",
      "True causal graph:\n",
      "[[0 0 0 1 0 1]\n",
      " [0 0 0 0 0 1]\n",
      " [0 0 0 1 0 1]\n",
      " [0 0 0 0 0 1]\n",
      " [0 0 0 0 0 0]\n",
      " [0 0 0 0 0 0]]\n",
      "\n",
      "Most probable parent set for Y: (1, 1, 1, 1, 1)\n",
      "Posterior probability: 0.660\n",
      "\n",
      "Edge posterior probabilities:\n",
      "  P(X1 → Y) = 1.000\n",
      "  P(X2 → Y) = 0.864\n",
      "  P(X3 → Y) = 0.990\n",
      "  P(X4 → Y) = 0.780\n",
      "  P(X5 → Y) = 0.987\n",
      "\n",
      "Final metrics:\n",
      "  SHD: 17.00\n",
      "  Edge probability error: 0.549\n",
      "  Utility prediction error: 0.000\n",
      "\n",
      "Learning efficiency:\n",
      "  Total queries: 70\n",
      "  Total preference comparisons: 70\n",
      "  Flow reinitializations: 0\n"
     ]
    },
    {
     "data": {
      "image/png": "[encoded data removed]",
      "text/plain": [
       "<Figure size 1000x500 with 3 Axes>"
      ]
     },
     "metadata": {},
     "output_type": "display_data"
    },
    {
     "name": "stdout",
     "output_type": "stream",
     "text": [
      "\n",
      "==================================================\n",
      "PCBO COMPLETE\n",
      "==================================================\n"
     ]
    }
   ],
   "source": [
    "print(\"\\n\" + \"=\"*50)\n",
    "print(\"FINAL RESULTS\")\n",
    "print(\"=\"*50)\n",
    "\n",
    "print(f\"\\nTrue causal graph:\")\n",
    "print(f\"{true_adj.numpy()}\")\n",
    "\n",
    "most_prob_parents, prob = pcbo.parent_posterior.most_probable_set()\n",
    "print(f\"\\nMost probable parent set for Y: {most_prob_parents}\")\n",
    "print(f\"Posterior probability: {prob:.3f}\")\n",
    "\n",
    "edge_probs = pcbo.parent_posterior.edge_posterior()\n",
    "print(f\"\\nEdge posterior probabilities:\")\n",
    "for j, pid in enumerate(pcbo.parent_posterior.parent_idx):\n",
    "    print(f\"  P({pcbo.node_names[pid]} → {pcbo.node_names[pcbo.parent_posterior.target_idx]}) = {edge_probs[j]:.3f}\")\n",
    "\n",
    "print(f\"\\nFinal metrics:\")\n",
    "print(f\"  SHD: {pcbo.graph_distances[-1]:.2f}\")\n",
    "print(f\"  Edge probability error: {pcbo.edge_prob_errors[-1]:.3f}\")\n",
    "print(f\"  Utility prediction error: {pcbo.utility_errors[-1]:.3f}\")\n",
    "\n",
    "print(f\"\\nLearning efficiency:\")\n",
    "print(f\"  Total queries: {len(all_queries)}\")\n",
    "print(f\"  Total preference comparisons: {len(pcbo.pref_dataset)}\")\n",
    "print(f\"  Flow reinitializations: {pcbo.reinitialization_count}\")\n",
    "\n",
    "# ---- Build learned graph & edge-prob matrix from all locals ----\n",
    "learned_adj_full = torch.zeros_like(true_adj)\n",
    "P_full = np.zeros_like(true_adj.cpu().numpy(), dtype=float)\n",
    "\n",
    "for tgt, lp in pcbo.local_posts.items():\n",
    "    # MAP edges for adjacency\n",
    "    mask, _ = lp.most_probable_set()\n",
    "    for j, is_parent in enumerate(mask):\n",
    "        if is_parent:\n",
    "            src = lp.parent_idx[j]\n",
    "            learned_adj_full[src, lp.target_idx] = 1\n",
    "\n",
    "    # Posterior edge probabilities into this target\n",
    "    probs = lp.edge_posterior().cpu().numpy()\n",
    "    for j, src in enumerate(lp.parent_idx):\n",
    "        P_full[src, lp.target_idx] = float(probs[j])\n",
    "\n",
    "# ---- Plot: ground truth vs learned (full) ----\n",
    "fig, (axL, axR) = plt.subplots(1, 2, figsize=(10, 5))\n",
    "plot_dag(true_adj.numpy(), names=node_names, edge_probs=(true_adj.numpy() > 0).astype(float), ax=axL)\n",
    "axL.set_title(\"Ground Truth DAG\")\n",
    "\n",
    "plot_dag(learned_adj_full.numpy(), names=node_names, edge_probs=P_full, ax=axR)\n",
    "axR.set_title(\"Learned DAG (all locals)\")\n",
    "plt.tight_layout(); plt.show()\n",
    "\n",
    "print(\"\\n\" + \"=\"*50)\n",
    "print(\"PCBO COMPLETE\")\n",
    "print(\"=\"*50)"
   ]
  },
  {
   "cell_type": "markdown",
   "id": "b6b8f109",
   "metadata": {},
   "source": [
    "### Show Only High-Confidence Edges (P(edge) >= 0.9)"
   ]
  },
  {
   "cell_type": "code",
   "execution_count": null,
   "id": "69989fec",
   "metadata": {},
   "outputs": [
    {
     "name": "stdout",
     "output_type": "stream",
     "text": [
      "\n",
      "High-confidence edges (P >= 0.75):\n",
      "  X1 → X3   (P = 0.967)\n",
      "  X1 → X4   (P = 1.000)\n",
      "  X1 → Y   (P = 1.000)\n",
      "  X2 → Y   (P = 0.864)\n",
      "  X3 → X1   (P = 0.969)\n",
      "  X3 → X2   (P = 0.785)\n",
      "  X3 → X4   (P = 1.000)\n",
      "  X3 → Y   (P = 0.990)\n",
      "  X4 → X1   (P = 1.000)\n",
      "  X4 → X3   (P = 1.000)\n",
      "  X4 → Y   (P = 0.780)\n",
      "  X5 → Y   (P = 0.987)\n",
      "\n",
      "High-confidence parents of Y (P >= 0.75):\n",
      "  X1 → Y   (P = 1.000)\n",
      "  X2 → Y   (P = 0.864)\n",
      "  X3 → Y   (P = 0.990)\n",
      "  X4 → Y   (P = 0.780)\n",
      "  X5 → Y   (P = 0.987)\n"
     ]
    },
    {
     "data": {
      "image/png": "[encoded data removed]",
      "text/plain": [
       "<Figure size 550x450 with 2 Axes>"
      ]
     },
     "metadata": {},
     "output_type": "display_data"
    }
   ],
   "source": [
    "threshold = 0.75\n",
    "\n",
    "# Use the edge-prob matrix we already built above (P_full)\n",
    "P_thresh = P_full.copy()\n",
    "adj_thresh = (P_thresh >= threshold).astype(int)\n",
    "\n",
    "# No self-loops\n",
    "np.fill_diagonal(adj_thresh, 0)\n",
    "\n",
    "kept = []\n",
    "for i in range(adj_thresh.shape[0]):\n",
    "    for j in range(adj_thresh.shape[1]):\n",
    "        if adj_thresh[i, j] == 1:\n",
    "            kept.append((pcbo.node_names[i], pcbo.node_names[j], P_thresh[i, j]))\n",
    "\n",
    "print(\"\\nHigh-confidence edges (P >= {:.2f}):\".format(threshold))\n",
    "if kept:\n",
    "    for src, tgt, p in kept:\n",
    "        print(f\"  {src} → {tgt}   (P = {p:.3f})\")\n",
    "else:\n",
    "    print(\"  (none)\")\n",
    "\n",
    "if hasattr(pcbo, \"parent_posterior\"):\n",
    "    y_idx = pcbo.parent_posterior.target_idx\n",
    "    print(\"\\nHigh-confidence parents of {} (P >= {:.2f}):\".format(pcbo.node_names[y_idx], threshold))\n",
    "    found = False\n",
    "    for i in range(adj_thresh.shape[0]):\n",
    "        if adj_thresh[i, y_idx] == 1:\n",
    "            print(f\"  {pcbo.node_names[i]} → {pcbo.node_names[y_idx]}   (P = {P_thresh[i, y_idx]:.3f})\")\n",
    "            found = True\n",
    "    if not found:\n",
    "        print(\"  (none)\")\n",
    "\n",
    "fig, ax = plt.subplots(1, 1, figsize=(5.5, 4.5))\n",
    "plot_dag(torch.tensor(adj_thresh), names=pcbo.node_names, edge_probs=P_thresh, ax=ax)\n",
    "ax.set_title(f\"Learned DAG (P(edge) ≥ {threshold:.2f})\")\n",
    "plt.tight_layout()\n",
    "plt.show()"
   ]
  }
 ],
 "metadata": {
  "kernelspec": {
   "display_name": "base",
   "language": "python",
   "name": "python3"
  },
  "language_info": {
   "codemirror_mode": {
    "name": "ipython",
    "version": 3
   },
   "file_extension": ".py",
   "mimetype": "text/x-python",
   "name": "python",
   "nbconvert_exporter": "python",
   "pygments_lexer": "ipython3",
   "version": "3.11.5"
  }
 },
 "nbformat": 4,
 "nbformat_minor": 5
}
